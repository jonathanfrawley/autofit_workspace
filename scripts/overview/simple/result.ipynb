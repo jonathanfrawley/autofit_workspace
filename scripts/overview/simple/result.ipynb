{
  "cells": [
    {
      "cell_type": "markdown",
      "metadata": {},
      "source": [
        "__Example: Result__\n",
        "\n",
        "In this example, we'll repeat the fit of 1D data of a `Gaussian` profile with a 1D `Gaussian` model using the non-linear\n",
        "search emcee and inspect the *Result* object that is returned in detail.\n",
        "\n",
        "If you haven't already, you should checkout the files `example/model.py`,`example/analysis.py` and `example/fit.py` to\n",
        "see how the fit is performed by the code below. The first section of code below is simmply repeating the commands in\n",
        "`example/fit.py`, so feel free to skip over it until you his the `Result`'s section."
      ]
    },
    {
      "cell_type": "code",
      "metadata": {},
      "source": [
        "#%matplotlib inline\n",
        "\n",
        "import autofit as af\n",
        "import model as m\n",
        "import analysis as a\n",
        "\n",
        "from os import path\n",
        "import matplotlib.pyplot as plt\n",
        "import numpy as np"
      ],
      "outputs": [],
      "execution_count": null
    },
    {
      "cell_type": "markdown",
      "metadata": {},
      "source": [
        "__Data__\n",
        "\n",
        "First, lets load data of a 1D Gaussian, by loading it from a .json file in the directory \n",
        "`autofit_workspace/dataset/`, which  simulates the noisy data we fit (check it out to see how we simulate the \n",
        "data)."
      ]
    },
    {
      "cell_type": "code",
      "metadata": {},
      "source": [
        "dataset_path = path.join(\"dataset\", \"example_1d\", \"gaussian_x1\")\n",
        "data = af.util.numpy_array_from_json(file_path=path.join(dataset_path, \"data.json\"))\n",
        "noise_map = af.util.numpy_array_from_json(\n",
        "    file_path=path.join(dataset_path, \"noise_map.json\")\n",
        ")"
      ],
      "outputs": [],
      "execution_count": null
    },
    {
      "cell_type": "markdown",
      "metadata": {},
      "source": [
        "__Model__\n",
        "\n",
        "Next, we create our model, which in this case corresponds to a single Gaussian. In model.py, you will have noted\n",
        "this `Gaussian` has 3 parameters (centre, intensity and sigma). These are the free parameters of our model that the\n",
        "non-linear search fits for, meaning the non-linear parameter space has dimensionality = 3."
      ]
    },
    {
      "cell_type": "code",
      "metadata": {},
      "source": [
        "model = af.Model(m.Gaussian)"
      ],
      "outputs": [],
      "execution_count": null
    },
    {
      "cell_type": "markdown",
      "metadata": {},
      "source": [
        "Checkout `autofit_workspace/config/priors` - this config file defines the default priors of all our model\n",
        "components. However, we can overwrite priors before running the `NonLinearSearch` as shown below."
      ]
    },
    {
      "cell_type": "code",
      "metadata": {},
      "source": [
        "model.centre = af.UniformPrior(lower_limit=0.0, upper_limit=100.0)\n",
        "model.intensity = af.LogUniformPrior(lower_limit=1e-2, upper_limit=1e2)\n",
        "model.sigma = af.GaussianPrior(\n",
        "    mean=10.0, sigma=5.0, lower_limit=0.0, upper_limit=np.inf\n",
        ")"
      ],
      "outputs": [],
      "execution_count": null
    },
    {
      "cell_type": "markdown",
      "metadata": {},
      "source": [
        "__Analysis__\n",
        "\n",
        "We now set up our Analysis, using the class described in `analysis.py`. The analysis describes how given an instance\n",
        "of our model (a Gaussian) we fit the data and return a log likelihood value. For this simple example, we only have to\n",
        "pass it the data and its noise-map."
      ]
    },
    {
      "cell_type": "code",
      "metadata": {},
      "source": [
        "analysis = a.Analysis(data=data, noise_map=noise_map)"
      ],
      "outputs": [],
      "execution_count": null
    },
    {
      "cell_type": "markdown",
      "metadata": {},
      "source": [
        "emcee = af.Emcee(\n",
        "    nwalkers=30,\n",
        "    nsteps=1000,\n",
        "    initializer=af.InitializerBall(lower_limit=0.49, upper_limit=0.51),\n",
        "    auto_correlations_settings=af.AutoCorrelationsSettings(\n",
        "        check_for_convergence=True,\n",
        "        check_size=100,\n",
        "        required_length=50,\n",
        "        change_threshold=0.01,\n",
        "    ),\n",
        "    number_of_cores=1,\n",
        ")\n",
        "\n",
        "result = emcee.fit(model=model, analysis=analysis)"
      ]
    },
    {
      "cell_type": "code",
      "metadata": {},
      "source": [
        "__Result__\n",
        "\n",
        "Here, we'll look in detail at what information is contained in the result.\n",
        "\n",
        "It contains a `Samples` object, which contains information on the non-linear sampling, for example the parameters. \n",
        "The parameters are stored as a list of lists, where the first entry corresponds to the sample index and second entry\n",
        "the parameter index.\n",
        "# %%\n",
        "'''\n",
        "samples = result.samples\n",
        "\n",
        "print(\"Final 10 Parameters:\")\n",
        "print(samples.parameter_lists[-10:])\n",
        "\n",
        "print(\"Sample 10`s third parameter value (Gaussian -> sigma)\")\n",
        "print(samples.parameter_lists[9][2], \"\\n\")\n",
        "\n",
        "'''"
      ],
      "outputs": [],
      "execution_count": null
    },
    {
      "cell_type": "code",
      "metadata": {},
      "source": [
        "The Samples class also contains the log likelihood, log prior, log posterior and weight_list of every accepted sample, \n",
        "where:\n",
        "\n",
        "   - The log likelihood is the value evaluated from the likelihood function (e.g. -0.5 * chi_squared + the noise \n",
        "     normalized).\n",
        "\n",
        "   - The log prior encodes information on how the priors on the parameters maps the log likelihood value to the log\n",
        "     posterior value.\n",
        "\n",
        "   - The log posterior is log_likelihood + log_prior.\n",
        "\n",
        "   - The weight gives information on how samples should be combined to estimate the posterior. The weight values \n",
        "     depend on the sampler used, for MCMC samples they are all 1 (e.g. all weighted equally).\n",
        "     \n",
        "Lets inspect the last 10 values of each for the analysis.     \n",
        "# %%\n",
        "'''\n",
        "print(\"Final 10 Log Likelihoods:\")\n",
        "print(samples.log_likelihood_list[-10:])\n",
        "\n",
        "print(\"Final 10 Log Priors:\")\n",
        "print(samples.log_prior_list[-10:])\n",
        "\n",
        "print(\"Final 10 Log Posteriors:\")\n",
        "print(samples.log_posterior_list[-10:])\n",
        "\n",
        "print(\"Final 10 Sample weight_list:\")\n",
        "print(samples.weight_list[-10:], \"\\n\")\n",
        "\n",
        "'''"
      ],
      "outputs": [],
      "execution_count": null
    },
    {
      "cell_type": "code",
      "metadata": {},
      "source": [
        "The median pdf vector is readily available from the `Samples` object for you convenience (and if a nested sampling\n",
        "`NonLinearSearch` is used instead, it will use an appropriate method to estimate the parameters):\n",
        "# %%\n",
        "'''\n",
        "median_pdf_vector = samples.median_pdf_vector\n",
        "print(\"Median PDF Vector:\")\n",
        "print(median_pdf_vector, \"\\n\")\n",
        "\n",
        "'''"
      ],
      "outputs": [],
      "execution_count": null
    },
    {
      "cell_type": "code",
      "metadata": {},
      "source": [
        "The samples contain many useful vectors, including the samples with the highest likelihood and posterior values:\n",
        "# %%\n",
        "'''\n",
        "max_log_likelihood_vector = samples.max_log_likelihood_vector\n",
        "max_log_posterior_vector = samples.max_log_posterior_vector\n",
        "\n",
        "print(\"Maximum Log Likelihood Vector:\")\n",
        "print(max_log_likelihood_vector)\n",
        "\n",
        "print(\"Maximum Log Posterior Vector:\")\n",
        "print(max_log_posterior_vector, \"\\n\")\n",
        "\n",
        "'''"
      ],
      "outputs": [],
      "execution_count": null
    },
    {
      "cell_type": "code",
      "metadata": {},
      "source": [
        "It also provides methods for computing the error estimates of all parameters at an input sigma confidence limit, which\n",
        "can be returned at the values of the parameters including their errors or the size of the errors on each parameter:\n",
        "# %%\n",
        "'''\n",
        "vector_at_upper_sigma = samples.vector_at_upper_sigma(sigma=3.0)\n",
        "vector_at_lower_sigma = samples.vector_at_lower_sigma(sigma=3.0)\n",
        "\n",
        "print(\"Upper Parameter values w/ error (at 3.0 sigma confidence):\")\n",
        "print(vector_at_upper_sigma)\n",
        "print(\"lower Parameter values w/ errors (at 3.0 sigma confidence):\")\n",
        "print(vector_at_lower_sigma, \"\\n\")\n",
        "\n",
        "error_vector_at_upper_sigma = samples.error_vector_at_upper_sigma(sigma=3.0)\n",
        "error_vector_at_lower_sigma = samples.error_vector_at_lower_sigma(sigma=3.0)\n",
        "\n",
        "print(\"Upper Error values (at 3.0 sigma confidence):\")\n",
        "print(error_vector_at_upper_sigma)\n",
        "\n",
        "print(\"lower Error values (at 3.0 sigma confidence):\")\n",
        "print(error_vector_at_lower_sigma, \"\\n\")\n",
        "\n",
        "'''"
      ],
      "outputs": [],
      "execution_count": null
    },
    {
      "cell_type": "code",
      "metadata": {},
      "source": [
        "Results vectors return the results as a list, which means you need to know the parameter ordering. The list of\n",
        "parameter names are available as a property of the `Samples`, as are parameter labels which can be used for labeling\n",
        "figures:\n",
        "# %%\n",
        "'''\n",
        "print(samples.model.model_component_and_parameter_names)\n",
        "print(samples.model.parameter_labels)\n",
        "print(\"\\n\")\n",
        "\n",
        "'''"
      ],
      "outputs": [],
      "execution_count": null
    },
    {
      "cell_type": "code",
      "metadata": {},
      "source": [
        "Results can instead be returned as an instance, which is an instance of the model using the Python classes used to\n",
        "compose it:\n",
        "# %%\n",
        "'''\n",
        "max_log_likelihood_instance = samples.max_log_likelihood_instance\n",
        "\n",
        "print(\"Max Log Likelihood `Gaussian` Instance:\")\n",
        "print(\"Centre = \", max_log_likelihood_instance.centre)\n",
        "print(\"Intensity = \", max_log_likelihood_instance.intensity)\n",
        "print(\"Sigma = \", max_log_likelihood_instance.sigma, \"\\n\")\n",
        "\n",
        "'''"
      ],
      "outputs": [],
      "execution_count": null
    },
    {
      "cell_type": "code",
      "metadata": {},
      "source": [
        "For our example problem of fitting a 1D `Gaussian` profile, this makes it straight forward to plot the maximum\n",
        "likelihood model:\n",
        "# %%\n",
        "'''\n",
        "model_data = samples.max_log_likelihood_instance.profile_from_xvalues(\n",
        "    xvalues=np.arange(data.shape[0])\n",
        ")\n",
        "\n",
        "plt.plot(range(data.shape[0]), data)\n",
        "plt.plot(range(data.shape[0]), model_data)\n",
        "plt.title(\"Illustrative model fit to 1D `Gaussian` profile data.\")\n",
        "plt.xlabel(\"x values of profile\")\n",
        "plt.ylabel(\"Profile intensity\")\n",
        "plt.show()\n",
        "plt.close()\n",
        "\n",
        "'''"
      ],
      "outputs": [],
      "execution_count": null
    },
    {
      "cell_type": "code",
      "metadata": {},
      "source": [
        "median_pdf_instance = samples.median_pdf_instance\n",
        "instance_at_upper_sigma = samples.instance_at_upper_sigma\n",
        "instance_at_lower_sigma = samples.instance_at_lower_sigma\n",
        "error_instance_at_upper_sigma = samples.error_instance_at_upper_sigma\n",
        "error_instance_at_lower_sigma = samples.error_instance_at_lower_sigma"
      ],
      "outputs": [],
      "execution_count": null
    },
    {
      "cell_type": "markdown",
      "metadata": {},
      "source": [
        "instance = samples.instance_from_sample_index(sample_index=500)\n",
        "\n",
        "print(\"Gaussian Instance of sample 5000:\")\n",
        "print(\"Centre = \", instance.centre)\n",
        "print(\"Intensity = \", instance.intensity)\n",
        "print(\"Sigma = \", instance.sigma, \"\\n\")"
      ]
    },
    {
      "cell_type": "code",
      "metadata": {},
      "source": [
        "If a nested sampling `NonLinearSearch` is used, the evidence of the model is also available which enables Bayesian\n",
        "model comparison to be performed (given we are using Emcee, which is not a nested sampling algorithm, the log evidence \n",
        "is None).:\n",
        "# %%\n",
        "'''\n",
        "log_evidence = samples.log_evidence\n",
        "\n",
        "'''"
      ],
      "outputs": [],
      "execution_count": null
    },
    {
      "cell_type": "code",
      "metadata": {},
      "source": [
        "At this point, you might be wondering what else the results contains, pretty much everything we discussed above was a\n",
        "part of its *samples* property! The answer is, not much, however the `Result`'s object can be extended to include \n",
        "model-specific results for your project, and we detail how to do this in the **HowToFit** lectures.\n",
        "\n",
        "For example, we may extend the results of our 1D `Gaussian` example to include properties containing the maximum\n",
        "log likelihood of the summed model data and for every individual profile in the model.\n",
        "\n",
        "(The commented out functions below are llustrative of the API we can create by extending a result).\n",
        "# %%\n",
        "'''\n",
        "# max_log_likelihood_profile = results.max_log_likelihood_profile\n",
        "# max_log_likelihood_profile_list = results.max_log_likelihood_profile_list\n"
      ],
      "outputs": [],
      "execution_count": null
    }
  ],
  "metadata": {
    "anaconda-cloud": {},
    "kernelspec": {
      "display_name": "Python 3",
      "language": "python",
      "name": "python3"
    },
    "language_info": {
      "codemirror_mode": {
        "name": "ipython",
        "version": 3
      },
      "file_extension": ".py",
      "mimetype": "text/x-python",
      "name": "python",
      "nbconvert_exporter": "python",
      "pygments_lexer": "ipython3",
      "version": "3.6.1"
    }
  },
  "nbformat": 4,
  "nbformat_minor": 4
}