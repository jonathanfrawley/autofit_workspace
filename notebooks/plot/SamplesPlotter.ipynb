{
  "cells": [
    {
      "cell_type": "markdown",
      "metadata": {},
      "source": [
        "Plots: SamplesPlotter\n",
        "=====================\n",
        "\n",
        "This example illustrates how to plot visualization summarizing the `Samples` of a non-linear search\n",
        "using a `SamplesPlotter`."
      ]
    },
    {
      "cell_type": "code",
      "metadata": {},
      "source": [
        "%matplotlib inline\n",
        "from pyprojroot import here\n",
        "workspace_path = str(here())\n",
        "%cd $workspace_path\n",
        "print(f\"Working Directory has been set to `{workspace_path}`\")\n",
        "\n",
        "from os import path\n",
        "\n",
        "import autofit as af\n",
        "import autofit.plot as aplt\n",
        "import model as m\n",
        "import analysis as a"
      ],
      "outputs": [],
      "execution_count": null
    },
    {
      "cell_type": "markdown",
      "metadata": {},
      "source": [
        "First, lets create a simple `Samples` object by repeating the simple model-fit that is performed in \n",
        "the `overview/simple/fit.py` example."
      ]
    },
    {
      "cell_type": "code",
      "metadata": {},
      "source": [
        "dataset_path = path.join(\"dataset\", \"example_1d\", \"gaussian_x1\")\n",
        "data = af.util.numpy_array_from_json(file_path=path.join(dataset_path, \"data.json\"))\n",
        "noise_map = af.util.numpy_array_from_json(\n",
        "    file_path=path.join(dataset_path, \"noise_map.json\")\n",
        ")\n",
        "\n",
        "model = af.Model(m.Gaussian)\n",
        "\n",
        "analysis = a.Analysis(data=data, noise_map=noise_map)\n",
        "\n",
        "# emcee = af.Emcee(\n",
        "#     path_prefix=path.join(\"plot\", \"SamplesPlotter\"),\n",
        "#     name=\"Emcee\",\n",
        "#     nwalkers=100,\n",
        "#     nsteps=10000,\n",
        "# )\n",
        "#\n",
        "# result = emcee.fit(model=model, analysis=analysis)\n",
        "\n",
        "dynesty = af.DynestyStatic(\n",
        "    path_prefix=path.join(\"plot\", \"SamplesPlotter\"), name=\"DynestyStatic\"\n",
        ")\n",
        "\n",
        "result = dynesty.fit(model=model, analysis=analysis)\n",
        "\n",
        "samples = result.samples"
      ],
      "outputs": [],
      "execution_count": null
    },
    {
      "cell_type": "markdown",
      "metadata": {},
      "source": [
        "We now pass the samples to a `SamplesPlotter` and call various `figure_*` methods to plot different plots."
      ]
    },
    {
      "cell_type": "code",
      "metadata": {},
      "source": [
        "samples_plotter = aplt.SamplesPlotter(samples=samples)"
      ],
      "outputs": [],
      "execution_count": null
    },
    {
      "cell_type": "markdown",
      "metadata": {},
      "source": [
        "The plotter includes corner plots, using the library corner.py, which summarize the posterior of the results."
      ]
    },
    {
      "cell_type": "code",
      "metadata": {},
      "source": [
        "samples_plotter.figure_corner(triangle=True)\n",
        "stop"
      ],
      "outputs": [],
      "execution_count": null
    },
    {
      "cell_type": "markdown",
      "metadata": {},
      "source": [
        "There are various `figure_*` methods to plot different plots that summarize the quality, speed and results of the \n",
        "model-fit."
      ]
    },
    {
      "cell_type": "code",
      "metadata": {},
      "source": [
        "samples_plotter.figures_1d(progress=True)"
      ],
      "outputs": [],
      "execution_count": null
    },
    {
      "cell_type": "markdown",
      "metadata": {},
      "source": [
        "Finish."
      ]
    },
    {
      "cell_type": "code",
      "metadata": {},
      "source": [],
      "outputs": [],
      "execution_count": null
    }
  ],
  "metadata": {
    "anaconda-cloud": {},
    "kernelspec": {
      "display_name": "Python 3",
      "language": "python",
      "name": "python3"
    },
    "language_info": {
      "codemirror_mode": {
        "name": "ipython",
        "version": 3
      },
      "file_extension": ".py",
      "mimetype": "text/x-python",
      "name": "python",
      "nbconvert_exporter": "python",
      "pygments_lexer": "ipython3",
      "version": "3.6.1"
    }
  },
  "nbformat": 4,
  "nbformat_minor": 4
}