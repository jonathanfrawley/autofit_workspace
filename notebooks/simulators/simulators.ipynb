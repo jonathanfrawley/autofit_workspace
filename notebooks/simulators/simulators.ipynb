{
 "cells": [
  {
   "cell_type": "markdown",
   "metadata": {},
   "source": [
    "__Simulators__\n",
    "\n",
    "These scripts simulate the 1D Gaussian datasets used to demonstrate model-fitting."
   ]
  },
  {
   "cell_type": "code",
   "execution_count": 1,
   "metadata": {
    "execution": {
     "iopub.execute_input": "2021-05-10T09:09:24.471351Z",
     "iopub.status.busy": "2021-05-10T09:09:24.470824Z",
     "iopub.status.idle": "2021-05-10T09:09:25.980027Z",
     "shell.execute_reply": "2021-05-10T09:09:25.980368Z"
    }
   },
   "outputs": [
    {
     "name": "stdout",
     "output_type": "stream",
     "text": [
      "/mnt/c/Users/Jammy/Code/PyAuto/autofit_workspace\n",
      "Working Directory has been set to `/mnt/c/Users/Jammy/Code/PyAuto/autofit_workspace`\n"
     ]
    }
   ],
   "source": [
    "%matplotlib inline\n",
    "from pyprojroot import here\n",
    "workspace_path = str(here())\n",
    "%cd $workspace_path\n",
    "print(f\"Working Directory has been set to `{workspace_path}`\")\n",
    "\n",
    "import profiles\n",
    "import util\n",
    "from os import path"
   ]
  },
  {
   "cell_type": "markdown",
   "metadata": {},
   "source": [
    "__Gaussian x1__"
   ]
  },
  {
   "cell_type": "code",
   "execution_count": 2,
   "metadata": {
    "execution": {
     "iopub.execute_input": "2021-05-10T09:09:25.983887Z",
     "iopub.status.busy": "2021-05-10T09:09:25.983472Z",
     "iopub.status.idle": "2021-05-10T09:09:26.097178Z",
     "shell.execute_reply": "2021-05-10T09:09:26.096701Z"
    }
   },
   "outputs": [],
   "source": [
    "dataset_path = path.join(\"dataset\", \"example_1d\", \"gaussian_x1\")\n",
    "gaussian = profiles.Gaussian(centre=50.0, intensity=25.0, sigma=10.0)\n",
    "util.simulate_line_from_gaussian(gaussian=gaussian, dataset_path=dataset_path)"
   ]
  },
  {
   "cell_type": "markdown",
   "metadata": {},
   "source": [
    "__Gaussian x1 (0)__"
   ]
  },
  {
   "cell_type": "code",
   "execution_count": 3,
   "metadata": {
    "execution": {
     "iopub.execute_input": "2021-05-10T09:09:26.100994Z",
     "iopub.status.busy": "2021-05-10T09:09:26.100573Z",
     "iopub.status.idle": "2021-05-10T09:09:26.197658Z",
     "shell.execute_reply": "2021-05-10T09:09:26.197224Z"
    }
   },
   "outputs": [],
   "source": [
    "dataset_path = path.join(\"dataset\", \"example_1d\", \"gaussian_x1_0\")\n",
    "gaussian = profiles.Gaussian(centre=50.0, intensity=25.0, sigma=1.0)\n",
    "util.simulate_line_from_gaussian(gaussian=gaussian, dataset_path=dataset_path)"
   ]
  },
  {
   "cell_type": "markdown",
   "metadata": {},
   "source": [
    "__Gaussian x1 (1)__"
   ]
  },
  {
   "cell_type": "code",
   "execution_count": 4,
   "metadata": {
    "execution": {
     "iopub.execute_input": "2021-05-10T09:09:26.201034Z",
     "iopub.status.busy": "2021-05-10T09:09:26.200595Z",
     "iopub.status.idle": "2021-05-10T09:09:26.294108Z",
     "shell.execute_reply": "2021-05-10T09:09:26.294467Z"
    }
   },
   "outputs": [],
   "source": [
    "gaussian = profiles.Gaussian(centre=50.0, intensity=25.0, sigma=5.0)\n",
    "dataset_path = path.join(\"dataset\", \"example_1d\", \"gaussian_x1_1\")\n",
    "util.simulate_line_from_gaussian(gaussian=gaussian, dataset_path=dataset_path)"
   ]
  },
  {
   "cell_type": "markdown",
   "metadata": {},
   "source": [
    "__Gaussian x1 (2)__"
   ]
  },
  {
   "cell_type": "code",
   "execution_count": 5,
   "metadata": {
    "execution": {
     "iopub.execute_input": "2021-05-10T09:09:26.298010Z",
     "iopub.status.busy": "2021-05-10T09:09:26.297574Z",
     "iopub.status.idle": "2021-05-10T09:09:26.393908Z",
     "shell.execute_reply": "2021-05-10T09:09:26.394264Z"
    }
   },
   "outputs": [],
   "source": [
    "gaussian = profiles.Gaussian(centre=50.0, intensity=25.0, sigma=10.0)\n",
    "dataset_path = path.join(\"dataset\", \"example_1d\", \"gaussian_x1_2\")\n",
    "util.simulate_line_from_gaussian(gaussian=gaussian, dataset_path=dataset_path)"
   ]
  },
  {
   "cell_type": "markdown",
   "metadata": {},
   "source": [
    "__Gaussian x1 + Exponential x1__"
   ]
  },
  {
   "cell_type": "code",
   "execution_count": 6,
   "metadata": {
    "execution": {
     "iopub.execute_input": "2021-05-10T09:09:26.398315Z",
     "iopub.status.busy": "2021-05-10T09:09:26.397827Z",
     "iopub.status.idle": "2021-05-10T09:09:26.507941Z",
     "shell.execute_reply": "2021-05-10T09:09:26.507537Z"
    }
   },
   "outputs": [],
   "source": [
    "gaussian = profiles.Gaussian(centre=50.0, intensity=25.0, sigma=10.0)\n",
    "exponential = profiles.Exponential(centre=50.0, intensity=40.0, rate=0.05)\n",
    "dataset_path = path.join(\"dataset\", \"example_1d\", \"gaussian_x1__exponential_x1\")\n",
    "util.simulate_line_from_profiles(\n",
    "    profiles=[gaussian, exponential], dataset_path=dataset_path\n",
    ")"
   ]
  },
  {
   "cell_type": "markdown",
   "metadata": {},
   "source": [
    "__Gaussian x2 + Exponential x1__"
   ]
  },
  {
   "cell_type": "code",
   "execution_count": 7,
   "metadata": {
    "execution": {
     "iopub.execute_input": "2021-05-10T09:09:26.511720Z",
     "iopub.status.busy": "2021-05-10T09:09:26.511303Z",
     "iopub.status.idle": "2021-05-10T09:09:26.653297Z",
     "shell.execute_reply": "2021-05-10T09:09:26.653599Z"
    }
   },
   "outputs": [],
   "source": [
    "gaussian_0 = profiles.Gaussian(centre=50.0, intensity=25.0, sigma=10.0)\n",
    "gaussian_1 = profiles.Gaussian(centre=20.0, intensity=30.0, sigma=5.0)\n",
    "exponential = profiles.Exponential(centre=70.0, intensity=40.0, rate=0.005)\n",
    "dataset_path = path.join(\"dataset\", \"example_1d\", \"gaussian_x2__exponential_x1\")\n",
    "util.simulate_line_from_profiles(\n",
    "    profiles=[gaussian_0, gaussian_1, exponential], dataset_path=dataset_path\n",
    ")"
   ]
  },
  {
   "cell_type": "markdown",
   "metadata": {},
   "source": [
    "__Gaussian x3__"
   ]
  },
  {
   "cell_type": "code",
   "execution_count": 8,
   "metadata": {
    "execution": {
     "iopub.execute_input": "2021-05-10T09:09:26.657238Z",
     "iopub.status.busy": "2021-05-10T09:09:26.656842Z",
     "iopub.status.idle": "2021-05-10T09:09:26.755946Z",
     "shell.execute_reply": "2021-05-10T09:09:26.755223Z"
    }
   },
   "outputs": [],
   "source": [
    "gaussian_0 = profiles.Gaussian(centre=50.0, intensity=20.0, sigma=1.0)\n",
    "gaussian_1 = profiles.Gaussian(centre=50.0, intensity=40.0, sigma=5.0)\n",
    "gaussian_2 = profiles.Gaussian(centre=50.0, intensity=60.0, sigma=10.0)\n",
    "dataset_path = path.join(\"dataset\", \"example_1d\", \"gaussian_x3\")\n",
    "util.simulate_line_from_profiles(\n",
    "    profiles=[gaussian_0, gaussian_1, gaussian_2], dataset_path=dataset_path\n",
    ")"
   ]
  },
  {
   "cell_type": "markdown",
   "metadata": {},
   "source": [
    "__Gaussian x1 unconvolved__"
   ]
  },
  {
   "cell_type": "code",
   "execution_count": 9,
   "metadata": {
    "execution": {
     "iopub.execute_input": "2021-05-10T09:09:26.759320Z",
     "iopub.status.busy": "2021-05-10T09:09:26.758915Z",
     "iopub.status.idle": "2021-05-10T09:09:26.854506Z",
     "shell.execute_reply": "2021-05-10T09:09:26.854847Z"
    }
   },
   "outputs": [],
   "source": [
    "dataset_path = path.join(\"dataset\", \"example_1d\", \"gaussian_x1_unconvolved\")\n",
    "gaussian = profiles.Gaussian(centre=50.0, intensity=25.0, sigma=3.0)\n",
    "util.simulate_line_from_gaussian(gaussian=gaussian, dataset_path=dataset_path)"
   ]
  },
  {
   "cell_type": "markdown",
   "metadata": {},
   "source": [
    "__Gaussian x1 convolved__"
   ]
  },
  {
   "cell_type": "code",
   "execution_count": 10,
   "metadata": {
    "execution": {
     "iopub.execute_input": "2021-05-10T09:09:26.858118Z",
     "iopub.status.busy": "2021-05-10T09:09:26.857657Z",
     "iopub.status.idle": "2021-05-10T09:09:26.964456Z",
     "shell.execute_reply": "2021-05-10T09:09:26.964093Z"
    }
   },
   "outputs": [],
   "source": [
    "dataset_path = path.join(\"dataset\", \"example_1d\", \"gaussian_x1_convolved\")\n",
    "gaussian = profiles.Gaussian(centre=50.0, intensity=25.0, sigma=3.0)\n",
    "util.simulate_line_with_kernel_from_gaussian(\n",
    "    gaussian=gaussian, dataset_path=dataset_path\n",
    ")"
   ]
  },
  {
   "cell_type": "markdown",
   "metadata": {},
   "source": [
    "__Gaussian x1 with feature__"
   ]
  },
  {
   "cell_type": "code",
   "execution_count": 11,
   "metadata": {
    "execution": {
     "iopub.execute_input": "2021-05-10T09:09:26.969300Z",
     "iopub.status.busy": "2021-05-10T09:09:26.968810Z",
     "iopub.status.idle": "2021-05-10T09:09:27.071635Z",
     "shell.execute_reply": "2021-05-10T09:09:27.071990Z"
    }
   },
   "outputs": [],
   "source": [
    "dataset_path = path.join(\"dataset\", \"example_1d\", \"gaussian_x1_with_feature\")\n",
    "gaussian = profiles.Gaussian(centre=50.0, intensity=25.0, sigma=10.0)\n",
    "gaussian_feature = profiles.Gaussian(centre=70.0, intensity=0.3, sigma=0.5)\n",
    "util.simulate_line_from_profiles(\n",
    "    profiles=[gaussian, gaussian_feature], dataset_path=dataset_path\n",
    ")"
   ]
  },
  {
   "cell_type": "markdown",
   "metadata": {},
   "source": [
    "__Gaussian x2 split__"
   ]
  },
  {
   "cell_type": "code",
   "execution_count": 12,
   "metadata": {
    "execution": {
     "iopub.execute_input": "2021-05-10T09:09:27.075663Z",
     "iopub.status.busy": "2021-05-10T09:09:27.075209Z",
     "iopub.status.idle": "2021-05-10T09:09:27.182072Z",
     "shell.execute_reply": "2021-05-10T09:09:27.182427Z"
    }
   },
   "outputs": [],
   "source": [
    "dataset_path = path.join(\"dataset\", \"example_1d\", \"gaussian_x2_split\")\n",
    "gaussian_0 = profiles.Gaussian(centre=25.0, intensity=50.0, sigma=12.5)\n",
    "gaussian_1 = profiles.Gaussian(centre=75.0, intensity=50.0, sigma=12.5)\n",
    "util.simulate_line_from_profiles(\n",
    "    profiles=[gaussian_0, gaussian_1], dataset_path=dataset_path\n",
    ")"
   ]
  },
  {
   "cell_type": "markdown",
   "metadata": {},
   "source": [
    "__Gaussian x1 low snr (0)__"
   ]
  },
  {
   "cell_type": "code",
   "execution_count": 13,
   "metadata": {
    "execution": {
     "iopub.execute_input": "2021-05-10T09:09:27.186513Z",
     "iopub.status.busy": "2021-05-10T09:09:27.186048Z",
     "iopub.status.idle": "2021-05-10T09:09:27.298768Z",
     "shell.execute_reply": "2021-05-10T09:09:27.298208Z"
    }
   },
   "outputs": [],
   "source": [
    "dataset_path = path.join(\"dataset\", \"example_1d\", \"gaussian_x1_0__low_snr\")\n",
    "gaussian = profiles.Gaussian(centre=50.0, intensity=1.5, sigma=6.0)\n",
    "util.simulate_line_from_gaussian(gaussian=gaussian, dataset_path=dataset_path)"
   ]
  },
  {
   "cell_type": "markdown",
   "metadata": {},
   "source": [
    "__Gaussian x1 low snr (1)__"
   ]
  },
  {
   "cell_type": "code",
   "execution_count": 14,
   "metadata": {
    "execution": {
     "iopub.execute_input": "2021-05-10T09:09:27.303201Z",
     "iopub.status.busy": "2021-05-10T09:09:27.302682Z",
     "iopub.status.idle": "2021-05-10T09:09:27.411697Z",
     "shell.execute_reply": "2021-05-10T09:09:27.412071Z"
    }
   },
   "outputs": [],
   "source": [
    "gaussian = profiles.Gaussian(centre=50.0, intensity=2.0, sigma=8.0)\n",
    "dataset_path = path.join(\"dataset\", \"example_1d\", \"gaussian_x1_1__low_snr\")\n",
    "util.simulate_line_from_gaussian(gaussian=gaussian, dataset_path=dataset_path)"
   ]
  },
  {
   "cell_type": "markdown",
   "metadata": {},
   "source": [
    "__Gaussian x1 low snr (2)__"
   ]
  },
  {
   "cell_type": "code",
   "execution_count": 15,
   "metadata": {
    "execution": {
     "iopub.execute_input": "2021-05-10T09:09:27.415314Z",
     "iopub.status.busy": "2021-05-10T09:09:27.414904Z",
     "iopub.status.idle": "2021-05-10T09:09:27.527915Z",
     "shell.execute_reply": "2021-05-10T09:09:27.527423Z"
    }
   },
   "outputs": [],
   "source": [
    "gaussian = profiles.Gaussian(centre=50.0, intensity=5.0, sigma=15.0)\n",
    "dataset_path = path.join(\"dataset\", \"example_1d\", \"gaussian_x1_2__low_snr\")\n",
    "util.simulate_line_from_gaussian(gaussian=gaussian, dataset_path=dataset_path)"
   ]
  },
  {
   "cell_type": "markdown",
   "metadata": {},
   "source": [
    "Finish."
   ]
  },
  {
   "cell_type": "code",
   "execution_count": null,
   "metadata": {},
   "outputs": [],
   "source": []
  }
 ],
 "metadata": {
  "anaconda-cloud": {},
  "kernelspec": {
   "display_name": "Python 3",
   "language": "python",
   "name": "python3"
  },
  "language_info": {
   "codemirror_mode": {
    "name": "ipython",
    "version": 3
   },
   "file_extension": ".py",
   "mimetype": "text/x-python",
   "name": "python",
   "nbconvert_exporter": "python",
   "pygments_lexer": "ipython3",
   "version": "3.8.5"
  }
 },
 "nbformat": 4,
 "nbformat_minor": 4
}
