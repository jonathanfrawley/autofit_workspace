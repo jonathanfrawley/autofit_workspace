{
 "cells": [
  {
   "cell_type": "markdown",
   "metadata": {},
   "source": [
    "__Simulators__\n",
    "\n",
    "These scripts simulate the 1D Gaussian datasets used to demonstrate model-fitting."
   ]
  },
  {
   "cell_type": "code",
   "execution_count": 1,
   "metadata": {
    "execution": {
     "iopub.execute_input": "2021-04-25T13:32:50.218448Z",
     "iopub.status.busy": "2021-04-25T13:32:50.218106Z",
     "iopub.status.idle": "2021-04-25T13:32:51.497541Z",
     "shell.execute_reply": "2021-04-25T13:32:51.497116Z"
    }
   },
   "outputs": [
    {
     "name": "stdout",
     "output_type": "stream",
     "text": [
      "/mnt/c/Users/Jammy/Code/PyAuto/autofit_workspace\n",
      "Working Directory has been set to `/mnt/c/Users/Jammy/Code/PyAuto/autofit_workspace`\n"
     ]
    }
   ],
   "source": [
    "%matplotlib inline\n",
    "from pyprojroot import here\n",
    "workspace_path = str(here())\n",
    "%cd $workspace_path\n",
    "print(f\"Working Directory has been set to `{workspace_path}`\")\n",
    "\n",
    "import profiles\n",
    "import util\n",
    "from os import path"
   ]
  },
  {
   "cell_type": "markdown",
   "metadata": {},
   "source": [
    "__Gaussian x1__"
   ]
  },
  {
   "cell_type": "code",
   "execution_count": 2,
   "metadata": {
    "execution": {
     "iopub.execute_input": "2021-04-25T13:32:51.501415Z",
     "iopub.status.busy": "2021-04-25T13:32:51.500869Z",
     "iopub.status.idle": "2021-04-25T13:32:51.645361Z",
     "shell.execute_reply": "2021-04-25T13:32:51.645609Z"
    }
   },
   "outputs": [],
   "source": [
    "dataset_path = path.join(\"dataset\", \"example_1d\", \"gaussian_x1\")\n",
    "gaussian = profiles.Gaussian(centre=50.0, intensity=25.0, sigma=10.0)\n",
    "util.simulate_line_from_gaussian(gaussian=gaussian, dataset_path=dataset_path)"
   ]
  },
  {
   "cell_type": "markdown",
   "metadata": {},
   "source": [
    "__Gaussian x1 (0)__"
   ]
  },
  {
   "cell_type": "code",
   "execution_count": 3,
   "metadata": {
    "execution": {
     "iopub.execute_input": "2021-04-25T13:32:51.648278Z",
     "iopub.status.busy": "2021-04-25T13:32:51.647939Z",
     "iopub.status.idle": "2021-04-25T13:32:51.732747Z",
     "shell.execute_reply": "2021-04-25T13:32:51.733213Z"
    }
   },
   "outputs": [],
   "source": [
    "dataset_path = path.join(\"dataset\", \"example_1d\", \"gaussian_x1_0\")\n",
    "gaussian = profiles.Gaussian(centre=50.0, intensity=25.0, sigma=1.0)\n",
    "util.simulate_line_from_gaussian(gaussian=gaussian, dataset_path=dataset_path)"
   ]
  },
  {
   "cell_type": "markdown",
   "metadata": {},
   "source": [
    "__Gaussian x1 (1)__"
   ]
  },
  {
   "cell_type": "code",
   "execution_count": 4,
   "metadata": {
    "execution": {
     "iopub.execute_input": "2021-04-25T13:32:51.736405Z",
     "iopub.status.busy": "2021-04-25T13:32:51.736065Z",
     "iopub.status.idle": "2021-04-25T13:32:51.816468Z",
     "shell.execute_reply": "2021-04-25T13:32:51.816722Z"
    }
   },
   "outputs": [],
   "source": [
    "gaussian = profiles.Gaussian(centre=50.0, intensity=25.0, sigma=5.0)\n",
    "dataset_path = path.join(\"dataset\", \"example_1d\", \"gaussian_x1_1\")\n",
    "util.simulate_line_from_gaussian(gaussian=gaussian, dataset_path=dataset_path)"
   ]
  },
  {
   "cell_type": "markdown",
   "metadata": {},
   "source": [
    "__Gaussian x1 (2)__"
   ]
  },
  {
   "cell_type": "code",
   "execution_count": 5,
   "metadata": {
    "execution": {
     "iopub.execute_input": "2021-04-25T13:32:51.819691Z",
     "iopub.status.busy": "2021-04-25T13:32:51.819358Z",
     "iopub.status.idle": "2021-04-25T13:32:51.916380Z",
     "shell.execute_reply": "2021-04-25T13:32:51.915811Z"
    }
   },
   "outputs": [],
   "source": [
    "gaussian = profiles.Gaussian(centre=50.0, intensity=25.0, sigma=10.0)\n",
    "dataset_path = path.join(\"dataset\", \"example_1d\", \"gaussian_x1_2\")\n",
    "util.simulate_line_from_gaussian(gaussian=gaussian, dataset_path=dataset_path)"
   ]
  },
  {
   "cell_type": "markdown",
   "metadata": {},
   "source": [
    "__Gaussian x1 + Exponential x1__"
   ]
  },
  {
   "cell_type": "code",
   "execution_count": 6,
   "metadata": {
    "execution": {
     "iopub.execute_input": "2021-04-25T13:32:51.921962Z",
     "iopub.status.busy": "2021-04-25T13:32:51.921510Z",
     "iopub.status.idle": "2021-04-25T13:32:52.028114Z",
     "shell.execute_reply": "2021-04-25T13:32:52.027786Z"
    }
   },
   "outputs": [],
   "source": [
    "gaussian = profiles.Gaussian(centre=50.0, intensity=25.0, sigma=10.0)\n",
    "exponential = profiles.Exponential(centre=50.0, intensity=40.0, rate=0.05)\n",
    "dataset_path = path.join(\"dataset\", \"example_1d\", \"gaussian_x1__exponential_x1\")\n",
    "util.simulate_line_from_profiles(\n",
    "    profiles=[gaussian, exponential], dataset_path=dataset_path\n",
    ")"
   ]
  },
  {
   "cell_type": "markdown",
   "metadata": {},
   "source": [
    "__Gaussian x2 + Exponential x1__"
   ]
  },
  {
   "cell_type": "code",
   "execution_count": 7,
   "metadata": {
    "execution": {
     "iopub.execute_input": "2021-04-25T13:32:52.031744Z",
     "iopub.status.busy": "2021-04-25T13:32:52.031378Z",
     "iopub.status.idle": "2021-04-25T13:32:52.135041Z",
     "shell.execute_reply": "2021-04-25T13:32:52.134638Z"
    }
   },
   "outputs": [],
   "source": [
    "gaussian_0 = profiles.Gaussian(centre=50.0, intensity=25.0, sigma=10.0)\n",
    "gaussian_1 = profiles.Gaussian(centre=20.0, intensity=30.0, sigma=5.0)\n",
    "exponential = profiles.Exponential(centre=70.0, intensity=40.0, rate=0.005)\n",
    "dataset_path = path.join(\"dataset\", \"example_1d\", \"gaussian_x2__exponential_x1\")\n",
    "util.simulate_line_from_profiles(\n",
    "    profiles=[gaussian_0, gaussian_1, exponential], dataset_path=dataset_path\n",
    ")"
   ]
  },
  {
   "cell_type": "markdown",
   "metadata": {},
   "source": [
    "__Gaussian x3__"
   ]
  },
  {
   "cell_type": "code",
   "execution_count": 8,
   "metadata": {
    "execution": {
     "iopub.execute_input": "2021-04-25T13:32:52.139369Z",
     "iopub.status.busy": "2021-04-25T13:32:52.138897Z",
     "iopub.status.idle": "2021-04-25T13:32:52.235419Z",
     "shell.execute_reply": "2021-04-25T13:32:52.235713Z"
    }
   },
   "outputs": [],
   "source": [
    "gaussian_0 = profiles.Gaussian(centre=50.0, intensity=20.0, sigma=1.0)\n",
    "gaussian_1 = profiles.Gaussian(centre=50.0, intensity=40.0, sigma=5.0)\n",
    "gaussian_2 = profiles.Gaussian(centre=50.0, intensity=60.0, sigma=10.0)\n",
    "dataset_path = path.join(\"dataset\", \"example_1d\", \"gaussian_x3\")\n",
    "util.simulate_line_from_profiles(\n",
    "    profiles=[gaussian_0, gaussian_1, gaussian_2], dataset_path=dataset_path\n",
    ")"
   ]
  },
  {
   "cell_type": "markdown",
   "metadata": {},
   "source": [
    "__Gaussian x1 unconvolved__"
   ]
  },
  {
   "cell_type": "code",
   "execution_count": 9,
   "metadata": {
    "execution": {
     "iopub.execute_input": "2021-04-25T13:32:52.238918Z",
     "iopub.status.busy": "2021-04-25T13:32:52.238538Z",
     "iopub.status.idle": "2021-04-25T13:32:52.331717Z",
     "shell.execute_reply": "2021-04-25T13:32:52.331393Z"
    }
   },
   "outputs": [],
   "source": [
    "dataset_path = path.join(\"dataset\", \"example_1d\", \"gaussian_x1_unconvolved\")\n",
    "gaussian = profiles.Gaussian(centre=50.0, intensity=25.0, sigma=3.0)\n",
    "util.simulate_line_from_gaussian(gaussian=gaussian, dataset_path=dataset_path)"
   ]
  },
  {
   "cell_type": "markdown",
   "metadata": {},
   "source": [
    "__Gaussian x1 convolved__"
   ]
  },
  {
   "cell_type": "code",
   "execution_count": 10,
   "metadata": {
    "execution": {
     "iopub.execute_input": "2021-04-25T13:32:52.334752Z",
     "iopub.status.busy": "2021-04-25T13:32:52.334378Z",
     "iopub.status.idle": "2021-04-25T13:32:52.429819Z",
     "shell.execute_reply": "2021-04-25T13:32:52.429091Z"
    }
   },
   "outputs": [],
   "source": [
    "dataset_path = path.join(\"dataset\", \"example_1d\", \"gaussian_x1_convolved\")\n",
    "gaussian = profiles.Gaussian(centre=50.0, intensity=25.0, sigma=3.0)\n",
    "util.simulate_line_with_kernel_from_gaussian(\n",
    "    gaussian=gaussian, dataset_path=dataset_path\n",
    ")"
   ]
  },
  {
   "cell_type": "markdown",
   "metadata": {},
   "source": [
    "__Gaussian x1 with feature__"
   ]
  },
  {
   "cell_type": "code",
   "execution_count": 11,
   "metadata": {
    "execution": {
     "iopub.execute_input": "2021-04-25T13:32:52.433085Z",
     "iopub.status.busy": "2021-04-25T13:32:52.432716Z",
     "iopub.status.idle": "2021-04-25T13:32:52.519884Z",
     "shell.execute_reply": "2021-04-25T13:32:52.519489Z"
    }
   },
   "outputs": [],
   "source": [
    "dataset_path = path.join(\"dataset\", \"example_1d\", \"gaussian_x1_with_feature\")\n",
    "gaussian = profiles.Gaussian(centre=50.0, intensity=25.0, sigma=10.0)\n",
    "gaussian_feature = profiles.Gaussian(centre=70.0, intensity=0.3, sigma=0.5)\n",
    "util.simulate_line_from_profiles(\n",
    "    profiles=[gaussian, gaussian_feature], dataset_path=dataset_path\n",
    ")"
   ]
  },
  {
   "cell_type": "markdown",
   "metadata": {},
   "source": [
    "__Gaussian x2 split__"
   ]
  },
  {
   "cell_type": "code",
   "execution_count": 12,
   "metadata": {
    "execution": {
     "iopub.execute_input": "2021-04-25T13:32:52.523258Z",
     "iopub.status.busy": "2021-04-25T13:32:52.522890Z",
     "iopub.status.idle": "2021-04-25T13:32:52.649113Z",
     "shell.execute_reply": "2021-04-25T13:32:52.649371Z"
    }
   },
   "outputs": [],
   "source": [
    "dataset_path = path.join(\"dataset\", \"example_1d\", \"gaussian_x2_split\")\n",
    "gaussian_0 = profiles.Gaussian(centre=25.0, intensity=50.0, sigma=12.5)\n",
    "gaussian_1 = profiles.Gaussian(centre=75.0, intensity=50.0, sigma=12.5)\n",
    "util.simulate_line_from_profiles(\n",
    "    profiles=[gaussian_0, gaussian_1], dataset_path=dataset_path\n",
    ")"
   ]
  },
  {
   "cell_type": "markdown",
   "metadata": {},
   "source": [
    "__Gaussian x1 low snr (0)__"
   ]
  },
  {
   "cell_type": "code",
   "execution_count": 13,
   "metadata": {
    "execution": {
     "iopub.execute_input": "2021-04-25T13:32:52.652256Z",
     "iopub.status.busy": "2021-04-25T13:32:52.651907Z",
     "iopub.status.idle": "2021-04-25T13:32:52.735351Z",
     "shell.execute_reply": "2021-04-25T13:32:52.735638Z"
    }
   },
   "outputs": [],
   "source": [
    "dataset_path = path.join(\"dataset\", \"example_1d\", \"gaussian_x1_0__low_snr\")\n",
    "gaussian = profiles.Gaussian(centre=50.0, intensity=1.5, sigma=6.0)\n",
    "util.simulate_line_from_gaussian(gaussian=gaussian, dataset_path=dataset_path)"
   ]
  },
  {
   "cell_type": "markdown",
   "metadata": {},
   "source": [
    "__Gaussian x1 low snr (1)__"
   ]
  },
  {
   "cell_type": "code",
   "execution_count": 14,
   "metadata": {
    "execution": {
     "iopub.execute_input": "2021-04-25T13:32:52.738423Z",
     "iopub.status.busy": "2021-04-25T13:32:52.738041Z",
     "iopub.status.idle": "2021-04-25T13:32:52.829474Z",
     "shell.execute_reply": "2021-04-25T13:32:52.829769Z"
    }
   },
   "outputs": [],
   "source": [
    "gaussian = profiles.Gaussian(centre=50.0, intensity=2.0, sigma=8.0)\n",
    "dataset_path = path.join(\"dataset\", \"example_1d\", \"gaussian_x1_1__low_snr\")\n",
    "util.simulate_line_from_gaussian(gaussian=gaussian, dataset_path=dataset_path)"
   ]
  },
  {
   "cell_type": "markdown",
   "metadata": {},
   "source": [
    "__Gaussian x1 low snr (2)__"
   ]
  },
  {
   "cell_type": "code",
   "execution_count": 15,
   "metadata": {
    "execution": {
     "iopub.execute_input": "2021-04-25T13:32:52.832522Z",
     "iopub.status.busy": "2021-04-25T13:32:52.832154Z",
     "iopub.status.idle": "2021-04-25T13:32:52.937466Z",
     "shell.execute_reply": "2021-04-25T13:32:52.937761Z"
    }
   },
   "outputs": [],
   "source": [
    "gaussian = profiles.Gaussian(centre=50.0, intensity=5.0, sigma=15.0)\n",
    "dataset_path = path.join(\"dataset\", \"example_1d\", \"gaussian_x1_2__low_snr\")\n",
    "util.simulate_line_from_gaussian(gaussian=gaussian, dataset_path=dataset_path)"
   ]
  },
  {
   "cell_type": "markdown",
   "metadata": {},
   "source": [
    "Finish."
   ]
  },
  {
   "cell_type": "code",
   "execution_count": null,
   "metadata": {},
   "outputs": [],
   "source": []
  }
 ],
 "metadata": {
  "anaconda-cloud": {},
  "kernelspec": {
   "display_name": "Python 3",
   "language": "python",
   "name": "python3"
  },
  "language_info": {
   "codemirror_mode": {
    "name": "ipython",
    "version": 3
   },
   "file_extension": ".py",
   "mimetype": "text/x-python",
   "name": "python",
   "nbconvert_exporter": "python",
   "pygments_lexer": "ipython3",
   "version": "3.8.5"
  }
 },
 "nbformat": 4,
 "nbformat_minor": 4
}
