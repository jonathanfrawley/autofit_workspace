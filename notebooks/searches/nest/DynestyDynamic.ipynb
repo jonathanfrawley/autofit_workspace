{
 "cells": [
  {
   "cell_type": "markdown",
   "metadata": {},
   "source": [
    "Searches: DynestyDynamic\n",
    "=======================\n",
    "\n",
    "This example illustrates how to use the nested sampling algorithm DynestyDynamic.\n",
    "\n",
    "Information about Dynesty can be found at the following links:\n",
    "\n",
    " - https://github.com/joshspeagle/dynesty\n",
    " - https://dynesty.readthedocs.io/en/latest/"
   ]
  },
  {
   "cell_type": "code",
   "execution_count": 1,
   "metadata": {
    "execution": {
     "iopub.execute_input": "2021-05-10T09:18:14.331315Z",
     "iopub.status.busy": "2021-05-10T09:18:14.330824Z",
     "iopub.status.idle": "2021-05-10T09:18:16.042953Z",
     "shell.execute_reply": "2021-05-10T09:18:16.042431Z"
    }
   },
   "outputs": [
    {
     "name": "stdout",
     "output_type": "stream",
     "text": [
      "/mnt/c/Users/Jammy/Code/PyAuto/autofit_workspace\n",
      "Working Directory has been set to `/mnt/c/Users/Jammy/Code/PyAuto/autofit_workspace`\n"
     ]
    }
   ],
   "source": [
    "%matplotlib inline\n",
    "from pyprojroot import here\n",
    "workspace_path = str(here())\n",
    "%cd $workspace_path\n",
    "print(f\"Working Directory has been set to `{workspace_path}`\")\n",
    "\n",
    "import autofit as af\n",
    "import model as m\n",
    "import analysis as a\n",
    "\n",
    "import matplotlib.pyplot as plt\n",
    "import numpy as np\n",
    "from os import path"
   ]
  },
  {
   "cell_type": "markdown",
   "metadata": {},
   "source": [
    "__Data__\n",
    "\n",
    "This example fits a single 1D Gaussian, we therefore load and plot data containing one Gaussian."
   ]
  },
  {
   "cell_type": "code",
   "execution_count": 2,
   "metadata": {
    "execution": {
     "iopub.execute_input": "2021-05-10T09:18:16.047106Z",
     "iopub.status.busy": "2021-05-10T09:18:16.046660Z",
     "iopub.status.idle": "2021-05-10T09:18:16.173709Z",
     "shell.execute_reply": "2021-05-10T09:18:16.174034Z"
    }
   },
   "outputs": [
    {
     "data": {
      "image/png": "[encoded data removed]",
      "text/plain": [
       "<Figure size 432x288 with 1 Axes>"
      ]
     },
     "metadata": {
      "needs_background": "light"
     },
     "output_type": "display_data"
    }
   ],
   "source": [
    "dataset_path = path.join(\"dataset\", \"example_1d\", \"gaussian_x1\")\n",
    "data = af.util.numpy_array_from_json(file_path=path.join(dataset_path, \"data.json\"))\n",
    "noise_map = af.util.numpy_array_from_json(\n",
    "    file_path=path.join(dataset_path, \"noise_map.json\")\n",
    ")\n",
    "\n",
    "plt.errorbar(\n",
    "    x=range(data.shape[0]),\n",
    "    y=data,\n",
    "    yerr=noise_map,\n",
    "    color=\"k\",\n",
    "    ecolor=\"k\",\n",
    "    elinewidth=1,\n",
    "    capsize=2,\n",
    ")\n",
    "plt.show()\n",
    "plt.close()"
   ]
  },
  {
   "cell_type": "markdown",
   "metadata": {},
   "source": [
    "__Model + Analysis__\n",
    "\n",
    "We create the model and analysis, which in this example is a single `Gaussian` and therefore has dimensionality N=3."
   ]
  },
  {
   "cell_type": "code",
   "execution_count": 3,
   "metadata": {
    "execution": {
     "iopub.execute_input": "2021-05-10T09:18:16.177770Z",
     "iopub.status.busy": "2021-05-10T09:18:16.177346Z",
     "iopub.status.idle": "2021-05-10T09:18:16.191948Z",
     "shell.execute_reply": "2021-05-10T09:18:16.191541Z"
    }
   },
   "outputs": [],
   "source": [
    "model = af.Model(m.Gaussian)\n",
    "\n",
    "model.centre = af.UniformPrior(lower_limit=0.0, upper_limit=100.0)\n",
    "model.intensity = af.LogUniformPrior(lower_limit=1e-2, upper_limit=1e2)\n",
    "model.sigma = af.UniformPrior(lower_limit=0.0, upper_limit=30.0)\n",
    "\n",
    "analysis = a.Analysis(data=data, noise_map=noise_map)"
   ]
  },
  {
   "cell_type": "markdown",
   "metadata": {},
   "source": [
    "__Search__\n",
    "\n",
    "We now create and run the `DynestyDynamic` object which acts as our non-linear search. \n",
    "\n",
    "We manually specify all of the Dynesty settings, descriptions of which are provided at the following webpage:\n",
    "\n",
    " https://dynesty.readthedocs.io/en/latest/api.html\n",
    " https://dynesty.readthedocs.io/en/latest/api.html#module-dynesty.dynamicsampler"
   ]
  },
  {
   "cell_type": "code",
   "execution_count": 4,
   "metadata": {
    "execution": {
     "iopub.execute_input": "2021-05-10T09:18:16.196229Z",
     "iopub.status.busy": "2021-05-10T09:18:16.195800Z",
     "iopub.status.idle": "2021-05-10T09:18:22.503029Z",
     "shell.execute_reply": "2021-05-10T09:18:22.503358Z"
    }
   },
   "outputs": [
    {
     "name": "stderr",
     "output_type": "stream",
     "text": [
      "2021-05-10 10:18:17,343 - root - INFO - Generating initial samples of model, which are subject to prior limits and other constraints.\n",
      "2021-05-10 10:18:17,452 - root - INFO - No Dynesty samples found, beginning new non-linear search. \n",
      "1669it [00:03, 484.03it/s, batch: 0 | bound: 0 | nc: 1 | ncall: 5505 | eff(%): 30.318 | loglstar:   -inf < -88.506 <    inf | logz: -97.752 +/-  0.246 | dlogz:  1.099 >  0.010]      \n",
      "2021-05-10 10:18:21,301 - root - INFO - 5000 Iterations: Performing update (Visualization, outputting samples, etc.).\n",
      "0it [00:00, ?it/s]\n",
      "2021-05-10 10:18:21,895 - root - INFO - 10000 Iterations: Performing update (Visualization, outputting samples, etc.).\n",
      "2021-05-10 10:18:22,132 - root - INFO - 15000 Iterations: Performing update (Visualization, outputting samples, etc.).\n"
     ]
    },
    {
     "data": {
      "text/plain": [
       "<Figure size 432x288 with 0 Axes>"
      ]
     },
     "metadata": {},
     "output_type": "display_data"
    }
   ],
   "source": [
    "dynesty = af.DynestyDynamic(\n",
    "    path_prefix=\"searches\",\n",
    "    name=\"DynestyDynamic\",\n",
    "    nlive=50,\n",
    "    bound=\"multi\",\n",
    "    sample=\"auto\",\n",
    "    bootstrap=None,\n",
    "    enlarge=None,\n",
    "    update_interval=None,\n",
    "    vol_dec=0.5,\n",
    "    vol_check=2.0,\n",
    "    walks=25,\n",
    "    facc=0.5,\n",
    "    slices=5,\n",
    "    fmove=0.9,\n",
    "    max_move=100,\n",
    "    iterations_per_update=5000,\n",
    "    number_of_cores=2,\n",
    ")\n",
    "\n",
    "result = dynesty.fit(model=model, analysis=analysis)"
   ]
  },
  {
   "cell_type": "markdown",
   "metadata": {},
   "source": [
    "__Result__\n",
    "\n",
    "The result object returned by the fit provides information on the results of the non-linear search. Lets use it to\n",
    "compare the maximum log likelihood `Gaussian` to the data."
   ]
  },
  {
   "cell_type": "code",
   "execution_count": 5,
   "metadata": {
    "execution": {
     "iopub.execute_input": "2021-05-10T09:18:22.523469Z",
     "iopub.status.busy": "2021-05-10T09:18:22.520441Z",
     "iopub.status.idle": "2021-05-10T09:18:22.642817Z",
     "shell.execute_reply": "2021-05-10T09:18:22.642227Z"
    }
   },
   "outputs": [
    {
     "data": {
      "image/png": "[encoded data removed]",
      "text/plain": [
       "<Figure size 432x288 with 1 Axes>"
      ]
     },
     "metadata": {
      "needs_background": "light"
     },
     "output_type": "display_data"
    }
   ],
   "source": [
    "model_data = result.max_log_likelihood_instance.profile_from_xvalues(\n",
    "    xvalues=np.arange(data.shape[0])\n",
    ")\n",
    "\n",
    "plt.errorbar(\n",
    "    x=range(data.shape[0]),\n",
    "    y=data,\n",
    "    yerr=noise_map,\n",
    "    color=\"k\",\n",
    "    ecolor=\"k\",\n",
    "    elinewidth=1,\n",
    "    capsize=2,\n",
    ")\n",
    "plt.plot(range(data.shape[0]), model_data, color=\"r\")\n",
    "plt.title(\"DynestyDynamic model fit to 1D Gaussian dataset.\")\n",
    "plt.xlabel(\"x values of profile\")\n",
    "plt.ylabel(\"Profile intensity\")\n",
    "plt.show()\n",
    "plt.close()\n"
   ]
  }
 ],
 "metadata": {
  "anaconda-cloud": {},
  "kernelspec": {
   "display_name": "Python 3",
   "language": "python",
   "name": "python3"
  },
  "language_info": {
   "codemirror_mode": {
    "name": "ipython",
    "version": 3
   },
   "file_extension": ".py",
   "mimetype": "text/x-python",
   "name": "python",
   "nbconvert_exporter": "python",
   "pygments_lexer": "ipython3",
   "version": "3.8.5"
  }
 },
 "nbformat": 4,
 "nbformat_minor": 4
}
