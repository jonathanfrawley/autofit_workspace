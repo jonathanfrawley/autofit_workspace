{
 "cells": [
  {
   "cell_type": "markdown",
   "metadata": {},
   "source": [
    "Searches: DynestyDynamic\n",
    "=======================\n",
    "\n",
    "This example illustrates how to use the nested sampling algorithm DynestyDynamic.\n",
    "\n",
    "Information about Dynesty can be found at the following links:\n",
    "\n",
    " - https://github.com/joshspeagle/dynesty\n",
    " - https://dynesty.readthedocs.io/en/latest/"
   ]
  },
  {
   "cell_type": "code",
   "execution_count": 1,
   "metadata": {
    "execution": {
     "iopub.execute_input": "2021-05-11T19:12:36.801155Z",
     "iopub.status.busy": "2021-05-11T19:12:36.800747Z",
     "iopub.status.idle": "2021-05-11T19:12:38.354766Z",
     "shell.execute_reply": "2021-05-11T19:12:38.355074Z"
    }
   },
   "outputs": [
    {
     "name": "stdout",
     "output_type": "stream",
     "text": [
      "/mnt/c/Users/Jammy/Code/PyAuto/autofit_workspace\n",
      "Working Directory has been set to `/mnt/c/Users/Jammy/Code/PyAuto/autofit_workspace`\n"
     ]
    }
   ],
   "source": [
    "%matplotlib inline\n",
    "from pyprojroot import here\n",
    "workspace_path = str(here())\n",
    "%cd $workspace_path\n",
    "print(f\"Working Directory has been set to `{workspace_path}`\")\n",
    "\n",
    "import autofit as af\n",
    "import model as m\n",
    "import analysis as a\n",
    "\n",
    "import matplotlib.pyplot as plt\n",
    "import numpy as np\n",
    "from os import path"
   ]
  },
  {
   "cell_type": "markdown",
   "metadata": {},
   "source": [
    "__Data__\n",
    "\n",
    "This example fits a single 1D Gaussian, we therefore load and plot data containing one Gaussian."
   ]
  },
  {
   "cell_type": "code",
   "execution_count": 2,
   "metadata": {
    "execution": {
     "iopub.execute_input": "2021-05-11T19:12:38.358475Z",
     "iopub.status.busy": "2021-05-11T19:12:38.358103Z",
     "iopub.status.idle": "2021-05-11T19:12:38.461903Z",
     "shell.execute_reply": "2021-05-11T19:12:38.461506Z"
    }
   },
   "outputs": [
    {
     "data": {
      "image/png": "[encoded data removed]",
      "text/plain": [
       "<Figure size 432x288 with 1 Axes>"
      ]
     },
     "metadata": {
      "needs_background": "light"
     },
     "output_type": "display_data"
    }
   ],
   "source": [
    "dataset_path = path.join(\"dataset\", \"example_1d\", \"gaussian_x1\")\n",
    "data = af.util.numpy_array_from_json(file_path=path.join(dataset_path, \"data.json\"))\n",
    "noise_map = af.util.numpy_array_from_json(\n",
    "    file_path=path.join(dataset_path, \"noise_map.json\")\n",
    ")\n",
    "\n",
    "plt.errorbar(\n",
    "    x=range(data.shape[0]),\n",
    "    y=data,\n",
    "    yerr=noise_map,\n",
    "    color=\"k\",\n",
    "    ecolor=\"k\",\n",
    "    elinewidth=1,\n",
    "    capsize=2,\n",
    ")\n",
    "plt.show()\n",
    "plt.close()"
   ]
  },
  {
   "cell_type": "markdown",
   "metadata": {},
   "source": [
    "__Model + Analysis__\n",
    "\n",
    "We create the model and analysis, which in this example is a single `Gaussian` and therefore has dimensionality N=3."
   ]
  },
  {
   "cell_type": "code",
   "execution_count": 3,
   "metadata": {
    "execution": {
     "iopub.execute_input": "2021-05-11T19:12:38.465159Z",
     "iopub.status.busy": "2021-05-11T19:12:38.464811Z",
     "iopub.status.idle": "2021-05-11T19:12:38.477525Z",
     "shell.execute_reply": "2021-05-11T19:12:38.477793Z"
    }
   },
   "outputs": [],
   "source": [
    "model = af.Model(m.Gaussian)\n",
    "\n",
    "model.centre = af.UniformPrior(lower_limit=0.0, upper_limit=100.0)\n",
    "model.intensity = af.LogUniformPrior(lower_limit=1e-2, upper_limit=1e2)\n",
    "model.sigma = af.UniformPrior(lower_limit=0.0, upper_limit=30.0)\n",
    "\n",
    "analysis = a.Analysis(data=data, noise_map=noise_map)"
   ]
  },
  {
   "cell_type": "markdown",
   "metadata": {},
   "source": [
    "__Search__\n",
    "\n",
    "We now create and run the `DynestyDynamic` object which acts as our non-linear search. \n",
    "\n",
    "We manually specify all of the Dynesty settings, descriptions of which are provided at the following webpage:\n",
    "\n",
    " https://dynesty.readthedocs.io/en/latest/api.html\n",
    " https://dynesty.readthedocs.io/en/latest/api.html#module-dynesty.dynamicsampler"
   ]
  },
  {
   "cell_type": "code",
   "execution_count": 4,
   "metadata": {
    "execution": {
     "iopub.execute_input": "2021-05-11T19:12:38.481540Z",
     "iopub.status.busy": "2021-05-11T19:12:38.481189Z",
     "iopub.status.idle": "2021-05-11T19:12:43.498764Z",
     "shell.execute_reply": "2021-05-11T19:12:43.498436Z"
    }
   },
   "outputs": [
    {
     "name": "stderr",
     "output_type": "stream",
     "text": [
      "2021-05-11 20:12:39,581 - root - INFO - Generating initial samples of model, which are subject to prior limits and other constraints.\n",
      "2021-05-11 20:12:39,666 - root - INFO - No Dynesty samples found, beginning new non-linear search. \n",
      "1723it [00:02, 665.62it/s, batch: 0 | bound: 0 | nc: 1 | ncall: 5524 | eff(%): 31.191 | loglstar:   -inf < -220.201 <    inf | logz: -229.554 +/-  0.256 | dlogz:  1.099 >  0.010]    \n",
      "2021-05-11 20:12:42,575 - root - INFO - 5000 Iterations: Performing update (Visualization, outputting samples, etc.).\n",
      "0it [00:00, ?it/s]\n",
      "2021-05-11 20:12:43,014 - root - INFO - 10000 Iterations: Performing update (Visualization, outputting samples, etc.).\n",
      "2021-05-11 20:12:43,193 - root - INFO - 15000 Iterations: Performing update (Visualization, outputting samples, etc.).\n"
     ]
    },
    {
     "data": {
      "text/plain": [
       "<Figure size 432x288 with 0 Axes>"
      ]
     },
     "metadata": {},
     "output_type": "display_data"
    }
   ],
   "source": [
    "dynesty = af.DynestyDynamic(\n",
    "    path_prefix=\"searches\",\n",
    "    name=\"DynestyDynamic\",\n",
    "    nlive=50,\n",
    "    bound=\"multi\",\n",
    "    sample=\"auto\",\n",
    "    bootstrap=None,\n",
    "    enlarge=None,\n",
    "    update_interval=None,\n",
    "    vol_dec=0.5,\n",
    "    vol_check=2.0,\n",
    "    walks=25,\n",
    "    facc=0.5,\n",
    "    slices=5,\n",
    "    fmove=0.9,\n",
    "    max_move=100,\n",
    "    iterations_per_update=5000,\n",
    "    number_of_cores=2,\n",
    ")\n",
    "\n",
    "result = dynesty.fit(model=model, analysis=analysis)"
   ]
  },
  {
   "cell_type": "markdown",
   "metadata": {},
   "source": [
    "__Result__\n",
    "\n",
    "The result object returned by the fit provides information on the results of the non-linear search. Lets use it to\n",
    "compare the maximum log likelihood `Gaussian` to the data."
   ]
  },
  {
   "cell_type": "code",
   "execution_count": 5,
   "metadata": {
    "execution": {
     "iopub.execute_input": "2021-05-11T19:12:43.509431Z",
     "iopub.status.busy": "2021-05-11T19:12:43.508571Z",
     "iopub.status.idle": "2021-05-11T19:12:43.601905Z",
     "shell.execute_reply": "2021-05-11T19:12:43.601606Z"
    }
   },
   "outputs": [
    {
     "data": {
      "image/png": "[encoded data removed]",
      "text/plain": [
       "<Figure size 432x288 with 1 Axes>"
      ]
     },
     "metadata": {
      "needs_background": "light"
     },
     "output_type": "display_data"
    }
   ],
   "source": [
    "model_data = result.max_log_likelihood_instance.profile_from_xvalues(\n",
    "    xvalues=np.arange(data.shape[0])\n",
    ")\n",
    "\n",
    "plt.errorbar(\n",
    "    x=range(data.shape[0]),\n",
    "    y=data,\n",
    "    yerr=noise_map,\n",
    "    color=\"k\",\n",
    "    ecolor=\"k\",\n",
    "    elinewidth=1,\n",
    "    capsize=2,\n",
    ")\n",
    "plt.plot(range(data.shape[0]), model_data, color=\"r\")\n",
    "plt.title(\"DynestyDynamic model fit to 1D Gaussian dataset.\")\n",
    "plt.xlabel(\"x values of profile\")\n",
    "plt.ylabel(\"Profile intensity\")\n",
    "plt.show()\n",
    "plt.close()\n"
   ]
  }
 ],
 "metadata": {
  "anaconda-cloud": {},
  "kernelspec": {
   "display_name": "Python 3",
   "language": "python",
   "name": "python3"
  },
  "language_info": {
   "codemirror_mode": {
    "name": "ipython",
    "version": 3
   },
   "file_extension": ".py",
   "mimetype": "text/x-python",
   "name": "python",
   "nbconvert_exporter": "python",
   "pygments_lexer": "ipython3",
   "version": "3.8.5"
  }
 },
 "nbformat": 4,
 "nbformat_minor": 4
}
