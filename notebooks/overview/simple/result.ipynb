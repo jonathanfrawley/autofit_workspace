{
 "cells": [
  {
   "cell_type": "markdown",
   "metadata": {},
   "source": [
    "Overview: Result\n",
    "================\n",
    "\n",
    "In this example, we'll repeat the fit of 1D data of a `Gaussian` profile with a 1D `Gaussian` model using the non-linear\n",
    "search emcee and inspect the *Result* object that is returned in detail.\n",
    "\n",
    "If you haven't already, you should checkout the notebook `overview/fit.ipynb` to  see how the fit is performed by the\n",
    "code below. The first section of code below is simmply repeating the commands in `example/fit.py`, so feel free to\n",
    "skip over it until you his the `Result`'s section."
   ]
  },
  {
   "cell_type": "code",
   "execution_count": 1,
   "metadata": {
    "execution": {
     "iopub.execute_input": "2021-05-03T17:12:57.587436Z",
     "iopub.status.busy": "2021-05-03T17:12:57.586893Z",
     "iopub.status.idle": "2021-05-03T17:12:59.252152Z",
     "shell.execute_reply": "2021-05-03T17:12:59.252543Z"
    }
   },
   "outputs": [],
   "source": [
    "%matplotlib inline\n",
    "\n",
    "import autofit as af\n",
    "\n",
    "from os import path\n",
    "import matplotlib.pyplot as plt\n",
    "import numpy as np"
   ]
  },
  {
   "cell_type": "markdown",
   "metadata": {
    "collapsed": false
   },
   "source": [
    "At the top of every tutorial notebook, you'll see the following cell. This cell uses the project `pyprojroot` to\n",
    "locate the path to the workspace on your computer and use it to set the working directory of the notebook."
   ]
  },
  {
   "cell_type": "code",
   "execution_count": 2,
   "metadata": {
    "collapsed": false,
    "execution": {
     "iopub.execute_input": "2021-05-03T17:12:59.256469Z",
     "iopub.status.busy": "2021-05-03T17:12:59.255987Z",
     "iopub.status.idle": "2021-05-03T17:12:59.271774Z",
     "shell.execute_reply": "2021-05-03T17:12:59.271284Z"
    },
    "pycharm": {
     "name": "#%%\n"
    }
   },
   "outputs": [
    {
     "name": "stdout",
     "output_type": "stream",
     "text": [
      "/mnt/c/Users/Jammy/Code/PyAuto/autofit_workspace\n",
      "Working Directory has been set to `/mnt/c/Users/Jammy/Code/PyAuto/autofit_workspace`\n"
     ]
    }
   ],
   "source": [
    "from pyprojroot import here\n",
    "workspace_path = str(here())\n",
    "%cd $workspace_path\n",
    "print(f\"Working Directory has been set to `{workspace_path}`\")"
   ]
  },
  {
   "cell_type": "markdown",
   "metadata": {},
   "source": [
    "__Data__\n",
    "\n",
    "First, lets load data of a 1D Gaussian, by loading it from a .json file in the directory \n",
    "`autofit_workspace/dataset/`, which  simulates the noisy data we fit (check it out to see how we simulate the \n",
    "data)."
   ]
  },
  {
   "cell_type": "code",
   "execution_count": 3,
   "metadata": {
    "execution": {
     "iopub.execute_input": "2021-05-03T17:12:59.276259Z",
     "iopub.status.busy": "2021-05-03T17:12:59.275786Z",
     "iopub.status.idle": "2021-05-03T17:12:59.280463Z",
     "shell.execute_reply": "2021-05-03T17:12:59.279559Z"
    }
   },
   "outputs": [],
   "source": [
    "dataset_path = path.join(\"dataset\", \"example_1d\", \"gaussian_x1\")\n",
    "\n",
    "data = af.util.numpy_array_from_json(file_path=path.join(dataset_path, \"data.json\"))\n",
    "noise_map = af.util.numpy_array_from_json(\n",
    "    file_path=path.join(dataset_path, \"noise_map.json\")\n",
    ")"
   ]
  },
  {
   "cell_type": "markdown",
   "metadata": {},
   "source": [
    "__Model + Analysis__\n",
    "\n",
    "We create the same model and analysis classes use in the example `autofit_workspace/notebooks/overview/simple/fit.ipynb`."
   ]
  },
  {
   "cell_type": "code",
   "execution_count": 4,
   "metadata": {
    "collapsed": false,
    "execution": {
     "iopub.execute_input": "2021-05-03T17:12:59.285865Z",
     "iopub.status.busy": "2021-05-03T17:12:59.285187Z",
     "iopub.status.idle": "2021-05-03T17:12:59.287510Z",
     "shell.execute_reply": "2021-05-03T17:12:59.287977Z"
    },
    "pycharm": {
     "name": "#%%\n"
    }
   },
   "outputs": [],
   "source": [
    "class Gaussian:\n",
    "    def __init__(\n",
    "        self,\n",
    "        centre=0.0,  # <- PyAutoFit recognises these constructor arguments\n",
    "        intensity=0.1,  # <- are the Gaussian`s model parameters.\n",
    "        sigma=0.01,\n",
    "    ):\n",
    "        \"\"\"Represents a 1D `Gaussian` profile, which may be treated as a model-component of PyAutoFit the\n",
    "        parameters of which are fitted for by a non-linear search.\n",
    "\n",
    "        Parameters\n",
    "        ----------\n",
    "        centre : float\n",
    "            The x coordinate of the profile centre.\n",
    "        intensity : float\n",
    "            Overall intensity normalisation of the `Gaussian` profile.\n",
    "        sigma : float\n",
    "            The sigma value controlling the size of the Gaussian.\n",
    "        \"\"\"\n",
    "\n",
    "        self.centre = centre\n",
    "        self.intensity = intensity\n",
    "        self.sigma = sigma\n",
    "\n",
    "    def profile_from_xvalues(self, xvalues):\n",
    "        \"\"\"\n",
    "        Calculate the intensity of the profile on a line of Cartesian x coordinates.\n",
    "\n",
    "        The input xvalues are translated to a coordinate system centred on the Gaussian, using its centre.\n",
    "\n",
    "        Parameters\n",
    "        ----------\n",
    "        xvalues : np.ndarray\n",
    "            The x coordinates in the original reference frame of the grid.\n",
    "        \"\"\"\n",
    "\n",
    "        transformed_xvalues = xvalues - self.centre\n",
    "\n",
    "        return np.multiply(\n",
    "            np.divide(self.intensity, self.sigma * np.sqrt(2.0 * np.pi)),\n",
    "            np.exp(-0.5 * np.square(np.divide(transformed_xvalues, self.sigma))),\n",
    "        )"
   ]
  },
  {
   "cell_type": "code",
   "execution_count": 5,
   "metadata": {
    "collapsed": false,
    "execution": {
     "iopub.execute_input": "2021-05-03T17:12:59.294213Z",
     "iopub.status.busy": "2021-05-03T17:12:59.293696Z",
     "iopub.status.idle": "2021-05-03T17:12:59.296278Z",
     "shell.execute_reply": "2021-05-03T17:12:59.295778Z"
    },
    "pycharm": {
     "name": "#%%\n"
    }
   },
   "outputs": [],
   "source": [
    "class Analysis(af.Analysis):\n",
    "\n",
    "    def __init__(self, data, noise_map):\n",
    "\n",
    "        super().__init__()\n",
    "\n",
    "        self.data = data\n",
    "        self.noise_map = noise_map\n",
    "\n",
    "    def log_likelihood_function(self, instance):\n",
    "        \"\"\"\n",
    "        Determine the log likelihood of a fit of a `Gaussian` to the dataset, using a model instance of the Gaussian.\n",
    "\n",
    "        Parameters\n",
    "        ----------\n",
    "        instance : model.Gaussian\n",
    "            The `Gaussian` model instance.\n",
    "\n",
    "        Returnsn\n",
    "        -------\n",
    "        fit : Fit.log_likelihood\n",
    "            The log likelihood value indicating how well this model fit the dataset.\n",
    "        \"\"\"\n",
    "\n",
    "        xvalues = np.arange(self.data.shape[0])\n",
    "        model_data = instance.profile_from_xvalues(xvalues=xvalues)\n",
    "        residual_map = self.data - model_data\n",
    "        chi_squared_map = (residual_map / self.noise_map) ** 2.0\n",
    "        log_likelihood = -0.5 * sum(chi_squared_map)\n",
    "\n",
    "        return log_likelihood\n"
   ]
  },
  {
   "cell_type": "code",
   "execution_count": 6,
   "metadata": {
    "execution": {
     "iopub.execute_input": "2021-05-03T17:12:59.300178Z",
     "iopub.status.busy": "2021-05-03T17:12:59.299440Z",
     "iopub.status.idle": "2021-05-03T17:12:59.310190Z",
     "shell.execute_reply": "2021-05-03T17:12:59.309701Z"
    }
   },
   "outputs": [],
   "source": [
    "model = af.Model(Gaussian)\n",
    "analysis = Analysis(data=data, noise_map=noise_map)"
   ]
  },
  {
   "cell_type": "markdown",
   "metadata": {},
   "source": [
    "We now perform the fit to get a `Result` object."
   ]
  },
  {
   "cell_type": "code",
   "execution_count": 7,
   "metadata": {
    "execution": {
     "iopub.execute_input": "2021-05-03T17:12:59.314758Z",
     "iopub.status.busy": "2021-05-03T17:12:59.314309Z",
     "iopub.status.idle": "2021-05-03T17:13:00.129206Z",
     "shell.execute_reply": "2021-05-03T17:13:00.128547Z"
    }
   },
   "outputs": [
    {
     "name": "stderr",
     "output_type": "stream",
     "text": [
      "INFO:root: already completed, skipping non-linear search.\n"
     ]
    }
   ],
   "source": [
    "emcee = af.Emcee(\n",
    "    path_prefix=path.join(\"overview\", \"simple\"),\n",
    "    nwalkers=30,\n",
    "    nsteps=1000,\n",
    "    initializer=af.InitializerBall(lower_limit=0.49, upper_limit=0.51),\n",
    "    auto_correlation_check_for_convergence=True,\n",
    "    auto_correlation_check_size=100,\n",
    "    auto_correlation_required_length=50,\n",
    "    auto_correlation_change_threshold=0.01,\n",
    "    number_of_cores=1,\n",
    ")\n",
    "\n",
    "result = emcee.fit(model=model, analysis=analysis)"
   ]
  },
  {
   "cell_type": "markdown",
   "metadata": {},
   "source": [
    "__Result__\n",
    "\n",
    "Here, we'll look in detail at what information is contained in the result.\n",
    "\n",
    "It contains a `Samples` object, which contains information on the non-linear sampling, for example the parameters. \n",
    "The parameters are stored as a list of lists, where the first entry corresponds to the sample index and second entry\n",
    "the parameter index."
   ]
  },
  {
   "cell_type": "code",
   "execution_count": 8,
   "metadata": {
    "execution": {
     "iopub.execute_input": "2021-05-03T17:13:00.261862Z",
     "iopub.status.busy": "2021-05-03T17:13:00.255877Z",
     "iopub.status.idle": "2021-05-03T17:13:00.265208Z",
     "shell.execute_reply": "2021-05-03T17:13:00.264718Z"
    }
   },
   "outputs": [
    {
     "name": "stdout",
     "output_type": "stream",
     "text": [
      "Final 10 Parameters:\n",
      "[[49.98801078120522, 24.83761492648268, 10.120360562311177], [50.158576099109005, 25.140114067472542, 10.247283290853446], [50.23179954915131, 24.649190362894103, 10.038650316465901], [49.9633365660832, 24.779507250055566, 9.992266215232931], [49.82841765429665, 24.363484466385792, 10.268424098772805], [50.133049011975885, 24.90553881030082, 9.983911072041282], [50.023792556954014, 24.351680013635963, 10.063884664437062], [49.9796989728097, 24.736035181311752, 9.960183255355233], [50.15593689348039, 24.959645452180496, 9.934401571011646], [50.05019873230036, 24.258758168589658, 9.903484616680982]]\n",
      "\n",
      "Sample 10`s third parameter value (Gaussian -> sigma)\n",
      "12.387067526894697 \n",
      "\n"
     ]
    }
   ],
   "source": [
    "samples = result.samples\n",
    "\n",
    "print(\"Final 10 Parameters:\")\n",
    "print(samples.parameters[-10:])\n",
    "\n",
    "print(\"\\nSample 10`s third parameter value (Gaussian -> sigma)\")\n",
    "print(samples.parameters[9][2], \"\\n\")"
   ]
  },
  {
   "cell_type": "markdown",
   "metadata": {},
   "source": [
    "The Samples class also contains the log likelihood, log prior, log posterior and weights of every accepted sample,\n",
    "where:\n",
    "\n",
    "   - The log likelihood is the value evaluated from the likelihood function (e.g. -0.5 * chi_squared + the noise\n",
    "     normalized).\n",
    "\n",
    "   - The log prior encodes information on how the priors on the parameters maps the log likelihood value to the log\n",
    "     posterior value.\n",
    "\n",
    "   - The log posterior is log_likelihood + log_prior.\n",
    "\n",
    "   - The weight gives information on how samples should be combined to estimate the posterior. The weight values\n",
    "     depend on the sampler used, for MCMC samples they are all 1 (e.g. all weighted equally).\n",
    "\n",
    "Lets inspect the last 10 values of each for the analysis."
   ]
  },
  {
   "cell_type": "code",
   "execution_count": 9,
   "metadata": {
    "execution": {
     "iopub.execute_input": "2021-05-03T17:13:00.285127Z",
     "iopub.status.busy": "2021-05-03T17:13:00.284543Z",
     "iopub.status.idle": "2021-05-03T17:13:00.287961Z",
     "shell.execute_reply": "2021-05-03T17:13:00.287564Z"
    }
   },
   "outputs": [
    {
     "name": "stdout",
     "output_type": "stream",
     "text": [
      "Final 10 Log Likelihoods:\n",
      "[-45.36605886308144, -45.901133845635364, -45.30820469852554, -45.48462044350711, -52.50777696317621, -45.16755529906232, -46.960929474792636, -45.48018506386007, -45.9377750052564, -46.64649818672679]\n",
      "Final 10 Log Priors:\n",
      "[0.0402615147613778, 0.03977706693438782, 0.040569283829515135, 0.040355927577928635, 0.04104503201829345, 0.040151711136094934, 0.0410649285568815, 0.04042685065210075, 0.040064671668348525, 0.04122222551749595]\n",
      "Final 10 Log Posteriors:\n",
      "[-45.325797348320066, -45.86135677870097, -45.26763541469603, -45.444264515929184, -52.466731931157916, -45.127403587926224, -46.91986454623576, -45.439758213207966, -45.89771033358805, -46.605275961209294]\n",
      "Final 10 Sample Weights:\n",
      "[1.0, 1.0, 1.0, 1.0, 1.0, 1.0, 1.0, 1.0, 1.0, 1.0] \n",
      "\n"
     ]
    }
   ],
   "source": [
    "print(\"Final 10 Log Likelihoods:\")\n",
    "print(samples.log_likelihoods[-10:])\n",
    "\n",
    "print(\"Final 10 Log Priors:\")\n",
    "print(samples.log_priors[-10:])\n",
    "\n",
    "print(\"Final 10 Log Posteriors:\")\n",
    "print(samples.log_posteriors[-10:])\n",
    "\n",
    "print(\"Final 10 Sample Weights:\")\n",
    "print(samples.weights[-10:], \"\\n\")"
   ]
  },
  {
   "cell_type": "markdown",
   "metadata": {},
   "source": [
    "The median pdf vector is readily available from the `Samples` object for you convenience (and if a nested sampling\n",
    "`NonLinearSearch` is used instead, it will use an appropriate method to estimate the parameters):"
   ]
  },
  {
   "cell_type": "code",
   "execution_count": 10,
   "metadata": {
    "execution": {
     "iopub.execute_input": "2021-05-03T17:13:00.291535Z",
     "iopub.status.busy": "2021-05-03T17:13:00.290816Z",
     "iopub.status.idle": "2021-05-03T17:13:00.311432Z",
     "shell.execute_reply": "2021-05-03T17:13:00.311844Z"
    }
   },
   "outputs": [
    {
     "name": "stdout",
     "output_type": "stream",
     "text": [
      "Median PDF Vector:\n",
      "[50.11761289466523, 24.80068254294097, 10.035551360894395] \n",
      "\n"
     ]
    }
   ],
   "source": [
    "median_pdf_vector = samples.median_pdf_vector\n",
    "print(\"Median PDF Vector:\")\n",
    "print(median_pdf_vector, \"\\n\")"
   ]
  },
  {
   "cell_type": "markdown",
   "metadata": {},
   "source": [
    "The samples contain many useful vectors, including the samples with the highest likelihood and posterior values:"
   ]
  },
  {
   "cell_type": "code",
   "execution_count": 11,
   "metadata": {
    "execution": {
     "iopub.execute_input": "2021-05-03T17:13:00.361448Z",
     "iopub.status.busy": "2021-05-03T17:13:00.356708Z",
     "iopub.status.idle": "2021-05-03T17:13:00.364706Z",
     "shell.execute_reply": "2021-05-03T17:13:00.365132Z"
    }
   },
   "outputs": [
    {
     "name": "stdout",
     "output_type": "stream",
     "text": [
      "Maximum Log Likelihood Vector:\n",
      "[50.11341570832164, 24.809079936050743, 10.050041066647877]\n",
      "\n",
      "Maximum Log Posterior Vector:\n",
      "[50.11341570832164, 24.809079936050743, 10.050041066647877]\n"
     ]
    }
   ],
   "source": [
    "max_log_likelihood_vector = samples.max_log_likelihood_vector\n",
    "max_log_posterior_vector = samples.max_log_posterior_vector\n",
    "\n",
    "print(\"Maximum Log Likelihood Vector:\")\n",
    "print(max_log_likelihood_vector)\n",
    "\n",
    "print(\"\\nMaximum Log Posterior Vector:\")\n",
    "print(max_log_posterior_vector)\n"
   ]
  },
  {
   "cell_type": "markdown",
   "metadata": {},
   "source": [
    "It also provides methods for computing the error estimates of all parameters at an input sigma confidence limit, which\n",
    "can be returned at the values of the parameters including their errors or the size of the errors on each parameter:"
   ]
  },
  {
   "cell_type": "code",
   "execution_count": 12,
   "metadata": {
    "execution": {
     "iopub.execute_input": "2021-05-03T17:13:00.370977Z",
     "iopub.status.busy": "2021-05-03T17:13:00.370021Z",
     "iopub.status.idle": "2021-05-03T17:13:00.444925Z",
     "shell.execute_reply": "2021-05-03T17:13:00.445320Z"
    }
   },
   "outputs": [
    {
     "name": "stdout",
     "output_type": "stream",
     "text": [
      "Upper Parameter values w/ error (at 3.0 sigma confidence):\n",
      "[50.478582259371755, 25.500041447690972, 10.423115369559435]\n",
      "lower Parameter values w/ errors (at 3.0 sigma confidence):\n",
      "[49.731113436444275, 24.035809280760116, 9.733397458971632] \n",
      "\n",
      "Upper Error values (at 3.0 sigma confidence):\n",
      "[0.3609693647065271, 0.6993589047500031, 0.3875640086650396]\n",
      "lower Error values (at 3.0 sigma confidence):\n",
      "[0.38649945822095333, 0.7648732621808527, 0.3021539019227628] \n",
      "\n"
     ]
    }
   ],
   "source": [
    "vector_at_upper_sigma = samples.vector_at_upper_sigma(sigma=3.0)\n",
    "vector_at_lower_sigma = samples.vector_at_lower_sigma(sigma=3.0)\n",
    "\n",
    "print(\"Upper Parameter values w/ error (at 3.0 sigma confidence):\")\n",
    "print(vector_at_upper_sigma)\n",
    "\n",
    "print(\"lower Parameter values w/ errors (at 3.0 sigma confidence):\")\n",
    "print(vector_at_lower_sigma, \"\\n\")\n",
    "\n",
    "error_vector_at_upper_sigma = samples.error_vector_at_upper_sigma(sigma=3.0)\n",
    "error_vector_at_lower_sigma = samples.error_vector_at_lower_sigma(sigma=3.0)\n",
    "\n",
    "print(\"Upper Error values (at 3.0 sigma confidence):\")\n",
    "print(error_vector_at_upper_sigma)\n",
    "\n",
    "print(\"lower Error values (at 3.0 sigma confidence):\")\n",
    "print(error_vector_at_lower_sigma, \"\\n\")"
   ]
  },
  {
   "cell_type": "markdown",
   "metadata": {},
   "source": [
    "Results vectors return the results as a list, which means you need to know the parameter ordering. The list of\n",
    "parameter names are available as a property of the `Samples`, as are parameter labels which can be used for labeling\n",
    "figures:"
   ]
  },
  {
   "cell_type": "code",
   "execution_count": 13,
   "metadata": {
    "execution": {
     "iopub.execute_input": "2021-05-03T17:13:00.449566Z",
     "iopub.status.busy": "2021-05-03T17:13:00.449064Z",
     "iopub.status.idle": "2021-05-03T17:13:00.451924Z",
     "shell.execute_reply": "2021-05-03T17:13:00.452306Z"
    }
   },
   "outputs": [
    {
     "name": "stdout",
     "output_type": "stream",
     "text": [
      "['centre', 'intensity', 'sigma']\n",
      "\n",
      "\n",
      "['x', 'I', 'sigma']\n",
      "\n",
      "\n"
     ]
    }
   ],
   "source": [
    "print(samples.model.model_component_and_parameter_names)\n",
    "print(\"\\n\")\n",
    "print(samples.model.parameter_labels)\n",
    "print(\"\\n\")"
   ]
  },
  {
   "cell_type": "markdown",
   "metadata": {},
   "source": [
    "Results can instead be returned as an instance, which is an instance of the model using the Python classes used to\n",
    "compose it:"
   ]
  },
  {
   "cell_type": "code",
   "execution_count": 14,
   "metadata": {
    "execution": {
     "iopub.execute_input": "2021-05-03T17:13:00.461339Z",
     "iopub.status.busy": "2021-05-03T17:13:00.460826Z",
     "iopub.status.idle": "2021-05-03T17:13:00.464947Z",
     "shell.execute_reply": "2021-05-03T17:13:00.465343Z"
    }
   },
   "outputs": [
    {
     "name": "stdout",
     "output_type": "stream",
     "text": [
      "Max Log Likelihood `Gaussian` Instance:\n",
      "Centre =  50.11341570832164\n",
      "Intensity =  24.809079936050743\n",
      "Sigma =  10.050041066647877 \n",
      "\n"
     ]
    }
   ],
   "source": [
    "max_log_likelihood_instance = samples.max_log_likelihood_instance\n",
    "\n",
    "print(\"Max Log Likelihood `Gaussian` Instance:\")\n",
    "print(\"Centre = \", max_log_likelihood_instance.centre)\n",
    "print(\"Intensity = \", max_log_likelihood_instance.intensity)\n",
    "print(\"Sigma = \", max_log_likelihood_instance.sigma, \"\\n\")"
   ]
  },
  {
   "cell_type": "markdown",
   "metadata": {},
   "source": [
    "For our example problem of fitting a 1D `Gaussian` profile, this makes it straight forward to plot the maximum\n",
    "likelihood model:"
   ]
  },
  {
   "cell_type": "code",
   "execution_count": 15,
   "metadata": {
    "execution": {
     "iopub.execute_input": "2021-05-03T17:13:00.487450Z",
     "iopub.status.busy": "2021-05-03T17:13:00.486922Z",
     "iopub.status.idle": "2021-05-03T17:13:00.657959Z",
     "shell.execute_reply": "2021-05-03T17:13:00.658372Z"
    }
   },
   "outputs": [
    {
     "data": {
      "image/png": "[encoded data removed]",
      "text/plain": [
       "<Figure size 432x288 with 1 Axes>"
      ]
     },
     "metadata": {
      "needs_background": "light"
     },
     "output_type": "display_data"
    }
   ],
   "source": [
    "model_data = samples.max_log_likelihood_instance.profile_from_xvalues(\n",
    "    xvalues=np.arange(data.shape[0])\n",
    ")\n",
    "\n",
    "xvalues = range(data.shape[0])\n",
    "plt.errorbar(\n",
    "    x=xvalues, y=data, yerr=noise_map, color=\"k\", ecolor=\"k\", elinewidth=1, capsize=2\n",
    ")\n",
    "plt.plot(xvalues, model_data, color=\"r\")\n",
    "plt.title(\"Model fit to 1D `Gaussian` profile data.\")\n",
    "plt.xlabel(\"x values of profile\")\n",
    "plt.ylabel(\"Profile intensity\")\n",
    "plt.show()\n",
    "plt.close()\n"
   ]
  },
  {
   "cell_type": "markdown",
   "metadata": {},
   "source": [
    "All methods above are available as an instance:"
   ]
  },
  {
   "cell_type": "code",
   "execution_count": 16,
   "metadata": {
    "execution": {
     "iopub.execute_input": "2021-05-03T17:13:00.662361Z",
     "iopub.status.busy": "2021-05-03T17:13:00.661561Z",
     "iopub.status.idle": "2021-05-03T17:13:00.680819Z",
     "shell.execute_reply": "2021-05-03T17:13:00.680201Z"
    }
   },
   "outputs": [],
   "source": [
    "median_pdf_instance = samples.median_pdf_instance\n",
    "instance_at_upper_sigma = samples.instance_at_upper_sigma\n",
    "instance_at_lower_sigma = samples.instance_at_lower_sigma\n",
    "error_instance_at_upper_sigma = samples.error_instance_at_upper_sigma\n",
    "error_instance_at_lower_sigma = samples.error_instance_at_lower_sigma"
   ]
  },
  {
   "cell_type": "markdown",
   "metadata": {},
   "source": [
    "An instance of any accepted sample can be created:"
   ]
  },
  {
   "cell_type": "code",
   "execution_count": 17,
   "metadata": {
    "execution": {
     "iopub.execute_input": "2021-05-03T17:13:00.710840Z",
     "iopub.status.busy": "2021-05-03T17:13:00.710274Z",
     "iopub.status.idle": "2021-05-03T17:13:00.714742Z",
     "shell.execute_reply": "2021-05-03T17:13:00.715377Z"
    }
   },
   "outputs": [
    {
     "name": "stdout",
     "output_type": "stream",
     "text": [
      "Gaussian Instance of sample 5000:\n",
      "Centre =  60.35423683216236\n",
      "Intensity =  2.1417826664457995\n",
      "Sigma =  8.531820186090671 \n",
      "\n"
     ]
    }
   ],
   "source": [
    "instance = samples.instance_from_sample_index(sample_index=500)\n",
    "print(\"Gaussian Instance of sample 5000:\")\n",
    "print(\"Centre = \", instance.centre)\n",
    "print(\"Intensity = \", instance.intensity)\n",
    "print(\"Sigma = \", instance.sigma, \"\\n\")"
   ]
  },
  {
   "cell_type": "markdown",
   "metadata": {},
   "source": [
    "If a nested sampling `NonLinearSearch` is used, the evidence of the model is also available which enables Bayesian\n",
    "model comparison to be performed (given we are using Emcee, which is not a nested sampling algorithm, the log evidence \n",
    "is None).:"
   ]
  },
  {
   "cell_type": "code",
   "execution_count": 18,
   "metadata": {
    "execution": {
     "iopub.execute_input": "2021-05-03T17:13:00.719945Z",
     "iopub.status.busy": "2021-05-03T17:13:00.719456Z",
     "iopub.status.idle": "2021-05-03T17:13:00.723613Z",
     "shell.execute_reply": "2021-05-03T17:13:00.723087Z"
    }
   },
   "outputs": [
    {
     "name": "stdout",
     "output_type": "stream",
     "text": [
      "None\n"
     ]
    }
   ],
   "source": [
    "print(samples.log_evidence)"
   ]
  },
  {
   "cell_type": "markdown",
   "metadata": {},
   "source": [
    "At this point, you might be wondering what else the results contains - pretty much everything we discussed above was a\n",
    "part of its *samples* property! For projects which use **PyAutoFit**'s phase API (see the howtofit tutrials), the \n",
    "`Result`'s object can be extended to include model-specific results.\n",
    "\n",
    "For example, we may extend the results of our 1D `Gaussian` example to include properties containing the maximum\n",
    "log likelihood of the summed model data and for every individual profile in the model.\n",
    "\n",
    "(The commented out functions below are llustrative of the API we can create, but do not work in this example given we \n",
    "are not using the phase API.)"
   ]
  },
  {
   "cell_type": "code",
   "execution_count": 19,
   "metadata": {
    "execution": {
     "iopub.execute_input": "2021-05-03T17:13:00.726934Z",
     "iopub.status.busy": "2021-05-03T17:13:00.726411Z",
     "iopub.status.idle": "2021-05-03T17:13:00.729025Z",
     "shell.execute_reply": "2021-05-03T17:13:00.729641Z"
    },
    "pycharm": {
     "name": "#%%\n"
    }
   },
   "outputs": [],
   "source": [
    "# max_log_likelihood_profile = results.max_log_likelihood_profile\n",
    "# max_log_likelihood_profile_list = results.max_log_likelihood_profile_list\n"
   ]
  }
 ],
 "metadata": {
  "anaconda-cloud": {},
  "kernelspec": {
   "display_name": "Python 3",
   "language": "python",
   "name": "python3"
  },
  "language_info": {
   "codemirror_mode": {
    "name": "ipython",
    "version": 3
   },
   "file_extension": ".py",
   "mimetype": "text/x-python",
   "name": "python",
   "nbconvert_exporter": "python",
   "pygments_lexer": "ipython3",
   "version": "3.8.5"
  }
 },
 "nbformat": 4,
 "nbformat_minor": 4
}
