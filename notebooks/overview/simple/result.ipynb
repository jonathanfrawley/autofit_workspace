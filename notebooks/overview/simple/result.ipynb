{
 "cells": [
  {
   "cell_type": "markdown",
   "metadata": {},
   "source": [
    "Overview: Result\n",
    "================\n",
    "\n",
    "In this example, we'll repeat the fit of 1D data of a `Gaussian` profile with a 1D `Gaussian` model using the non-linear\n",
    "search emcee and inspect the *Result* object that is returned in detail.\n",
    "\n",
    "If you haven't already, you should checkout the notebook `overview/fit.ipynb` to  see how the fit is performed by the\n",
    "code below. The first section of code below is simmply repeating the commands in `example/fit.py`, so feel free to\n",
    "skip over it until you his the `Result`'s section."
   ]
  },
  {
   "cell_type": "code",
   "execution_count": 1,
   "metadata": {
    "execution": {
     "iopub.execute_input": "2021-04-15T15:02:10.659848Z",
     "iopub.status.busy": "2021-04-15T15:02:10.659344Z",
     "iopub.status.idle": "2021-04-15T15:02:11.639179Z",
     "shell.execute_reply": "2021-04-15T15:02:11.638690Z"
    }
   },
   "outputs": [],
   "source": [
    "%matplotlib inline\n",
    "\n",
    "import autofit as af\n",
    "\n",
    "from os import path\n",
    "import matplotlib.pyplot as plt\n",
    "import numpy as np"
   ]
  },
  {
   "cell_type": "markdown",
   "metadata": {
    "collapsed": false
   },
   "source": [
    "At the top of every tutorial notebook, you'll see the following cell. This cell uses the project `pyprojroot` to\n",
    "locate the path to the workspace on your computer and use it to set the working directory of the notebook."
   ]
  },
  {
   "cell_type": "code",
   "execution_count": 2,
   "metadata": {
    "collapsed": false,
    "execution": {
     "iopub.execute_input": "2021-04-15T15:02:11.642388Z",
     "iopub.status.busy": "2021-04-15T15:02:11.642049Z",
     "iopub.status.idle": "2021-04-15T15:02:11.652112Z",
     "shell.execute_reply": "2021-04-15T15:02:11.652396Z"
    },
    "pycharm": {
     "name": "#%%\n"
    }
   },
   "outputs": [
    {
     "name": "stdout",
     "output_type": "stream",
     "text": [
      "/mnt/c/Users/Jammy/Code/PyAuto/autofit_workspace\n",
      "Working Directory has been set to `/mnt/c/Users/Jammy/Code/PyAuto/autofit_workspace`\n"
     ]
    }
   ],
   "source": [
    "from pyprojroot import here\n",
    "workspace_path = str(here())\n",
    "%cd $workspace_path\n",
    "print(f\"Working Directory has been set to `{workspace_path}`\")"
   ]
  },
  {
   "cell_type": "markdown",
   "metadata": {},
   "source": [
    "__Data__\n",
    "\n",
    "First, lets load data of a 1D Gaussian, by loading it from a .json file in the directory \n",
    "`autofit_workspace/dataset/`, which  simulates the noisy data we fit (check it out to see how we simulate the \n",
    "data)."
   ]
  },
  {
   "cell_type": "code",
   "execution_count": 3,
   "metadata": {
    "execution": {
     "iopub.execute_input": "2021-04-15T15:02:11.655292Z",
     "iopub.status.busy": "2021-04-15T15:02:11.654935Z",
     "iopub.status.idle": "2021-04-15T15:02:11.657653Z",
     "shell.execute_reply": "2021-04-15T15:02:11.657355Z"
    }
   },
   "outputs": [],
   "source": [
    "dataset_path = path.join(\"dataset\", \"example_1d\", \"gaussian_x1\")\n",
    "\n",
    "data = af.util.numpy_array_from_json(file_path=path.join(dataset_path, \"data.json\"))\n",
    "noise_map = af.util.numpy_array_from_json(\n",
    "    file_path=path.join(dataset_path, \"noise_map.json\")\n",
    ")"
   ]
  },
  {
   "cell_type": "markdown",
   "metadata": {},
   "source": [
    "__Model + Analysis__\n",
    "\n",
    "We create the same model and analysis classes use in the example `autofit_workspace/notebooks/overview/simple/fit.ipynb`."
   ]
  },
  {
   "cell_type": "code",
   "execution_count": 4,
   "metadata": {
    "collapsed": false,
    "execution": {
     "iopub.execute_input": "2021-04-15T15:02:11.661862Z",
     "iopub.status.busy": "2021-04-15T15:02:11.661401Z",
     "iopub.status.idle": "2021-04-15T15:02:11.663401Z",
     "shell.execute_reply": "2021-04-15T15:02:11.663092Z"
    },
    "pycharm": {
     "name": "#%%\n"
    }
   },
   "outputs": [],
   "source": [
    "class Gaussian:\n",
    "    def __init__(\n",
    "        self,\n",
    "        centre=0.0,  # <- PyAutoFit recognises these constructor arguments\n",
    "        intensity=0.1,  # <- are the Gaussian`s model parameters.\n",
    "        sigma=0.01,\n",
    "    ):\n",
    "        \"\"\"Represents a 1D `Gaussian` profile, which may be treated as a model-component of PyAutoFit the\n",
    "        parameters of which are fitted for by a non-linear search.\n",
    "\n",
    "        Parameters\n",
    "        ----------\n",
    "        centre : float\n",
    "            The x coordinate of the profile centre.\n",
    "        intensity : float\n",
    "            Overall intensity normalisation of the `Gaussian` profile.\n",
    "        sigma : float\n",
    "            The sigma value controlling the size of the Gaussian.\n",
    "        \"\"\"\n",
    "\n",
    "        self.centre = centre\n",
    "        self.intensity = intensity\n",
    "        self.sigma = sigma\n",
    "\n",
    "    def profile_from_xvalues(self, xvalues):\n",
    "        \"\"\"\n",
    "        Calculate the intensity of the profile on a line of Cartesian x coordinates.\n",
    "\n",
    "        The input xvalues are translated to a coordinate system centred on the Gaussian, using its centre.\n",
    "\n",
    "        Parameters\n",
    "        ----------\n",
    "        xvalues : np.ndarray\n",
    "            The x coordinates in the original reference frame of the grid.\n",
    "        \"\"\"\n",
    "\n",
    "        transformed_xvalues = xvalues - self.centre\n",
    "\n",
    "        return np.multiply(\n",
    "            np.divide(self.intensity, self.sigma * np.sqrt(2.0 * np.pi)),\n",
    "            np.exp(-0.5 * np.square(np.divide(transformed_xvalues, self.sigma))),\n",
    "        )"
   ]
  },
  {
   "cell_type": "code",
   "execution_count": 5,
   "metadata": {
    "collapsed": false,
    "execution": {
     "iopub.execute_input": "2021-04-15T15:02:11.667766Z",
     "iopub.status.busy": "2021-04-15T15:02:11.667345Z",
     "iopub.status.idle": "2021-04-15T15:02:11.669476Z",
     "shell.execute_reply": "2021-04-15T15:02:11.669770Z"
    },
    "pycharm": {
     "name": "#%%\n"
    }
   },
   "outputs": [],
   "source": [
    "class Analysis(af.Analysis):\n",
    "\n",
    "    def __init__(self, data, noise_map):\n",
    "\n",
    "        super().__init__()\n",
    "\n",
    "        self.data = data\n",
    "        self.noise_map = noise_map\n",
    "\n",
    "    def log_likelihood_function(self, instance):\n",
    "        \"\"\"\n",
    "        Determine the log likelihood of a fit of a `Gaussian` to the dataset, using a model instance of the Gaussian.\n",
    "\n",
    "        Parameters\n",
    "        ----------\n",
    "        instance : model.Gaussian\n",
    "            The `Gaussian` model instance.\n",
    "\n",
    "        Returnsn\n",
    "        -------\n",
    "        fit : Fit.log_likelihood\n",
    "            The log likelihood value indicating how well this model fit the dataset.\n",
    "        \"\"\"\n",
    "\n",
    "        xvalues = np.arange(self.data.shape[0])\n",
    "        model_data = instance.profile_from_xvalues(xvalues=xvalues)\n",
    "        residual_map = self.data - model_data\n",
    "        chi_squared_map = (residual_map / self.noise_map) ** 2.0\n",
    "        log_likelihood = -0.5 * sum(chi_squared_map)\n",
    "\n",
    "        return log_likelihood\n"
   ]
  },
  {
   "cell_type": "code",
   "execution_count": 6,
   "metadata": {
    "execution": {
     "iopub.execute_input": "2021-04-15T15:02:11.672518Z",
     "iopub.status.busy": "2021-04-15T15:02:11.672101Z",
     "iopub.status.idle": "2021-04-15T15:02:11.680858Z",
     "shell.execute_reply": "2021-04-15T15:02:11.680551Z"
    }
   },
   "outputs": [],
   "source": [
    "model = af.Model(Gaussian)\n",
    "analysis = Analysis(data=data, noise_map=noise_map)"
   ]
  },
  {
   "cell_type": "markdown",
   "metadata": {},
   "source": [
    "We now perform the fit to get a `Result` object."
   ]
  },
  {
   "cell_type": "code",
   "execution_count": 7,
   "metadata": {
    "execution": {
     "iopub.execute_input": "2021-04-15T15:02:11.684437Z",
     "iopub.status.busy": "2021-04-15T15:02:11.684067Z",
     "iopub.status.idle": "2021-04-15T15:02:12.288372Z",
     "shell.execute_reply": "2021-04-15T15:02:12.288689Z"
    }
   },
   "outputs": [
    {
     "name": "stderr",
     "output_type": "stream",
     "text": [
      "INFO:root: already completed, skipping non-linear search.\n"
     ]
    }
   ],
   "source": [
    "emcee = af.Emcee(\n",
    "    path_prefix=path.join(\"overview\", \"simple\"),\n",
    "    nwalkers=30,\n",
    "    nsteps=1000,\n",
    "    initializer=af.InitializerBall(lower_limit=0.49, upper_limit=0.51),\n",
    "    auto_correlation_check_for_convergence=True,\n",
    "    auto_correlation_check_size=100,\n",
    "    auto_correlation_required_length=50,\n",
    "    auto_correlation_change_threshold=0.01,\n",
    "    number_of_cores=1,\n",
    ")\n",
    "\n",
    "result = emcee.fit(model=model, analysis=analysis)"
   ]
  },
  {
   "cell_type": "markdown",
   "metadata": {},
   "source": [
    "__Result__\n",
    "\n",
    "Here, we'll look in detail at what information is contained in the result.\n",
    "\n",
    "It contains a `Samples` object, which contains information on the non-linear sampling, for example the parameters. \n",
    "The parameters are stored as a list of lists, where the first entry corresponds to the sample index and second entry\n",
    "the parameter index."
   ]
  },
  {
   "cell_type": "code",
   "execution_count": 8,
   "metadata": {
    "execution": {
     "iopub.execute_input": "2021-04-15T15:02:12.453396Z",
     "iopub.status.busy": "2021-04-15T15:02:12.406449Z",
     "iopub.status.idle": "2021-04-15T15:02:12.462007Z",
     "shell.execute_reply": "2021-04-15T15:02:12.461609Z"
    }
   },
   "outputs": [
    {
     "name": "stdout",
     "output_type": "stream",
     "text": [
      "Final 10 Parameters:\n",
      "[[49.88056767127486, 25.063332744098577, 10.15722774512795], [49.80249404517759, 25.148217752625275, 10.059443795391632], [49.85816006044848, 24.59423349856996, 9.811722433716813], [49.93289098402309, 24.844736326581074, 9.922445355258747], [49.97567300119759, 24.92577775596492, 9.96842295348109], [50.03026726096186, 25.35975989445481, 9.982591047659207], [50.02999640309631, 25.515004267697723, 10.042443633645028], [50.002861526388756, 25.543535835353946, 9.994566047553425], [50.12175006877434, 24.704805991720225, 10.06137461239916], [50.21586836863375, 25.0830491888846, 9.83497628337204]]\n",
      "\n",
      "Sample 10`s third parameter value (Gaussian -> sigma)\n",
      "12.363741638270774 \n",
      "\n"
     ]
    }
   ],
   "source": [
    "samples = result.samples\n",
    "\n",
    "print(\"Final 10 Parameters:\")\n",
    "print(samples.parameters[-10:])\n",
    "\n",
    "print(\"\\nSample 10`s third parameter value (Gaussian -> sigma)\")\n",
    "print(samples.parameters[9][2], \"\\n\")"
   ]
  },
  {
   "cell_type": "markdown",
   "metadata": {},
   "source": [
    "The Samples class also contains the log likelihood, log prior, log posterior and weights of every accepted sample,\n",
    "where:\n",
    "\n",
    "   - The log likelihood is the value evaluated from the likelihood function (e.g. -0.5 * chi_squared + the noise\n",
    "     normalized).\n",
    "\n",
    "   - The log prior encodes information on how the priors on the parameters maps the log likelihood value to the log\n",
    "     posterior value.\n",
    "\n",
    "   - The log posterior is log_likelihood + log_prior.\n",
    "\n",
    "   - The weight gives information on how samples should be combined to estimate the posterior. The weight values\n",
    "     depend on the sampler used, for MCMC samples they are all 1 (e.g. all weighted equally).\n",
    "\n",
    "Lets inspect the last 10 values of each for the analysis."
   ]
  },
  {
   "cell_type": "code",
   "execution_count": 9,
   "metadata": {
    "execution": {
     "iopub.execute_input": "2021-04-15T15:02:12.477886Z",
     "iopub.status.busy": "2021-04-15T15:02:12.477469Z",
     "iopub.status.idle": "2021-04-15T15:02:12.480788Z",
     "shell.execute_reply": "2021-04-15T15:02:12.480434Z"
    }
   },
   "outputs": [
    {
     "name": "stdout",
     "output_type": "stream",
     "text": [
      "Final 10 Log Likelihoods:\n",
      "[-43.31731204697181, -43.48006904736806, -44.2615646998434, -42.27181180192147, -41.77341621494977, -42.32168081959223, -42.827298218200795, -43.58912827916255, -43.16986646505257, -43.24813016302651]\n",
      "Final 10 Log Priors:\n",
      "[0.039898923667103306, 0.039764249293396066, 0.04065993762554728, 0.04024997435493459, 0.04011910921257784, 0.03943254999897144, 0.03919262522977553, 0.03914884792949979, 0.04047795397928437, 0.03986756125499861]\n",
      "Final 10 Log Posteriors:\n",
      "[-43.277413123304704, -43.44030479807466, -44.22090476221785, -42.23156182756654, -41.73329710573719, -42.28224826959326, -42.78810559297102, -43.549979431233055, -43.12938851107329, -43.20826260177151]\n",
      "Final 10 Sample Weights:\n",
      "[1.0, 1.0, 1.0, 1.0, 1.0, 1.0, 1.0, 1.0, 1.0, 1.0] \n",
      "\n"
     ]
    }
   ],
   "source": [
    "print(\"Final 10 Log Likelihoods:\")\n",
    "print(samples.log_likelihoods[-10:])\n",
    "\n",
    "print(\"Final 10 Log Priors:\")\n",
    "print(samples.log_priors[-10:])\n",
    "\n",
    "print(\"Final 10 Log Posteriors:\")\n",
    "print(samples.log_posteriors[-10:])\n",
    "\n",
    "print(\"Final 10 Sample Weights:\")\n",
    "print(samples.weights[-10:], \"\\n\")"
   ]
  },
  {
   "cell_type": "markdown",
   "metadata": {},
   "source": [
    "The median pdf vector is readily available from the `Samples` object for you convenience (and if a nested sampling\n",
    "`NonLinearSearch` is used instead, it will use an appropriate method to estimate the parameters):"
   ]
  },
  {
   "cell_type": "code",
   "execution_count": 10,
   "metadata": {
    "execution": {
     "iopub.execute_input": "2021-04-15T15:02:12.483684Z",
     "iopub.status.busy": "2021-04-15T15:02:12.483050Z",
     "iopub.status.idle": "2021-04-15T15:02:12.504936Z",
     "shell.execute_reply": "2021-04-15T15:02:12.505251Z"
    }
   },
   "outputs": [
    {
     "name": "stdout",
     "output_type": "stream",
     "text": [
      "Median PDF Vector:\n",
      "[50.08385963865787, 25.053167282685973, 10.01476826691733] \n",
      "\n"
     ]
    }
   ],
   "source": [
    "median_pdf_vector = samples.median_pdf_vector\n",
    "print(\"Median PDF Vector:\")\n",
    "print(median_pdf_vector, \"\\n\")"
   ]
  },
  {
   "cell_type": "markdown",
   "metadata": {},
   "source": [
    "The samples contain many useful vectors, including the samples with the highest likelihood and posterior values:"
   ]
  },
  {
   "cell_type": "code",
   "execution_count": 11,
   "metadata": {
    "execution": {
     "iopub.execute_input": "2021-04-15T15:02:12.536022Z",
     "iopub.status.busy": "2021-04-15T15:02:12.535429Z",
     "iopub.status.idle": "2021-04-15T15:02:12.541515Z",
     "shell.execute_reply": "2021-04-15T15:02:12.541048Z"
    }
   },
   "outputs": [
    {
     "name": "stdout",
     "output_type": "stream",
     "text": [
      "Maximum Log Likelihood Vector:\n",
      "[50.07690757393011, 25.072046209001442, 10.005761630373135]\n",
      "\n",
      "Maximum Log Posterior Vector:\n",
      "[50.07690757393011, 25.072046209001442, 10.005761630373135]\n"
     ]
    }
   ],
   "source": [
    "max_log_likelihood_vector = samples.max_log_likelihood_vector\n",
    "max_log_posterior_vector = samples.max_log_posterior_vector\n",
    "\n",
    "print(\"Maximum Log Likelihood Vector:\")\n",
    "print(max_log_likelihood_vector)\n",
    "\n",
    "print(\"\\nMaximum Log Posterior Vector:\")\n",
    "print(max_log_posterior_vector)\n"
   ]
  },
  {
   "cell_type": "markdown",
   "metadata": {},
   "source": [
    "It also provides methods for computing the error estimates of all parameters at an input sigma confidence limit, which\n",
    "can be returned at the values of the parameters including their errors or the size of the errors on each parameter:"
   ]
  },
  {
   "cell_type": "code",
   "execution_count": 12,
   "metadata": {
    "execution": {
     "iopub.execute_input": "2021-04-15T15:02:12.547468Z",
     "iopub.status.busy": "2021-04-15T15:02:12.547086Z",
     "iopub.status.idle": "2021-04-15T15:02:12.616177Z",
     "shell.execute_reply": "2021-04-15T15:02:12.616527Z"
    }
   },
   "outputs": [
    {
     "name": "stdout",
     "output_type": "stream",
     "text": [
      "Upper Parameter values w/ error (at 3.0 sigma confidence):\n",
      "[50.40692907986149, 25.866779637270263, 10.365445334365587]\n",
      "lower Parameter values w/ errors (at 3.0 sigma confidence):\n",
      "[49.69503775111557, 24.30810039700551, 9.611872605549067] \n",
      "\n",
      "Upper Error values (at 3.0 sigma confidence):\n",
      "[0.32306944120362147, 0.8136123545842899, 0.3506770674482578]\n",
      "lower Error values (at 3.0 sigma confidence):\n",
      "[0.3888218875422993, 0.7450668856804619, 0.4028956613682624] \n",
      "\n"
     ]
    }
   ],
   "source": [
    "vector_at_upper_sigma = samples.vector_at_upper_sigma(sigma=3.0)\n",
    "vector_at_lower_sigma = samples.vector_at_lower_sigma(sigma=3.0)\n",
    "\n",
    "print(\"Upper Parameter values w/ error (at 3.0 sigma confidence):\")\n",
    "print(vector_at_upper_sigma)\n",
    "\n",
    "print(\"lower Parameter values w/ errors (at 3.0 sigma confidence):\")\n",
    "print(vector_at_lower_sigma, \"\\n\")\n",
    "\n",
    "error_vector_at_upper_sigma = samples.error_vector_at_upper_sigma(sigma=3.0)\n",
    "error_vector_at_lower_sigma = samples.error_vector_at_lower_sigma(sigma=3.0)\n",
    "\n",
    "print(\"Upper Error values (at 3.0 sigma confidence):\")\n",
    "print(error_vector_at_upper_sigma)\n",
    "\n",
    "print(\"lower Error values (at 3.0 sigma confidence):\")\n",
    "print(error_vector_at_lower_sigma, \"\\n\")"
   ]
  },
  {
   "cell_type": "markdown",
   "metadata": {},
   "source": [
    "Results vectors return the results as a list, which means you need to know the parameter ordering. The list of\n",
    "parameter names are available as a property of the `Samples`, as are parameter labels which can be used for labeling\n",
    "figures:"
   ]
  },
  {
   "cell_type": "code",
   "execution_count": 13,
   "metadata": {
    "execution": {
     "iopub.execute_input": "2021-04-15T15:02:12.619907Z",
     "iopub.status.busy": "2021-04-15T15:02:12.619483Z",
     "iopub.status.idle": "2021-04-15T15:02:12.622731Z",
     "shell.execute_reply": "2021-04-15T15:02:12.623089Z"
    }
   },
   "outputs": [
    {
     "name": "stdout",
     "output_type": "stream",
     "text": [
      "['centre', 'intensity', 'sigma']\n",
      "\n",
      "\n",
      "['x', 'I', 'sigma']\n",
      "\n",
      "\n"
     ]
    }
   ],
   "source": [
    "print(samples.model.model_component_and_parameter_names)\n",
    "print(\"\\n\")\n",
    "print(samples.model.parameter_labels)\n",
    "print(\"\\n\")"
   ]
  },
  {
   "cell_type": "markdown",
   "metadata": {},
   "source": [
    "Results can instead be returned as an instance, which is an instance of the model using the Python classes used to\n",
    "compose it:"
   ]
  },
  {
   "cell_type": "code",
   "execution_count": 14,
   "metadata": {
    "execution": {
     "iopub.execute_input": "2021-04-15T15:02:12.631080Z",
     "iopub.status.busy": "2021-04-15T15:02:12.630629Z",
     "iopub.status.idle": "2021-04-15T15:02:12.634115Z",
     "shell.execute_reply": "2021-04-15T15:02:12.634440Z"
    }
   },
   "outputs": [
    {
     "name": "stdout",
     "output_type": "stream",
     "text": [
      "Max Log Likelihood `Gaussian` Instance:\n",
      "Centre =  50.07690757393011\n",
      "Intensity =  25.072046209001442\n",
      "Sigma =  10.005761630373135 \n",
      "\n"
     ]
    }
   ],
   "source": [
    "max_log_likelihood_instance = samples.max_log_likelihood_instance\n",
    "\n",
    "print(\"Max Log Likelihood `Gaussian` Instance:\")\n",
    "print(\"Centre = \", max_log_likelihood_instance.centre)\n",
    "print(\"Intensity = \", max_log_likelihood_instance.intensity)\n",
    "print(\"Sigma = \", max_log_likelihood_instance.sigma, \"\\n\")"
   ]
  },
  {
   "cell_type": "markdown",
   "metadata": {},
   "source": [
    "For our example problem of fitting a 1D `Gaussian` profile, this makes it straight forward to plot the maximum\n",
    "likelihood model:"
   ]
  },
  {
   "cell_type": "code",
   "execution_count": 15,
   "metadata": {
    "execution": {
     "iopub.execute_input": "2021-04-15T15:02:12.651196Z",
     "iopub.status.busy": "2021-04-15T15:02:12.650602Z",
     "iopub.status.idle": "2021-04-15T15:02:12.817866Z",
     "shell.execute_reply": "2021-04-15T15:02:12.817528Z"
    }
   },
   "outputs": [
    {
     "data": {
      "image/png": "[encoded data removed]",
      "text/plain": [
       "<Figure size 432x288 with 1 Axes>"
      ]
     },
     "metadata": {
      "needs_background": "light"
     },
     "output_type": "display_data"
    }
   ],
   "source": [
    "model_data = samples.max_log_likelihood_instance.profile_from_xvalues(\n",
    "    xvalues=np.arange(data.shape[0])\n",
    ")\n",
    "\n",
    "xvalues = range(data.shape[0])\n",
    "plt.errorbar(\n",
    "    x=xvalues, y=data, yerr=noise_map, color=\"k\", ecolor=\"k\", elinewidth=1, capsize=2\n",
    ")\n",
    "plt.plot(xvalues, model_data, color=\"r\")\n",
    "plt.title(\"Model fit to 1D `Gaussian` profile data.\")\n",
    "plt.xlabel(\"x values of profile\")\n",
    "plt.ylabel(\"Profile intensity\")\n",
    "plt.show()\n",
    "plt.close()\n"
   ]
  },
  {
   "cell_type": "markdown",
   "metadata": {},
   "source": [
    "All methods above are available as an instance:"
   ]
  },
  {
   "cell_type": "code",
   "execution_count": 16,
   "metadata": {
    "execution": {
     "iopub.execute_input": "2021-04-15T15:02:12.820800Z",
     "iopub.status.busy": "2021-04-15T15:02:12.820408Z",
     "iopub.status.idle": "2021-04-15T15:02:12.844127Z",
     "shell.execute_reply": "2021-04-15T15:02:12.843588Z"
    }
   },
   "outputs": [],
   "source": [
    "median_pdf_instance = samples.median_pdf_instance\n",
    "instance_at_upper_sigma = samples.instance_at_upper_sigma\n",
    "instance_at_lower_sigma = samples.instance_at_lower_sigma\n",
    "error_instance_at_upper_sigma = samples.error_instance_at_upper_sigma\n",
    "error_instance_at_lower_sigma = samples.error_instance_at_lower_sigma"
   ]
  },
  {
   "cell_type": "markdown",
   "metadata": {},
   "source": [
    "An instance of any accepted sample can be created:"
   ]
  },
  {
   "cell_type": "code",
   "execution_count": 17,
   "metadata": {
    "execution": {
     "iopub.execute_input": "2021-04-15T15:02:12.868312Z",
     "iopub.status.busy": "2021-04-15T15:02:12.854632Z",
     "iopub.status.idle": "2021-04-15T15:02:12.872469Z",
     "shell.execute_reply": "2021-04-15T15:02:12.871989Z"
    }
   },
   "outputs": [
    {
     "name": "stdout",
     "output_type": "stream",
     "text": [
      "Gaussian Instance of sample 5000:\n",
      "Centre =  49.94942692507155\n",
      "Intensity =  3.5750668706556836\n",
      "Sigma =  9.699428754738024 \n",
      "\n"
     ]
    }
   ],
   "source": [
    "instance = samples.instance_from_sample_index(sample_index=500)\n",
    "print(\"Gaussian Instance of sample 5000:\")\n",
    "print(\"Centre = \", instance.centre)\n",
    "print(\"Intensity = \", instance.intensity)\n",
    "print(\"Sigma = \", instance.sigma, \"\\n\")"
   ]
  },
  {
   "cell_type": "markdown",
   "metadata": {},
   "source": [
    "If a nested sampling `NonLinearSearch` is used, the evidence of the model is also available which enables Bayesian\n",
    "model comparison to be performed (given we are using Emcee, which is not a nested sampling algorithm, the log evidence \n",
    "is None).:"
   ]
  },
  {
   "cell_type": "code",
   "execution_count": 18,
   "metadata": {
    "execution": {
     "iopub.execute_input": "2021-04-15T15:02:12.875453Z",
     "iopub.status.busy": "2021-04-15T15:02:12.875046Z",
     "iopub.status.idle": "2021-04-15T15:02:12.877878Z",
     "shell.execute_reply": "2021-04-15T15:02:12.877486Z"
    }
   },
   "outputs": [
    {
     "name": "stdout",
     "output_type": "stream",
     "text": [
      "None\n"
     ]
    }
   ],
   "source": [
    "print(samples.log_evidence)"
   ]
  },
  {
   "cell_type": "markdown",
   "metadata": {},
   "source": [
    "At this point, you might be wondering what else the results contains - pretty much everything we discussed above was a\n",
    "part of its *samples* property! For projects which use **PyAutoFit**'s phase API (see the howtofit tutrials), the \n",
    "`Result`'s object can be extended to include model-specific results.\n",
    "\n",
    "For example, we may extend the results of our 1D `Gaussian` example to include properties containing the maximum\n",
    "log likelihood of the summed model data and for every individual profile in the model.\n",
    "\n",
    "(The commented out functions below are llustrative of the API we can create, but do not work in this example given we \n",
    "are not using the phase API.)"
   ]
  },
  {
   "cell_type": "code",
   "execution_count": 19,
   "metadata": {
    "execution": {
     "iopub.execute_input": "2021-04-15T15:02:12.880454Z",
     "iopub.status.busy": "2021-04-15T15:02:12.880010Z",
     "iopub.status.idle": "2021-04-15T15:02:12.882491Z",
     "shell.execute_reply": "2021-04-15T15:02:12.882144Z"
    },
    "pycharm": {
     "name": "#%%\n"
    }
   },
   "outputs": [],
   "source": [
    "# max_log_likelihood_profile = results.max_log_likelihood_profile\n",
    "# max_log_likelihood_profile_list = results.max_log_likelihood_profile_list\n"
   ]
  }
 ],
 "metadata": {
  "anaconda-cloud": {},
  "kernelspec": {
   "display_name": "Python 3",
   "language": "python",
   "name": "python3"
  },
  "language_info": {
   "codemirror_mode": {
    "name": "ipython",
    "version": 3
   },
   "file_extension": ".py",
   "mimetype": "text/x-python",
   "name": "python",
   "nbconvert_exporter": "python",
   "pygments_lexer": "ipython3",
   "version": "3.8.5"
  }
 },
 "nbformat": 4,
 "nbformat_minor": 4
}
