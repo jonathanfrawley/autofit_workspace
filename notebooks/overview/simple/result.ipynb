{
 "cells": [
  {
   "cell_type": "markdown",
   "metadata": {},
   "source": [
    "Overview: Result\n",
    "================\n",
    "\n",
    "In this example, we'll repeat the fit of 1D data of a `Gaussian` profile with a 1D `Gaussian` model using the non-linear\n",
    "search emcee and inspect the *Result* object that is returned in detail.\n",
    "\n",
    "If you haven't already, you should checkout the notebook `overview/fit.ipynb` to  see how the fit is performed by the\n",
    "code below. The first section of code below is simmply repeating the commands in `example/fit.py`, so feel free to\n",
    "skip over it until you his the `Result`'s section."
   ]
  },
  {
   "cell_type": "code",
   "execution_count": 1,
   "metadata": {
    "execution": {
     "iopub.execute_input": "2021-05-11T19:07:47.679898Z",
     "iopub.status.busy": "2021-05-11T19:07:47.679484Z",
     "iopub.status.idle": "2021-05-11T19:07:48.829493Z",
     "shell.execute_reply": "2021-05-11T19:07:48.829783Z"
    }
   },
   "outputs": [],
   "source": [
    "%matplotlib inline\n",
    "\n",
    "import autofit as af\n",
    "import autofit.plot as aplt\n",
    "\n",
    "from os import path\n",
    "import matplotlib.pyplot as plt\n",
    "import numpy as np"
   ]
  },
  {
   "cell_type": "markdown",
   "metadata": {
    "collapsed": false
   },
   "source": [
    "At the top of every tutorial notebook, you'll see the following cell. This cell uses the project `pyprojroot` to\n",
    "locate the path to the workspace on your computer and use it to set the working directory of the notebook."
   ]
  },
  {
   "cell_type": "code",
   "execution_count": 2,
   "metadata": {
    "collapsed": false,
    "execution": {
     "iopub.execute_input": "2021-05-11T19:07:48.832991Z",
     "iopub.status.busy": "2021-05-11T19:07:48.832630Z",
     "iopub.status.idle": "2021-05-11T19:07:48.841290Z",
     "shell.execute_reply": "2021-05-11T19:07:48.841580Z"
    },
    "pycharm": {
     "name": "#%%\n"
    }
   },
   "outputs": [
    {
     "name": "stdout",
     "output_type": "stream",
     "text": [
      "/mnt/c/Users/Jammy/Code/PyAuto/autofit_workspace\n",
      "Working Directory has been set to `/mnt/c/Users/Jammy/Code/PyAuto/autofit_workspace`\n"
     ]
    }
   ],
   "source": [
    "from pyprojroot import here\n",
    "workspace_path = str(here())\n",
    "%cd $workspace_path\n",
    "print(f\"Working Directory has been set to `{workspace_path}`\")"
   ]
  },
  {
   "cell_type": "markdown",
   "metadata": {},
   "source": [
    "__Data__\n",
    "\n",
    "First, lets load data of a 1D Gaussian, by loading it from a .json file in the directory \n",
    "`autofit_workspace/dataset/`, which  simulates the noisy data we fit (check it out to see how we simulate the \n",
    "data)."
   ]
  },
  {
   "cell_type": "code",
   "execution_count": 3,
   "metadata": {
    "execution": {
     "iopub.execute_input": "2021-05-11T19:07:48.844452Z",
     "iopub.status.busy": "2021-05-11T19:07:48.844075Z",
     "iopub.status.idle": "2021-05-11T19:07:48.847058Z",
     "shell.execute_reply": "2021-05-11T19:07:48.847320Z"
    }
   },
   "outputs": [],
   "source": [
    "dataset_path = path.join(\"dataset\", \"example_1d\", \"gaussian_x1\")\n",
    "\n",
    "data = af.util.numpy_array_from_json(file_path=path.join(dataset_path, \"data.json\"))\n",
    "noise_map = af.util.numpy_array_from_json(\n",
    "    file_path=path.join(dataset_path, \"noise_map.json\")\n",
    ")"
   ]
  },
  {
   "cell_type": "markdown",
   "metadata": {},
   "source": [
    "__Model + Analysis__\n",
    "\n",
    "We create the same model and analysis classes use in the example `autofit_workspace/notebooks/overview/simple/fit.ipynb`."
   ]
  },
  {
   "cell_type": "code",
   "execution_count": 4,
   "metadata": {
    "collapsed": false,
    "execution": {
     "iopub.execute_input": "2021-05-11T19:07:48.851441Z",
     "iopub.status.busy": "2021-05-11T19:07:48.851053Z",
     "iopub.status.idle": "2021-05-11T19:07:48.852902Z",
     "shell.execute_reply": "2021-05-11T19:07:48.852537Z"
    },
    "pycharm": {
     "name": "#%%\n"
    }
   },
   "outputs": [],
   "source": [
    "class Gaussian:\n",
    "    def __init__(\n",
    "        self,\n",
    "        centre=0.0,  # <- PyAutoFit recognises these constructor arguments\n",
    "        intensity=0.1,  # <- are the Gaussian`s model parameters.\n",
    "        sigma=0.01,\n",
    "    ):\n",
    "        \"\"\"Represents a 1D `Gaussian` profile, which may be treated as a model-component of PyAutoFit the\n",
    "        parameters of which are fitted for by a non-linear search.\n",
    "\n",
    "        Parameters\n",
    "        ----------\n",
    "        centre : float\n",
    "            The x coordinate of the profile centre.\n",
    "        intensity : float\n",
    "            Overall intensity normalisation of the `Gaussian` profile.\n",
    "        sigma : float\n",
    "            The sigma value controlling the size of the Gaussian.\n",
    "        \"\"\"\n",
    "\n",
    "        self.centre = centre\n",
    "        self.intensity = intensity\n",
    "        self.sigma = sigma\n",
    "\n",
    "    def profile_from_xvalues(self, xvalues):\n",
    "        \"\"\"\n",
    "        Calculate the intensity of the profile on a line of Cartesian x coordinates.\n",
    "\n",
    "        The input xvalues are translated to a coordinate system centred on the Gaussian, using its centre.\n",
    "\n",
    "        Parameters\n",
    "        ----------\n",
    "        xvalues : np.ndarray\n",
    "            The x coordinates in the original reference frame of the grid.\n",
    "        \"\"\"\n",
    "\n",
    "        transformed_xvalues = xvalues - self.centre\n",
    "\n",
    "        return np.multiply(\n",
    "            np.divide(self.intensity, self.sigma * np.sqrt(2.0 * np.pi)),\n",
    "            np.exp(-0.5 * np.square(np.divide(transformed_xvalues, self.sigma))),\n",
    "        )"
   ]
  },
  {
   "cell_type": "code",
   "execution_count": 5,
   "metadata": {
    "collapsed": false,
    "execution": {
     "iopub.execute_input": "2021-05-11T19:07:48.856622Z",
     "iopub.status.busy": "2021-05-11T19:07:48.856219Z",
     "iopub.status.idle": "2021-05-11T19:07:48.857717Z",
     "shell.execute_reply": "2021-05-11T19:07:48.858014Z"
    },
    "pycharm": {
     "name": "#%%\n"
    }
   },
   "outputs": [],
   "source": [
    "class Analysis(af.Analysis):\n",
    "\n",
    "    def __init__(self, data, noise_map):\n",
    "\n",
    "        super().__init__()\n",
    "\n",
    "        self.data = data\n",
    "        self.noise_map = noise_map\n",
    "\n",
    "    def log_likelihood_function(self, instance):\n",
    "        \"\"\"\n",
    "        Determine the log likelihood of a fit of a `Gaussian` to the dataset, using a model instance of the Gaussian.\n",
    "\n",
    "        Parameters\n",
    "        ----------\n",
    "        instance : model.Gaussian\n",
    "            The `Gaussian` model instance.\n",
    "\n",
    "        Returnsn\n",
    "        -------\n",
    "        fit : Fit.log_likelihood\n",
    "            The log likelihood value indicating how well this model fit the dataset.\n",
    "        \"\"\"\n",
    "\n",
    "        xvalues = np.arange(self.data.shape[0])\n",
    "        model_data = instance.profile_from_xvalues(xvalues=xvalues)\n",
    "        residual_map = self.data - model_data\n",
    "        chi_squared_map = (residual_map / self.noise_map) ** 2.0\n",
    "        log_likelihood = -0.5 * sum(chi_squared_map)\n",
    "\n",
    "        return log_likelihood\n"
   ]
  },
  {
   "cell_type": "code",
   "execution_count": 6,
   "metadata": {
    "execution": {
     "iopub.execute_input": "2021-05-11T19:07:48.860632Z",
     "iopub.status.busy": "2021-05-11T19:07:48.860148Z",
     "iopub.status.idle": "2021-05-11T19:07:48.868181Z",
     "shell.execute_reply": "2021-05-11T19:07:48.867872Z"
    }
   },
   "outputs": [],
   "source": [
    "model = af.Model(Gaussian)\n",
    "analysis = Analysis(data=data, noise_map=noise_map)"
   ]
  },
  {
   "cell_type": "markdown",
   "metadata": {},
   "source": [
    "We now perform the fit to get a `Result` object."
   ]
  },
  {
   "cell_type": "code",
   "execution_count": 7,
   "metadata": {
    "execution": {
     "iopub.execute_input": "2021-05-11T19:07:48.871613Z",
     "iopub.status.busy": "2021-05-11T19:07:48.871247Z",
     "iopub.status.idle": "2021-05-11T19:07:50.243522Z",
     "shell.execute_reply": "2021-05-11T19:07:50.243819Z"
    }
   },
   "outputs": [
    {
     "name": "stderr",
     "output_type": "stream",
     "text": [
      "2021-05-11 20:07:48,935 - root - INFO -  already completed, skipping non-linear search.\n"
     ]
    }
   ],
   "source": [
    "emcee = af.Emcee(\n",
    "    path_prefix=path.join(\"overview\", \"simple\"),\n",
    "    nwalkers=30,\n",
    "    nsteps=1000,\n",
    "    initializer=af.InitializerBall(lower_limit=0.49, upper_limit=0.51),\n",
    "    auto_correlation_check_for_convergence=True,\n",
    "    auto_correlation_check_size=100,\n",
    "    auto_correlation_required_length=50,\n",
    "    auto_correlation_change_threshold=0.01,\n",
    "    number_of_cores=1,\n",
    ")\n",
    "\n",
    "result = emcee.fit(model=model, analysis=analysis)"
   ]
  },
  {
   "cell_type": "markdown",
   "metadata": {},
   "source": [
    "__Result__\n",
    "\n",
    "Here, we'll look in detail at what information is contained in the result.\n",
    "\n",
    "It contains a `Samples` object, which contains information on the non-linear sampling, for example the parameters. \n",
    "The parameters are stored as a list of lists, where the first entry corresponds to the sample index and second entry\n",
    "the parameter index."
   ]
  },
  {
   "cell_type": "code",
   "execution_count": 8,
   "metadata": {
    "execution": {
     "iopub.execute_input": "2021-05-11T19:07:50.315728Z",
     "iopub.status.busy": "2021-05-11T19:07:50.315356Z",
     "iopub.status.idle": "2021-05-11T19:07:50.317871Z",
     "shell.execute_reply": "2021-05-11T19:07:50.317500Z"
    }
   },
   "outputs": [
    {
     "name": "stdout",
     "output_type": "stream",
     "text": [
      "Final 10 Parameters:\n",
      "[[49.80028183476742, 24.696711412824403, 9.882715286184784], [49.88104235240425, 24.69895097381102, 10.095807292980469], [50.006304252711516, 24.805059051677265, 9.862105394387168], [50.02141192730713, 24.554095983113015, 9.888718708201184], [49.970507585377426, 25.00494955905019, 10.072702978162829], [49.797228204514276, 24.284531172453672, 9.810132424131103], [49.76870835093184, 24.195886777509624, 9.83806642588382], [49.78330370449024, 24.895519144395294, 10.175438273602197], [49.86402316756056, 24.7744138539007, 10.014982593326046], [49.69728506907295, 24.716022230005546, 10.230293842912639]]\n",
      "\n",
      "Sample 10`s third parameter value (Gaussian -> sigma)\n",
      "12.298610194577847 \n",
      "\n"
     ]
    }
   ],
   "source": [
    "samples = result.samples\n",
    "\n",
    "print(\"Final 10 Parameters:\")\n",
    "print(samples.parameter_lists[-10:])\n",
    "\n",
    "print(\"\\nSample 10`s third parameter value (Gaussian -> sigma)\")\n",
    "print(samples.parameter_lists[9][2], \"\\n\")"
   ]
  },
  {
   "cell_type": "markdown",
   "metadata": {},
   "source": [
    "The Samples class also contains the log likelihood, log prior, log posterior and weight_list of every accepted sample,\n",
    "where:\n",
    "\n",
    "   - The log likelihood is the value evaluated from the likelihood function (e.g. -0.5 * chi_squared + the noise\n",
    "     normalized).\n",
    "\n",
    "   - The log prior encodes information on how the priors on the parameters maps the log likelihood value to the log\n",
    "     posterior value.\n",
    "\n",
    "   - The log posterior is log_likelihood + log_prior.\n",
    "\n",
    "   - The weight gives information on how samples should be combined to estimate the posterior. The weight values\n",
    "     depend on the sampler used, for MCMC samples they are all 1 (e.g. all weighted equally).\n",
    "\n",
    "Lets inspect the last 10 values of each for the analysis."
   ]
  },
  {
   "cell_type": "code",
   "execution_count": 9,
   "metadata": {
    "execution": {
     "iopub.execute_input": "2021-05-11T19:07:50.327735Z",
     "iopub.status.busy": "2021-05-11T19:07:50.327358Z",
     "iopub.status.idle": "2021-05-11T19:07:50.330535Z",
     "shell.execute_reply": "2021-05-11T19:07:50.330794Z"
    }
   },
   "outputs": [
    {
     "name": "stdout",
     "output_type": "stream",
     "text": [
      "Final 10 Log Likelihoods:\n",
      "[-59.44123419417797, -60.236435669402375, -60.277196828272054, -59.58843506574081, -60.62763770483483, -59.648038314198715, -60.186069121141195, -61.416907715577985, -59.50034360076935, -63.429116312437564]\n",
      "Final 10 Log Priors:\n",
      "[0.040491221008507404, 0.04048754949391687, 0.04031435675749307, 0.04072640266160669, 0.03999208227308997, 0.041178476656544054, 0.041329338709317834, 0.04016787094094919, 0.04036422439284275, 0.04045958490788166]\n",
      "Final 10 Log Posteriors:\n",
      "[-59.400742973169464, -60.19594811990846, -60.23688247151456, -59.547708663079206, -60.587645622561745, -59.60685983754217, -60.14473978243188, -61.37673984463704, -59.4599793763765, -63.388656727529685]\n",
      "Final 10 Sample weight_list:\n",
      "[1.0, 1.0, 1.0, 1.0, 1.0, 1.0, 1.0, 1.0, 1.0, 1.0] \n",
      "\n"
     ]
    }
   ],
   "source": [
    "print(\"Final 10 Log Likelihoods:\")\n",
    "print(samples.log_likelihood_list[-10:])\n",
    "\n",
    "print(\"Final 10 Log Priors:\")\n",
    "print(samples.log_prior_list[-10:])\n",
    "\n",
    "print(\"Final 10 Log Posteriors:\")\n",
    "print(samples.log_posterior_list[-10:])\n",
    "\n",
    "print(\"Final 10 Sample weight_list:\")\n",
    "print(samples.weight_list[-10:], \"\\n\")"
   ]
  },
  {
   "cell_type": "markdown",
   "metadata": {},
   "source": [
    "The median pdf vector is readily available from the `Samples` object for you convenience (and if a nested sampling\n",
    "`NonLinearSearch` is used instead, it will use an appropriate method to estimate the parameters):"
   ]
  },
  {
   "cell_type": "code",
   "execution_count": 10,
   "metadata": {
    "execution": {
     "iopub.execute_input": "2021-05-11T19:07:50.333244Z",
     "iopub.status.busy": "2021-05-11T19:07:50.332879Z",
     "iopub.status.idle": "2021-05-11T19:07:50.514054Z",
     "shell.execute_reply": "2021-05-11T19:07:50.514298Z"
    }
   },
   "outputs": [
    {
     "name": "stdout",
     "output_type": "stream",
     "text": [
      "Median PDF Vector:\n",
      "[49.87779276983223, 24.556864725259935, 9.896571919386803] \n",
      "\n"
     ]
    }
   ],
   "source": [
    "median_pdf_vector = samples.median_pdf_vector\n",
    "print(\"Median PDF Vector:\")\n",
    "print(median_pdf_vector, \"\\n\")"
   ]
  },
  {
   "cell_type": "markdown",
   "metadata": {},
   "source": [
    "The samples contain many useful vectors, including the samples with the highest likelihood and posterior values:"
   ]
  },
  {
   "cell_type": "code",
   "execution_count": 11,
   "metadata": {
    "execution": {
     "iopub.execute_input": "2021-05-11T19:07:50.536781Z",
     "iopub.status.busy": "2021-05-11T19:07:50.536436Z",
     "iopub.status.idle": "2021-05-11T19:07:50.538309Z",
     "shell.execute_reply": "2021-05-11T19:07:50.538550Z"
    }
   },
   "outputs": [
    {
     "name": "stdout",
     "output_type": "stream",
     "text": [
      "Maximum Log Likelihood Vector:\n",
      "[49.88033811879893, 24.55207327396086, 9.894827131700147]\n",
      "\n",
      "Maximum Log Posterior Vector:\n",
      "[49.88033811879893, 24.55207327396086, 9.894827131700147]\n"
     ]
    }
   ],
   "source": [
    "max_log_likelihood_vector = samples.max_log_likelihood_vector\n",
    "max_log_posterior_vector = samples.max_log_posterior_vector\n",
    "\n",
    "print(\"Maximum Log Likelihood Vector:\")\n",
    "print(max_log_likelihood_vector)\n",
    "\n",
    "print(\"\\nMaximum Log Posterior Vector:\")\n",
    "print(max_log_posterior_vector)\n"
   ]
  },
  {
   "cell_type": "markdown",
   "metadata": {},
   "source": [
    "It also provides methods for computing the error estimates of all parameters at an input sigma confidence limit, which\n",
    "can be returned at the values of the parameters including their errors or the size of the errors on each parameter:"
   ]
  },
  {
   "cell_type": "code",
   "execution_count": 12,
   "metadata": {
    "execution": {
     "iopub.execute_input": "2021-05-11T19:07:50.541623Z",
     "iopub.status.busy": "2021-05-11T19:07:50.541294Z",
     "iopub.status.idle": "2021-05-11T19:07:51.244901Z",
     "shell.execute_reply": "2021-05-11T19:07:51.245156Z"
    }
   },
   "outputs": [
    {
     "name": "stdout",
     "output_type": "stream",
     "text": [
      "Upper Parameter values w/ error (at 3.0 sigma confidence):\n",
      "[50.25011845740363, 25.366846540353325, 10.31076214394256]\n",
      "lower Parameter values w/ errors (at 3.0 sigma confidence):\n",
      "[49.53385847816836, 23.822902694980773, 9.54149464400624] \n",
      "\n",
      "Upper Error values (at 3.0 sigma confidence):\n",
      "[0.37232568757139717, 0.8099818150933906, 0.4141902245557567]\n",
      "lower Error values (at 3.0 sigma confidence):\n",
      "[0.3439342916638708, 0.7339620302791623, 0.35507727538056244] \n",
      "\n"
     ]
    }
   ],
   "source": [
    "vector_at_upper_sigma = samples.vector_at_upper_sigma(sigma=3.0)\n",
    "vector_at_lower_sigma = samples.vector_at_lower_sigma(sigma=3.0)\n",
    "\n",
    "print(\"Upper Parameter values w/ error (at 3.0 sigma confidence):\")\n",
    "print(vector_at_upper_sigma)\n",
    "\n",
    "print(\"lower Parameter values w/ errors (at 3.0 sigma confidence):\")\n",
    "print(vector_at_lower_sigma, \"\\n\")\n",
    "\n",
    "error_vector_at_upper_sigma = samples.error_vector_at_upper_sigma(sigma=3.0)\n",
    "error_vector_at_lower_sigma = samples.error_vector_at_lower_sigma(sigma=3.0)\n",
    "\n",
    "print(\"Upper Error values (at 3.0 sigma confidence):\")\n",
    "print(error_vector_at_upper_sigma)\n",
    "\n",
    "print(\"lower Error values (at 3.0 sigma confidence):\")\n",
    "print(error_vector_at_lower_sigma, \"\\n\")"
   ]
  },
  {
   "cell_type": "markdown",
   "metadata": {},
   "source": [
    "Results vectors return the results as a list, which means you need to know the parameter ordering. The list of\n",
    "parameter names are available as a property of the `Samples`, as are parameter labels which can be used for labeling\n",
    "figures:"
   ]
  },
  {
   "cell_type": "code",
   "execution_count": 13,
   "metadata": {
    "execution": {
     "iopub.execute_input": "2021-05-11T19:07:51.247912Z",
     "iopub.status.busy": "2021-05-11T19:07:51.247543Z",
     "iopub.status.idle": "2021-05-11T19:07:51.249634Z",
     "shell.execute_reply": "2021-05-11T19:07:51.249350Z"
    }
   },
   "outputs": [
    {
     "name": "stdout",
     "output_type": "stream",
     "text": [
      "['centre', 'intensity', 'sigma']\n",
      "\n",
      "\n",
      "['x', 'I', 'sigma']\n",
      "\n",
      "\n"
     ]
    }
   ],
   "source": [
    "print(samples.model.model_component_and_parameter_names)\n",
    "print(\"\\n\")\n",
    "print(samples.model.parameter_labels)\n",
    "print(\"\\n\")"
   ]
  },
  {
   "cell_type": "markdown",
   "metadata": {},
   "source": [
    "Results can instead be returned as an instance, which is an instance of the model using the Python classes used to\n",
    "compose it:"
   ]
  },
  {
   "cell_type": "code",
   "execution_count": 14,
   "metadata": {
    "execution": {
     "iopub.execute_input": "2021-05-11T19:07:51.254291Z",
     "iopub.status.busy": "2021-05-11T19:07:51.253919Z",
     "iopub.status.idle": "2021-05-11T19:07:51.255934Z",
     "shell.execute_reply": "2021-05-11T19:07:51.256238Z"
    }
   },
   "outputs": [
    {
     "name": "stdout",
     "output_type": "stream",
     "text": [
      "Max Log Likelihood `Gaussian` Instance:\n",
      "Centre =  49.88033811879893\n",
      "Intensity =  24.55207327396086\n",
      "Sigma =  9.894827131700147 \n",
      "\n"
     ]
    }
   ],
   "source": [
    "max_log_likelihood_instance = samples.max_log_likelihood_instance\n",
    "\n",
    "print(\"Max Log Likelihood `Gaussian` Instance:\")\n",
    "print(\"Centre = \", max_log_likelihood_instance.centre)\n",
    "print(\"Intensity = \", max_log_likelihood_instance.intensity)\n",
    "print(\"Sigma = \", max_log_likelihood_instance.sigma, \"\\n\")"
   ]
  },
  {
   "cell_type": "markdown",
   "metadata": {},
   "source": [
    "For our example problem of fitting a 1D `Gaussian` profile, this makes it straight forward to plot the maximum\n",
    "likelihood model:"
   ]
  },
  {
   "cell_type": "code",
   "execution_count": 15,
   "metadata": {
    "execution": {
     "iopub.execute_input": "2021-05-11T19:07:51.270659Z",
     "iopub.status.busy": "2021-05-11T19:07:51.270265Z",
     "iopub.status.idle": "2021-05-11T19:07:51.380666Z",
     "shell.execute_reply": "2021-05-11T19:07:51.380936Z"
    }
   },
   "outputs": [
    {
     "data": {
      "image/png": "[encoded data removed]",
      "text/plain": [
       "<Figure size 432x288 with 1 Axes>"
      ]
     },
     "metadata": {
      "needs_background": "light"
     },
     "output_type": "display_data"
    }
   ],
   "source": [
    "model_data = samples.max_log_likelihood_instance.profile_from_xvalues(\n",
    "    xvalues=np.arange(data.shape[0])\n",
    ")\n",
    "\n",
    "xvalues = range(data.shape[0])\n",
    "plt.errorbar(\n",
    "    x=xvalues, y=data, yerr=noise_map, color=\"k\", ecolor=\"k\", elinewidth=1, capsize=2\n",
    ")\n",
    "plt.plot(xvalues, model_data, color=\"r\")\n",
    "plt.title(\"Model fit to 1D `Gaussian` profile data.\")\n",
    "plt.xlabel(\"x values of profile\")\n",
    "plt.ylabel(\"Profile intensity\")\n",
    "plt.show()\n",
    "plt.close()\n"
   ]
  },
  {
   "cell_type": "markdown",
   "metadata": {},
   "source": [
    "All methods above are available as an instance:"
   ]
  },
  {
   "cell_type": "code",
   "execution_count": 16,
   "metadata": {
    "execution": {
     "iopub.execute_input": "2021-05-11T19:07:51.383558Z",
     "iopub.status.busy": "2021-05-11T19:07:51.383213Z",
     "iopub.status.idle": "2021-05-11T19:07:51.563305Z",
     "shell.execute_reply": "2021-05-11T19:07:51.563584Z"
    }
   },
   "outputs": [],
   "source": [
    "median_pdf_instance = samples.median_pdf_instance\n",
    "instance_at_upper_sigma = samples.instance_at_upper_sigma\n",
    "instance_at_lower_sigma = samples.instance_at_lower_sigma\n",
    "error_instance_at_upper_sigma = samples.error_instance_at_upper_sigma\n",
    "error_instance_at_lower_sigma = samples.error_instance_at_lower_sigma"
   ]
  },
  {
   "cell_type": "markdown",
   "metadata": {},
   "source": [
    "An instance of any accepted sample can be created:"
   ]
  },
  {
   "cell_type": "code",
   "execution_count": 17,
   "metadata": {
    "execution": {
     "iopub.execute_input": "2021-05-11T19:07:51.621734Z",
     "iopub.status.busy": "2021-05-11T19:07:51.621337Z",
     "iopub.status.idle": "2021-05-11T19:07:51.623610Z",
     "shell.execute_reply": "2021-05-11T19:07:51.623860Z"
    }
   },
   "outputs": [
    {
     "name": "stdout",
     "output_type": "stream",
     "text": [
      "Gaussian Instance of sample 5000:\n",
      "Centre =  56.914708638919606\n",
      "Intensity =  4.385389833773528\n",
      "Sigma =  11.63514899941883 \n",
      "\n"
     ]
    }
   ],
   "source": [
    "instance = samples.instance_from_sample_index(sample_index=500)\n",
    "print(\"Gaussian Instance of sample 5000:\")\n",
    "print(\"Centre = \", instance.centre)\n",
    "print(\"Intensity = \", instance.intensity)\n",
    "print(\"Sigma = \", instance.sigma, \"\\n\")"
   ]
  },
  {
   "cell_type": "markdown",
   "metadata": {
    "collapsed": false
   },
   "source": [
    "The Probability Density Functions (PDF's) of the results can be plotted using the Emcee's visualization\n",
    "tool `corner.py`, which is wrapped via the `EmceePlotter` object."
   ]
  },
  {
   "cell_type": "code",
   "execution_count": 18,
   "metadata": {
    "collapsed": false,
    "execution": {
     "iopub.execute_input": "2021-05-11T19:07:51.652689Z",
     "iopub.status.busy": "2021-05-11T19:07:51.652335Z",
     "iopub.status.idle": "2021-05-11T19:07:52.128613Z",
     "shell.execute_reply": "2021-05-11T19:07:52.128251Z"
    },
    "pycharm": {
     "name": "#%%\n"
    }
   },
   "outputs": [
    {
     "name": "stderr",
     "output_type": "stream",
     "text": [
      "2021-05-11 20:07:51,750 - root - WARNING - Too few points to create valid contours\n",
      "2021-05-11 20:07:51,776 - root - WARNING - Too few points to create valid contours\n",
      "2021-05-11 20:07:51,795 - root - WARNING - Too few points to create valid contours\n"
     ]
    },
    {
     "data": {
      "image/png": "[encoded data removed]",
      "text/plain": [
       "<Figure size 547.2x547.2 with 9 Axes>"
      ]
     },
     "metadata": {
      "needs_background": "light"
     },
     "output_type": "display_data"
    }
   ],
   "source": [
    "emcee_plotter = aplt.EmceePlotter(samples=result.samples)\n",
    "emcee_plotter.corner()"
   ]
  },
  {
   "cell_type": "markdown",
   "metadata": {},
   "source": [
    "If a nested sampling `NonLinearSearch` is used, the evidence of the model is also available which enables Bayesian\n",
    "model comparison to be performed (given we are using Emcee, which is not a nested sampling algorithm, the log evidence \n",
    "is None).:"
   ]
  },
  {
   "cell_type": "code",
   "execution_count": 19,
   "metadata": {
    "execution": {
     "iopub.execute_input": "2021-05-11T19:07:52.131200Z",
     "iopub.status.busy": "2021-05-11T19:07:52.130880Z",
     "iopub.status.idle": "2021-05-11T19:07:52.132836Z",
     "shell.execute_reply": "2021-05-11T19:07:52.133059Z"
    }
   },
   "outputs": [
    {
     "name": "stdout",
     "output_type": "stream",
     "text": [
      "None\n"
     ]
    }
   ],
   "source": [
    "print(samples.log_evidence)"
   ]
  },
  {
   "cell_type": "markdown",
   "metadata": {},
   "source": [
    "At this point, you might be wondering what else the results contains - pretty much everything we discussed above was a\n",
    "part of its *samples* property! For projects which use **PyAutoFit**'s phase API (see the howtofit tutrials), the \n",
    "`Result`'s object can be extended to include model-specific results.\n",
    "\n",
    "For example, we may extend the results of our 1D `Gaussian` example to include properties containing the maximum\n",
    "log likelihood of the summed model data and for every individual profile in the model.\n",
    "\n",
    "(The commented out functions below are llustrative of the API we can create, but do not work in this example given we \n",
    "are not using the phase API.)"
   ]
  },
  {
   "cell_type": "code",
   "execution_count": 20,
   "metadata": {
    "execution": {
     "iopub.execute_input": "2021-05-11T19:07:52.134991Z",
     "iopub.status.busy": "2021-05-11T19:07:52.134685Z",
     "iopub.status.idle": "2021-05-11T19:07:52.136818Z",
     "shell.execute_reply": "2021-05-11T19:07:52.137111Z"
    },
    "pycharm": {
     "name": "#%%\n"
    }
   },
   "outputs": [],
   "source": [
    "# max_log_likelihood_profile = results.max_log_likelihood_profile\n",
    "# max_log_likelihood_profile_list = results.max_log_likelihood_profile_list\n"
   ]
  }
 ],
 "metadata": {
  "anaconda-cloud": {},
  "kernelspec": {
   "display_name": "Python 3",
   "language": "python",
   "name": "python3"
  },
  "language_info": {
   "codemirror_mode": {
    "name": "ipython",
    "version": 3
   },
   "file_extension": ".py",
   "mimetype": "text/x-python",
   "name": "python",
   "nbconvert_exporter": "python",
   "pygments_lexer": "ipython3",
   "version": "3.8.5"
  }
 },
 "nbformat": 4,
 "nbformat_minor": 4
}
