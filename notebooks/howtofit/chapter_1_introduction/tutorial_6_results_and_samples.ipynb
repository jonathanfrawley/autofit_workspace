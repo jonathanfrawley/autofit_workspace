{
 "cells": [
  {
   "cell_type": "markdown",
   "metadata": {},
   "source": [
    "Tutorial 7: Results And Samples\n",
    "===============================\n",
    "\n",
    "In this tutorial, we'll cover all of the output that comes from a `NonLinearSearch` in the form of a `Result` object.\n",
    "\n",
    "We used this object at various points in the chapter, and the bulk of material covered here is described in the example\n",
    "script `autofit_workspace/overview/simple/result.py`. Nevertheless, it is a good idea to refresh ourselves about how\n",
    "results in **PyAutoFit** work before covering more advanced material."
   ]
  },
  {
   "cell_type": "code",
   "execution_count": 1,
   "metadata": {
    "execution": {
     "iopub.execute_input": "2021-04-15T16:51:54.376322Z",
     "iopub.status.busy": "2021-04-15T16:51:54.375894Z",
     "iopub.status.idle": "2021-04-15T16:51:55.797802Z",
     "shell.execute_reply": "2021-04-15T16:51:55.798125Z"
    }
   },
   "outputs": [
    {
     "name": "stdout",
     "output_type": "stream",
     "text": [
      "/mnt/c/Users/Jammy/Code/PyAuto/autofit_workspace\n",
      "Working Directory has been set to `/mnt/c/Users/Jammy/Code/PyAuto/autofit_workspace`\n"
     ]
    }
   ],
   "source": [
    "%matplotlib inline\n",
    "from pyprojroot import here\n",
    "workspace_path = str(here())\n",
    "%cd $workspace_path\n",
    "print(f\"Working Directory has been set to `{workspace_path}`\")\n",
    "\n",
    "import autofit as af\n",
    "import os\n",
    "from os import path\n",
    "import numpy as np\n",
    "import matplotlib.pyplot as plt"
   ]
  },
  {
   "cell_type": "markdown",
   "metadata": {},
   "source": [
    "Load the dataset from the `autofit_workspace/dataset` folder."
   ]
  },
  {
   "cell_type": "code",
   "execution_count": 2,
   "metadata": {
    "execution": {
     "iopub.execute_input": "2021-04-15T16:51:55.801529Z",
     "iopub.status.busy": "2021-04-15T16:51:55.801126Z",
     "iopub.status.idle": "2021-04-15T16:51:55.804704Z",
     "shell.execute_reply": "2021-04-15T16:51:55.805003Z"
    }
   },
   "outputs": [],
   "source": [
    "dataset_path = path.join(\"dataset\", \"example_1d\", \"gaussian_x1\")\n",
    "data = af.util.numpy_array_from_json(file_path=path.join(dataset_path, \"data.json\"))\n",
    "noise_map = af.util.numpy_array_from_json(\n",
    "    file_path=path.join(dataset_path, \"noise_map.json\")\n",
    ")"
   ]
  },
  {
   "cell_type": "markdown",
   "metadata": {},
   "source": [
    "We'll reuse the `plot_line` and `Analysis` classes of the previous tutorial."
   ]
  },
  {
   "cell_type": "code",
   "execution_count": 3,
   "metadata": {
    "execution": {
     "iopub.execute_input": "2021-04-15T16:51:55.814263Z",
     "iopub.status.busy": "2021-04-15T16:51:55.813798Z",
     "iopub.status.idle": "2021-04-15T16:51:55.815510Z",
     "shell.execute_reply": "2021-04-15T16:51:55.815818Z"
    }
   },
   "outputs": [],
   "source": [
    "\n",
    "\n",
    "def plot_line(\n",
    "    xvalues,\n",
    "    line,\n",
    "    title=None,\n",
    "    ylabel=None,\n",
    "    errors=None,\n",
    "    color=\"k\",\n",
    "    output_path=None,\n",
    "    output_filename=None,\n",
    "):\n",
    "\n",
    "    plt.errorbar(\n",
    "        x=xvalues, y=line, yerr=errors, color=color, ecolor=\"k\", elinewidth=1, capsize=2\n",
    "    )\n",
    "    plt.title(title)\n",
    "    plt.xlabel(\"x value of profile\")\n",
    "    plt.ylabel(ylabel)\n",
    "    if not path.exists(output_path):\n",
    "        os.makedirs(output_path)\n",
    "    plt.savefig(path.join(output_path, f\"{output_filename}.png\"))\n",
    "    plt.clf()\n",
    "\n",
    "\n",
    "class Analysis(af.Analysis):\n",
    "    def __init__(self, data, noise_map):\n",
    "\n",
    "        super().__init__()\n",
    "\n",
    "        self.data = data\n",
    "        self.noise_map = noise_map\n",
    "\n",
    "    def log_likelihood_function(self, instance):\n",
    "\n",
    "        model_data = self.model_data_from_instance(instance=instance)\n",
    "\n",
    "        residual_map = self.data - model_data\n",
    "        chi_squared_map = (residual_map / self.noise_map) ** 2.0\n",
    "        chi_squared = sum(chi_squared_map)\n",
    "        noise_normalization = np.sum(np.log(2 * np.pi * noise_map ** 2.0))\n",
    "        log_likelihood = -0.5 * (chi_squared + noise_normalization)\n",
    "\n",
    "        return log_likelihood\n",
    "\n",
    "    def model_data_from_instance(self, instance):\n",
    "\n",
    "        \"\"\"\n",
    "        To create the summed profile of all individual profiles in an instance, we can use a dictionary comprehension\n",
    "        to iterate over all profiles in the instance.\n",
    "        \"\"\"\n",
    "        xvalues = np.arange(self.data.shape[0])\n",
    "\n",
    "        return sum(\n",
    "            [profile.profile_from_xvalues(xvalues=xvalues) for profile in instance]\n",
    "        )\n",
    "\n",
    "    def visualize(self, paths, instance, during_analysis):\n",
    "\n",
    "        \"\"\"\n",
    "        This method is identical to the previous tutorial, except it now uses the `model_data_from_instance` method\n",
    "        to create the profile.\n",
    "        \"\"\"\n",
    "        xvalues = np.arange(self.data.shape[0])\n",
    "\n",
    "        model_data = self.model_data_from_instance(instance=instance)\n",
    "\n",
    "        residual_map = self.data - model_data\n",
    "        chi_squared_map = (residual_map / self.noise_map) ** 2.0\n",
    "\n",
    "        \"\"\"The visualizer now outputs images of the best-fit results to hard-disk (checkout `visualizer.py`).\"\"\"\n",
    "        plot_line(\n",
    "            xvalues=xvalues,\n",
    "            line=self.data,\n",
    "            title=\"Data\",\n",
    "            ylabel=\"Data Values\",\n",
    "            color=\"k\",\n",
    "            output_path=paths.image_path,\n",
    "            output_filename=\"data\",\n",
    "        )\n",
    "\n",
    "        plot_line(\n",
    "            xvalues=xvalues,\n",
    "            line=model_data,\n",
    "            title=\"Model Data\",\n",
    "            ylabel=\"Model Data Values\",\n",
    "            color=\"k\",\n",
    "            output_path=paths.image_path,\n",
    "            output_filename=\"model_data\",\n",
    "        )\n",
    "\n",
    "        plot_line(\n",
    "            xvalues=xvalues,\n",
    "            line=residual_map,\n",
    "            title=\"Residual Map\",\n",
    "            ylabel=\"Residuals\",\n",
    "            color=\"k\",\n",
    "            output_path=paths.image_path,\n",
    "            output_filename=\"residual_map\",\n",
    "        )\n",
    "\n",
    "        plot_line(\n",
    "            xvalues=xvalues,\n",
    "            line=chi_squared_map,\n",
    "            title=\"Chi-Squared Map\",\n",
    "            ylabel=\"Chi-Squareds\",\n",
    "            color=\"k\",\n",
    "            output_path=paths.image_path,\n",
    "            output_filename=\"chi_squared_map\",\n",
    "        )\n"
   ]
  },
  {
   "cell_type": "markdown",
   "metadata": {},
   "source": [
    "Now lets run the `NonLinearSearch` to get ourselves a `Result`."
   ]
  },
  {
   "cell_type": "code",
   "execution_count": 4,
   "metadata": {
    "execution": {
     "iopub.execute_input": "2021-04-15T16:51:55.819542Z",
     "iopub.status.busy": "2021-04-15T16:51:55.819106Z",
     "iopub.status.idle": "2021-04-15T16:51:57.989359Z",
     "shell.execute_reply": "2021-04-15T16:51:57.989636Z"
    }
   },
   "outputs": [
    {
     "name": "stderr",
     "output_type": "stream",
     "text": [
      "INFO:root:tutorial_6_results_and_samples already completed, skipping non-linear search.\n"
     ]
    },
    {
     "name": "stdout",
     "output_type": "stream",
     "text": [
      "Emcee has begun running. \n",
      "Checkout the autofit_workspace/output/howtofit/tutorial_6__results_and_samples \n",
      "folder for live output of the results.\n",
      "This Jupyter notebook cell with progress once Emcee has completed - this could take a few minutes!\n",
      "Emcee has finished run - you may now continue the notebook.\n"
     ]
    }
   ],
   "source": [
    "import profiles as p\n",
    "\n",
    "model = af.Collection(gaussian=p.Gaussian)\n",
    "\n",
    "analysis = Analysis(data=data, noise_map=noise_map)\n",
    "\n",
    "emcee = af.Emcee(\n",
    "    name=\"tutorial_6_results_and_samples\",\n",
    "    path_prefix=path.join(\"howtofit\", \"chapter_1\"),\n",
    ")\n",
    "\n",
    "print(\n",
    "    \"Emcee has begun running. \\n\"\n",
    "    \"Checkout the autofit_workspace/output/howtofit/tutorial_6__results_and_samples \\n\"\n",
    "    \"folder for live output of the results.\\n\"\n",
    "    \"This Jupyter notebook cell with progress once Emcee has completed - this could take a few minutes!\"\n",
    ")\n",
    "\n",
    "result = emcee.fit(model=model, analysis=analysis)\n",
    "\n",
    "print(\"Emcee has finished run - you may now continue the notebook.\")"
   ]
  },
  {
   "cell_type": "markdown",
   "metadata": {},
   "source": [
    "__Result__\n",
    "\n",
    "Here, we'll look in detail at what information is contained in the `Result`.\n",
    "\n",
    "It contains a `Samples` object, which contains information on the `NonLinearSearch`, for example the parameters. \n",
    "\n",
    "The parameters are stored as a list of lists, where:\n",
    "\n",
    " - The outer list is the size of the total number of samples.\n",
    " - The inner list is the size of the number of free parameters in the fit."
   ]
  },
  {
   "cell_type": "code",
   "execution_count": 5,
   "metadata": {
    "execution": {
     "iopub.execute_input": "2021-04-15T16:51:58.123166Z",
     "iopub.status.busy": "2021-04-15T16:51:58.122723Z",
     "iopub.status.idle": "2021-04-15T16:51:58.263448Z",
     "shell.execute_reply": "2021-04-15T16:51:58.263821Z"
    }
   },
   "outputs": [
    {
     "name": "stdout",
     "output_type": "stream",
     "text": [
      "Sample 50's second parameter value (Gaussian -> intensity):\n",
      "0.7892155456942743\n",
      "Sample 10`s third parameter value (Gaussian -> sigma)\n",
      "12.427589608310107 \n",
      "\n"
     ]
    }
   ],
   "source": [
    "samples = result.samples\n",
    "print(\"Sample 50's second parameter value (Gaussian -> intensity):\")\n",
    "print(samples.parameters[49][1])\n",
    "print(\"Sample 10`s third parameter value (Gaussian -> sigma)\")\n",
    "print(samples.parameters[9][2], \"\\n\")"
   ]
  },
  {
   "cell_type": "markdown",
   "metadata": {},
   "source": [
    "The `Samples` class also contains the `log_likelihoods`, `log_priors`, `log_posteriors` and `weights` of every \n",
    "accepted sample, where:\n",
    "\n",
    " - A `log_likelihood` is the value evaluated from the `log_likelihood_function` (e.g. -0.5 * `chi_squared` + the \n",
    " `noise_normalization`).\n",
    "\n",
    " - The `log_prior` encodes information on how the priors on the parameters maps the `log_likelihood` value to the \n",
    "  `log_posterior` value.\n",
    "\n",
    " - The `log_posterior` is `log_likelihood` + `log_prior`.\n",
    "\n",
    " - The `weights` gives information on how samples should be combined to estimate the posterior. The values \n",
    "   depend on the `NonLinearSearch` used, for MCMC samples they are all 1 (e.g. all weighted equally).\n",
    "   \n",
    "Lets inspect the last 10 values of each for the analysis."
   ]
  },
  {
   "cell_type": "code",
   "execution_count": 6,
   "metadata": {
    "execution": {
     "iopub.execute_input": "2021-04-15T16:51:58.310540Z",
     "iopub.status.busy": "2021-04-15T16:51:58.310017Z",
     "iopub.status.idle": "2021-04-15T16:51:58.313472Z",
     "shell.execute_reply": "2021-04-15T16:51:58.313051Z"
    }
   },
   "outputs": [
    {
     "name": "stdout",
     "output_type": "stream",
     "text": [
      "Final 10 Log Likelihoods:\n",
      "[178.7265523249609, 178.59230639443484, 180.08136852899327, 179.593970075434, 179.90417256585894, 179.85601131923053, 179.1371938871297, 179.5349896160467, 179.10844897740057, 179.86281749666867]\n",
      "Final 10 Log Priors:\n",
      "[0.04014277210436181, 0.04048288627107919, 0.040741584137832076, 0.04060657674386848, 0.04023515055634231, 0.040886237803368905, 0.039963197554438036, 0.04077486987185653, 0.04072666104662249, 0.04074797646139163]\n",
      "Final 10 Log Posteriors:\n",
      "[178.76669509706525, 178.63278928070594, 180.1221101131311, 179.63457665217786, 179.9444077164153, 179.8968975570339, 179.17715708468415, 179.57576448591854, 179.1491756384472, 179.90356547313007]\n",
      "Final 10 Sample Weights:\n",
      "[1.0, 1.0, 1.0, 1.0, 1.0, 1.0, 1.0, 1.0, 1.0, 1.0] \n",
      "\n"
     ]
    }
   ],
   "source": [
    "print(\"Final 10 Log Likelihoods:\")\n",
    "print(samples.log_likelihoods[-10:])\n",
    "\n",
    "print(\"Final 10 Log Priors:\")\n",
    "print(samples.log_priors[-10:])\n",
    "\n",
    "print(\"Final 10 Log Posteriors:\")\n",
    "print(samples.log_posteriors[-10:])\n",
    "\n",
    "print(\"Final 10 Sample Weights:\")\n",
    "print(samples.weights[-10:], \"\\n\")"
   ]
  },
  {
   "cell_type": "markdown",
   "metadata": {},
   "source": [
    "The `Samples` contain many useful vectors, including the the maximum log likelihood and posterior values:"
   ]
  },
  {
   "cell_type": "code",
   "execution_count": 7,
   "metadata": {
    "execution": {
     "iopub.execute_input": "2021-04-15T16:51:58.400139Z",
     "iopub.status.busy": "2021-04-15T16:51:58.399708Z",
     "iopub.status.idle": "2021-04-15T16:51:58.407847Z",
     "shell.execute_reply": "2021-04-15T16:51:58.407506Z"
    }
   },
   "outputs": [
    {
     "name": "stdout",
     "output_type": "stream",
     "text": [
      "Maximum Log Likelihood Vector:\n",
      "[49.85463180994396, 24.739937570799206, 10.02299360588448]\n",
      "Maximum Log Posterior Vector:\n",
      "[49.85463180994396, 24.739937570799206, 10.02299360588448] \n",
      "\n"
     ]
    }
   ],
   "source": [
    "max_log_likelihood_vector = samples.max_log_likelihood_vector\n",
    "max_log_posterior_vector = samples.max_log_posterior_vector\n",
    "\n",
    "print(\"Maximum Log Likelihood Vector:\")\n",
    "print(max_log_likelihood_vector)\n",
    "\n",
    "print(\"Maximum Log Posterior Vector:\")\n",
    "print(max_log_posterior_vector, \"\\n\")"
   ]
  },
  {
   "cell_type": "markdown",
   "metadata": {},
   "source": [
    "This provides us with lists of all model parameters. However, this isn't that much use, which values correspond to \n",
    "which parameters?\n",
    "\n",
    "The list of parameter names are available as a property of the `Model` included with the `Samples`, as are labels \n",
    "which can be used for labeling figures."
   ]
  },
  {
   "cell_type": "code",
   "execution_count": 8,
   "metadata": {
    "execution": {
     "iopub.execute_input": "2021-04-15T16:51:58.411358Z",
     "iopub.status.busy": "2021-04-15T16:51:58.410952Z",
     "iopub.status.idle": "2021-04-15T16:51:58.413833Z",
     "shell.execute_reply": "2021-04-15T16:51:58.413424Z"
    }
   },
   "outputs": [
    {
     "name": "stdout",
     "output_type": "stream",
     "text": [
      "Gaussian (centre, UniformPrior, lower_limit = 0.0, upper_limit = 100.0), (intensity, LogUniformPrior, lower_limit = 1e-06, upper_limit = 1000000.0), (sigma, UniformPrior, lower_limit = 0.0, upper_limit = 25.0)\n",
      "['centre', 'intensity', 'sigma']\n",
      "['x', 'I', 'sigma']\n",
      "\n",
      "\n"
     ]
    }
   ],
   "source": [
    "model = samples.model\n",
    "print(model)\n",
    "print(model.parameter_names)\n",
    "print(model.parameter_labels)\n",
    "print(\"\\n\")"
   ]
  },
  {
   "cell_type": "markdown",
   "metadata": {},
   "source": [
    "It is more useful to return the `Result`'s as an `instance`, which is an instance of the `model` using the Python \n",
    "classes used to compose it."
   ]
  },
  {
   "cell_type": "code",
   "execution_count": 9,
   "metadata": {
    "execution": {
     "iopub.execute_input": "2021-04-15T16:51:58.425188Z",
     "iopub.status.busy": "2021-04-15T16:51:58.424790Z",
     "iopub.status.idle": "2021-04-15T16:51:58.430169Z",
     "shell.execute_reply": "2021-04-15T16:51:58.430457Z"
    }
   },
   "outputs": [],
   "source": [
    "max_log_likelihood_instance = samples.max_log_likelihood_instance"
   ]
  },
  {
   "cell_type": "markdown",
   "metadata": {},
   "source": [
    "A `model instance` contains all the model components of our fit, which for the fit above was a single `Gaussian`\n",
    "profile (the word `gaussian` comes from what we called it in the `Collection` above)."
   ]
  },
  {
   "cell_type": "code",
   "execution_count": 10,
   "metadata": {
    "execution": {
     "iopub.execute_input": "2021-04-15T16:51:58.433377Z",
     "iopub.status.busy": "2021-04-15T16:51:58.432976Z",
     "iopub.status.idle": "2021-04-15T16:51:58.435112Z",
     "shell.execute_reply": "2021-04-15T16:51:58.435398Z"
    }
   },
   "outputs": [
    {
     "name": "stdout",
     "output_type": "stream",
     "text": [
      "<profiles.Gaussian object at 0x7f9d9e11bfd0>\n"
     ]
    }
   ],
   "source": [
    "print(max_log_likelihood_instance.gaussian)"
   ]
  },
  {
   "cell_type": "markdown",
   "metadata": {},
   "source": [
    "We can unpack the parameters of the `Gaussian` to reveal the `max_log_likelihood_instance`:"
   ]
  },
  {
   "cell_type": "code",
   "execution_count": 11,
   "metadata": {
    "execution": {
     "iopub.execute_input": "2021-04-15T16:51:58.438594Z",
     "iopub.status.busy": "2021-04-15T16:51:58.438193Z",
     "iopub.status.idle": "2021-04-15T16:51:58.441596Z",
     "shell.execute_reply": "2021-04-15T16:51:58.441189Z"
    }
   },
   "outputs": [
    {
     "name": "stdout",
     "output_type": "stream",
     "text": [
      "Max Log Likelihood `Gaussian` Instance:\n",
      "Centre =  49.85463180994396\n",
      "Intensity =  24.739937570799206\n",
      "Sigma =  10.02299360588448 \n",
      "\n"
     ]
    }
   ],
   "source": [
    "print(\"Max Log Likelihood `Gaussian` Instance:\")\n",
    "print(\"Centre = \", max_log_likelihood_instance.gaussian.centre)\n",
    "print(\"Intensity = \", max_log_likelihood_instance.gaussian.intensity)\n",
    "print(\"Sigma = \", max_log_likelihood_instance.gaussian.sigma, \"\\n\")"
   ]
  },
  {
   "cell_type": "markdown",
   "metadata": {},
   "source": [
    "For our example problem of fitting a 1D `Gaussian` profile, this makes it straight forward to plot the \n",
    "`max_log_likelihood_instance`:"
   ]
  },
  {
   "cell_type": "code",
   "execution_count": 12,
   "metadata": {
    "execution": {
     "iopub.execute_input": "2021-04-15T16:51:58.458634Z",
     "iopub.status.busy": "2021-04-15T16:51:58.455781Z",
     "iopub.status.idle": "2021-04-15T16:51:58.666880Z",
     "shell.execute_reply": "2021-04-15T16:51:58.666447Z"
    }
   },
   "outputs": [
    {
     "data": {
      "image/png": "[encoded data removed]",
      "text/plain": [
       "<Figure size 432x288 with 1 Axes>"
      ]
     },
     "metadata": {
      "needs_background": "light"
     },
     "output_type": "display_data"
    }
   ],
   "source": [
    "xvalues = np.arange(data.shape[0])\n",
    "model_data = samples.max_log_likelihood_instance.gaussian.profile_from_xvalues(\n",
    "    xvalues=xvalues\n",
    ")\n",
    "\n",
    "import matplotlib.pyplot as plt\n",
    "\n",
    "plt.errorbar(\n",
    "    x=xvalues, y=data, yerr=noise_map, color=\"k\", ecolor=\"k\", elinewidth=1, capsize=2\n",
    ")\n",
    "plt.plot(xvalues, model_data, color=\"r\")\n",
    "plt.title(\"Illustrative model fit to 1D `Gaussian` profile data.\")\n",
    "plt.xlabel(\"x values of profile\")\n",
    "plt.ylabel(\"Profile intensity\")\n",
    "plt.show()\n",
    "plt.close()"
   ]
  },
  {
   "cell_type": "markdown",
   "metadata": {},
   "source": [
    "We can also access the `median PDF` model, which is the model computed by marginalizing over the samples of every \n",
    "parameter in 1D and taking the median of this PDF.\n",
    "\n",
    "The `median_pdf_vector` is readily available from the `Samples` object for you convenience."
   ]
  },
  {
   "cell_type": "code",
   "execution_count": 13,
   "metadata": {
    "execution": {
     "iopub.execute_input": "2021-04-15T16:51:58.670381Z",
     "iopub.status.busy": "2021-04-15T16:51:58.669937Z",
     "iopub.status.idle": "2021-04-15T16:51:58.738811Z",
     "shell.execute_reply": "2021-04-15T16:51:58.738356Z"
    }
   },
   "outputs": [
    {
     "name": "stdout",
     "output_type": "stream",
     "text": [
      "Median PDF Vector:\n",
      "[49.84541647297395, 24.740070007763457, 10.022322274304965] \n",
      "\n",
      "Median PDF `Gaussian` Instance:\n",
      "Centre =  49.84541647297395\n",
      "Intensity =  24.740070007763457\n",
      "Sigma =  10.022322274304965 \n",
      "\n"
     ]
    }
   ],
   "source": [
    "median_pdf_vector = samples.median_pdf_vector\n",
    "print(\"Median PDF Vector:\")\n",
    "print(median_pdf_vector, \"\\n\")\n",
    "\n",
    "median_pdf_instance = samples.median_pdf_instance\n",
    "print(\"Median PDF `Gaussian` Instance:\")\n",
    "print(\"Centre = \", median_pdf_instance.gaussian.centre)\n",
    "print(\"Intensity = \", median_pdf_instance.gaussian.intensity)\n",
    "print(\"Sigma = \", median_pdf_instance.gaussian.sigma, \"\\n\")"
   ]
  },
  {
   "cell_type": "markdown",
   "metadata": {},
   "source": [
    "The `Samples` class also provides methods for computing the error estimates of all parameters at an input sigma \n",
    "confidence limit, which can be returned as the values of the parameters including their errors or the size of the \n",
    "errors on each parameter:"
   ]
  },
  {
   "cell_type": "code",
   "execution_count": 14,
   "metadata": {
    "execution": {
     "iopub.execute_input": "2021-04-15T16:51:58.742541Z",
     "iopub.status.busy": "2021-04-15T16:51:58.742113Z",
     "iopub.status.idle": "2021-04-15T16:51:58.874096Z",
     "shell.execute_reply": "2021-04-15T16:51:58.873700Z"
    }
   },
   "outputs": [
    {
     "name": "stdout",
     "output_type": "stream",
     "text": [
      "Upper Parameter values w/ error (at 3.0 sigma confidence):\n",
      "[50.22826955791078, 25.58414870237696, 10.399094846433245]\n",
      "lower Parameter values w/ errors (at 3.0 sigma confidence):\n",
      "[49.493225082547085, 23.87023272228294, 9.654742095030585] \n",
      "\n",
      "Upper Error values (at 3.0 sigma confidence):\n",
      "[0.38285308493682635, 0.8440786946135042, 0.37677257212827975]\n",
      "lower Error values (at 3.0 sigma confidence):\n",
      "[0.3521913904268672, 0.8698372854805179, 0.36758017927438047] \n",
      "\n"
     ]
    }
   ],
   "source": [
    "vector_at_upper_sigma = samples.vector_at_upper_sigma(sigma=3.0)\n",
    "vector_at_lower_sigma = samples.vector_at_lower_sigma(sigma=3.0)\n",
    "\n",
    "print(\"Upper Parameter values w/ error (at 3.0 sigma confidence):\")\n",
    "print(vector_at_upper_sigma)\n",
    "print(\"lower Parameter values w/ errors (at 3.0 sigma confidence):\")\n",
    "print(vector_at_lower_sigma, \"\\n\")\n",
    "\n",
    "error_vector_at_upper_sigma = samples.error_vector_at_upper_sigma(sigma=3.0)\n",
    "error_vector_at_lower_sigma = samples.error_vector_at_lower_sigma(sigma=3.0)\n",
    "\n",
    "print(\"Upper Error values (at 3.0 sigma confidence):\")\n",
    "print(error_vector_at_upper_sigma)\n",
    "print(\"lower Error values (at 3.0 sigma confidence):\")\n",
    "print(error_vector_at_lower_sigma, \"\\n\")"
   ]
  },
  {
   "cell_type": "markdown",
   "metadata": {},
   "source": [
    "All methods above are available as an `instance`:"
   ]
  },
  {
   "cell_type": "code",
   "execution_count": 15,
   "metadata": {
    "execution": {
     "iopub.execute_input": "2021-04-15T16:51:58.877303Z",
     "iopub.status.busy": "2021-04-15T16:51:58.876931Z",
     "iopub.status.idle": "2021-04-15T16:51:58.878715Z",
     "shell.execute_reply": "2021-04-15T16:51:58.878987Z"
    }
   },
   "outputs": [],
   "source": [
    "instance_at_upper_sigma = samples.instance_at_upper_sigma\n",
    "instance_at_lower_sigma = samples.instance_at_lower_sigma\n",
    "error_instance_at_upper_sigma = samples.error_instance_at_upper_sigma\n",
    "error_instance_at_lower_sigma = samples.error_instance_at_lower_sigma"
   ]
  },
  {
   "cell_type": "markdown",
   "metadata": {},
   "source": [
    "An `instance` of any accepted parameter space sample can be created:"
   ]
  },
  {
   "cell_type": "code",
   "execution_count": 16,
   "metadata": {
    "execution": {
     "iopub.execute_input": "2021-04-15T16:51:58.994120Z",
     "iopub.status.busy": "2021-04-15T16:51:58.906565Z",
     "iopub.status.idle": "2021-04-15T16:51:59.015276Z",
     "shell.execute_reply": "2021-04-15T16:51:59.014935Z"
    }
   },
   "outputs": [
    {
     "name": "stdout",
     "output_type": "stream",
     "text": [
      "Gaussian Instance of sample 5000:\n",
      "Centre =  47.81029445722902\n",
      "Intensity =  1.9726630746967806\n",
      "Sigma =  12.62623345586867 \n",
      "\n"
     ]
    }
   ],
   "source": [
    "instance = samples.instance_from_sample_index(sample_index=500)\n",
    "print(\"Gaussian Instance of sample 5000:\")\n",
    "print(\"Centre = \", instance.gaussian.centre)\n",
    "print(\"Intensity = \", instance.gaussian.intensity)\n",
    "print(\"Sigma = \", instance.gaussian.sigma, \"\\n\")"
   ]
  },
  {
   "cell_type": "markdown",
   "metadata": {},
   "source": [
    "Because `Emcee`, an MCMC *NonLinearSearch* was used, the `log_evidence` of the model is not available. However, if a \n",
    "nested sampling algorithm such as `DynestyStatic` had been used the Bayesian evidence would of been available to \n",
    "perform model (the log evidence below gives `None`).."
   ]
  },
  {
   "cell_type": "code",
   "execution_count": 17,
   "metadata": {
    "execution": {
     "iopub.execute_input": "2021-04-15T16:51:59.018219Z",
     "iopub.status.busy": "2021-04-15T16:51:59.017839Z",
     "iopub.status.idle": "2021-04-15T16:51:59.020146Z",
     "shell.execute_reply": "2021-04-15T16:51:59.019761Z"
    }
   },
   "outputs": [
    {
     "name": "stdout",
     "output_type": "stream",
     "text": [
      "None\n"
     ]
    }
   ],
   "source": [
    "print(samples.log_evidence)"
   ]
  },
  {
   "cell_type": "markdown",
   "metadata": {},
   "source": [
    "The Probability Density Functions (PDF's) of the results can be plotted using the library:\n",
    "\n",
    " `corner.py`: https://corner.readthedocs.io/en/latest/\n",
    "\n",
    "(In built visualization for PDF's and `NonLinearSearch`'s is a future feature of **PyAutoFit**, but for now you'll \n",
    "have to use the libraries yourself!)."
   ]
  },
  {
   "cell_type": "code",
   "execution_count": 18,
   "metadata": {
    "execution": {
     "iopub.execute_input": "2021-04-15T16:51:59.023401Z",
     "iopub.status.busy": "2021-04-15T16:51:59.022849Z",
     "iopub.status.idle": "2021-04-15T16:52:00.125795Z",
     "shell.execute_reply": "2021-04-15T16:52:00.125456Z"
    }
   },
   "outputs": [
    {
     "name": "stderr",
     "output_type": "stream",
     "text": [
      "WARNING:root:Too few points to create valid contours\n",
      "WARNING:root:Too few points to create valid contours\n",
      "WARNING:root:Too few points to create valid contours\n"
     ]
    },
    {
     "data": {
      "image/png": "[encoded data removed]",
      "text/plain": [
       "<Figure size 547.2x547.2 with 9 Axes>"
      ]
     },
     "execution_count": 1,
     "metadata": {},
     "output_type": "execute_result"
    },
    {
     "data": {
      "image/png": "[encoded data removed]",
      "text/plain": [
       "<Figure size 547.2x547.2 with 9 Axes>"
      ]
     },
     "metadata": {
      "needs_background": "light"
     },
     "output_type": "display_data"
    }
   ],
   "source": [
    "import corner\n",
    "\n",
    "corner.corner(\n",
    "    xs=samples.parameters,\n",
    "    weights=samples.weights,\n",
    "    labels=samples.model.parameter_labels,\n",
    ")"
   ]
  },
  {
   "cell_type": "markdown",
   "metadata": {},
   "source": [
    "Finish."
   ]
  },
  {
   "cell_type": "code",
   "execution_count": null,
   "metadata": {},
   "outputs": [],
   "source": []
  }
 ],
 "metadata": {
  "anaconda-cloud": {},
  "kernelspec": {
   "display_name": "Python 3",
   "language": "python",
   "name": "python3"
  },
  "language_info": {
   "codemirror_mode": {
    "name": "ipython",
    "version": 3
   },
   "file_extension": ".py",
   "mimetype": "text/x-python",
   "name": "python",
   "nbconvert_exporter": "python",
   "pygments_lexer": "ipython3",
   "version": "3.8.5"
  }
 },
 "nbformat": 4,
 "nbformat_minor": 4
}
