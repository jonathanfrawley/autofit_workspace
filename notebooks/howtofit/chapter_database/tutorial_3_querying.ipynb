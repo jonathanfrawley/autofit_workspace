{
 "cells": [
  {
   "cell_type": "markdown",
   "metadata": {},
   "source": [
    "Tutorial 3: Querying\n",
    "====================\n",
    "\n",
    "In the previous tutorial, the `Aggregator` loaded all of the results of all 3 fits.\n",
    "\n",
    "However, imagine we want the results of a fit to 1 specific data or the model-fits with certain properties. In this\n",
    "tutorial, we'll learn how query the database and load only the results that we want."
   ]
  },
  {
   "cell_type": "code",
   "execution_count": 1,
   "metadata": {
    "execution": {
     "iopub.execute_input": "2021-05-11T19:03:51.501007Z",
     "iopub.status.busy": "2021-05-11T19:03:51.500511Z",
     "iopub.status.idle": "2021-05-11T19:03:53.085292Z",
     "shell.execute_reply": "2021-05-11T19:03:53.085615Z"
    }
   },
   "outputs": [
    {
     "name": "stdout",
     "output_type": "stream",
     "text": [
      "/mnt/c/Users/Jammy/Code/PyAuto/autofit_workspace\n",
      "Working Directory has been set to `/mnt/c/Users/Jammy/Code/PyAuto/autofit_workspace`\n"
     ]
    }
   ],
   "source": [
    "%matplotlib inline\n",
    "from pyprojroot import here\n",
    "workspace_path = str(here())\n",
    "%cd $workspace_path\n",
    "print(f\"Working Directory has been set to `{workspace_path}`\")\n",
    "\n",
    "import autofit as af\n",
    "from os import path\n",
    "\n",
    "import profiles as p"
   ]
  },
  {
   "cell_type": "markdown",
   "metadata": {},
   "source": [
    "We begin by loading the database via the `.sqlite` file as we did in the previous tutorial. \n",
    "\n",
    "Below, we also filter results to only include completed results  by including the `completed_only` bool. If any \n",
    "results were present in the database that were in the middle of an unfinished `NonLinearSearch` they would be omitted \n",
    "and not loaded, albeit for this tutorial all 3 of our model-fits had completed anyway!"
   ]
  },
  {
   "cell_type": "code",
   "execution_count": 2,
   "metadata": {
    "execution": {
     "iopub.execute_input": "2021-05-11T19:03:53.089233Z",
     "iopub.status.busy": "2021-05-11T19:03:53.088827Z",
     "iopub.status.idle": "2021-05-11T19:03:53.099674Z",
     "shell.execute_reply": "2021-05-11T19:03:53.099314Z"
    }
   },
   "outputs": [],
   "source": [
    "agg = af.Aggregator.from_database(\n",
    "    path.join(\"output\", \"database_howtofit.sqlite\"),\n",
    "    completed_only=True\n",
    ")"
   ]
  },
  {
   "cell_type": "markdown",
   "metadata": {},
   "source": [
    "First, lets print the number of `Samples` objects the `Aggregator` finds. As in the previous tutorial, we should find \n",
    "there are 3 results:"
   ]
  },
  {
   "cell_type": "code",
   "execution_count": 3,
   "metadata": {
    "execution": {
     "iopub.execute_input": "2021-05-11T19:03:53.102481Z",
     "iopub.status.busy": "2021-05-11T19:03:53.102101Z",
     "iopub.status.idle": "2021-05-11T19:03:53.140760Z",
     "shell.execute_reply": "2021-05-11T19:03:53.141163Z"
    }
   },
   "outputs": [
    {
     "name": "stdout",
     "output_type": "stream",
     "text": [
      "Emcee Samples:\n",
      "\n",
      "Total Samples Objects =  3 \n",
      "\n"
     ]
    }
   ],
   "source": [
    "print(\"Emcee Samples:\\n\")\n",
    "print(\"Total Samples Objects = \", len(list(agg.values(\"samples\"))), \"\\n\")"
   ]
  },
  {
   "cell_type": "markdown",
   "metadata": {},
   "source": [
    "We can use the `Aggregator`'s to query the database and return only specific fits that we are interested in. We first \n",
    "do this, using the `info` object, whereby we can query any of its entries, for example the `dataset_name` string we \n",
    "input into the model-fit above. \n",
    "\n",
    "By querying using the string `gaussian_x1_1` the model-fit to only the second `Gaussian` dataset is returned:"
   ]
  },
  {
   "cell_type": "code",
   "execution_count": 4,
   "metadata": {
    "execution": {
     "iopub.execute_input": "2021-05-11T19:03:53.144493Z",
     "iopub.status.busy": "2021-05-11T19:03:53.144065Z",
     "iopub.status.idle": "2021-05-11T19:03:53.150910Z",
     "shell.execute_reply": "2021-05-11T19:03:53.150572Z"
    }
   },
   "outputs": [
    {
     "name": "stdout",
     "output_type": "stream",
     "text": [
      "[<autofit.non_linear.nest.dynesty.DynestySamples object at 0x7ffcfad0d670>]\n",
      "Total Samples Objects via dataset_name Query =  1 \n",
      "\n"
     ]
    }
   ],
   "source": [
    "# FEature Missing\n",
    "\n",
    "unique_tag = agg.unique_tag\n",
    "agg_query = agg.query(unique_tag == \"gaussian_x1_1\")\n",
    "samples_gen = agg_query.values(\"samples\")\n",
    "\n",
    "print(samples_gen)\n",
    "print(\"Total Samples Objects via dataset_name Query = \", len(list(samples_gen)), \"\\n\")"
   ]
  },
  {
   "cell_type": "markdown",
   "metadata": {},
   "source": [
    "We can also filter based on the model fitted. \n",
    "\n",
    "For example, we can load all results which fitted a `Gaussian` model-component, which in this simple example is all\n",
    "3 model-fits.\n",
    " \n",
    "The ability to query via the model is extremely powerful. It enalbes a user to perform many model-fits with many \n",
    "different model parameterizations to large datasets and efficiently load and inspect the results. \n",
    "\n",
    "[Note: the code `agg.gaussian` corresponds to the fact that in the `Collection` above, we named the model\n",
    "component `gaussian`. If this `Collection` had used a different name the code below would change \n",
    "correspondingly. Models with multiple model components (e.g., `gaussian` and `exponential`) are therefore also easily \n",
    "accessed via the database.]"
   ]
  },
  {
   "cell_type": "code",
   "execution_count": 5,
   "metadata": {
    "execution": {
     "iopub.execute_input": "2021-05-11T19:03:53.154476Z",
     "iopub.status.busy": "2021-05-11T19:03:53.154078Z",
     "iopub.status.idle": "2021-05-11T19:03:53.207173Z",
     "shell.execute_reply": "2021-05-11T19:03:53.207476Z"
    }
   },
   "outputs": [
    {
     "name": "stdout",
     "output_type": "stream",
     "text": [
      "Total Samples Objects via `Gaussian` model query =  3 \n",
      "\n"
     ]
    }
   ],
   "source": [
    "gaussian = agg.gaussian\n",
    "agg_query = agg.query(gaussian == p.Gaussian)\n",
    "samples_gen = agg_query.values(\"samples\")\n",
    "print(\n",
    "    \"Total Samples Objects via `Gaussian` model query = \", len(list(samples_gen)), \"\\n\"\n",
    ")"
   ]
  },
  {
   "cell_type": "markdown",
   "metadata": {},
   "source": [
    "We can also query based on the result of the model that is fitted. Below, we query to the database to find all fits \n",
    "where the inferred value of `sigma` for the `Gaussian` is less than 3.0 (which returns only the first of the\n",
    "three model-fits)."
   ]
  },
  {
   "cell_type": "code",
   "execution_count": 6,
   "metadata": {
    "execution": {
     "iopub.execute_input": "2021-05-11T19:03:53.214032Z",
     "iopub.status.busy": "2021-05-11T19:03:53.213650Z",
     "iopub.status.idle": "2021-05-11T19:03:53.225499Z",
     "shell.execute_reply": "2021-05-11T19:03:53.225108Z"
    }
   },
   "outputs": [
    {
     "name": "stdout",
     "output_type": "stream",
     "text": [
      "Total Samples Objects In Query `gaussian.sigma < 3.0` =  1 \n",
      "\n"
     ]
    }
   ],
   "source": [
    "gaussian = agg.gaussian\n",
    "agg_query = agg.query(gaussian.sigma < 3.0)\n",
    "samples_gen = agg_query.values(\"samples\")\n",
    "print(\n",
    "    \"Total Samples Objects In Query `gaussian.sigma < 3.0` = \",\n",
    "    len(list(samples_gen)),\n",
    "    \"\\n\",\n",
    ")"
   ]
  },
  {
   "cell_type": "markdown",
   "metadata": {},
   "source": [
    "Advanced queries can be constructed using logic, for example we below we combine the two queries above to find all\n",
    "results which fitted a `Gaussian` AND (using the & symbol) inferred a value of sigma less than 3.0. \n",
    "\n",
    "The OR logical clause is also supported via the symbol |."
   ]
  },
  {
   "cell_type": "code",
   "execution_count": 7,
   "metadata": {
    "execution": {
     "iopub.execute_input": "2021-05-11T19:03:53.235891Z",
     "iopub.status.busy": "2021-05-11T19:03:53.235459Z",
     "iopub.status.idle": "2021-05-11T19:03:53.245965Z",
     "shell.execute_reply": "2021-05-11T19:03:53.246279Z"
    }
   },
   "outputs": [
    {
     "name": "stdout",
     "output_type": "stream",
     "text": [
      "Total Samples Objects In Query `Gaussian & sigma < 3.0` =  1 \n",
      "\n"
     ]
    }
   ],
   "source": [
    "gaussian = agg.gaussian\n",
    "agg_query = agg.query((gaussian == p.Gaussian) & (gaussian.sigma < 3.0))\n",
    "samples_gen = agg_query.values(\"samples\")\n",
    "print(\n",
    "    \"Total Samples Objects In Query `Gaussian & sigma < 3.0` = \",\n",
    "    len(list(samples_gen)),\n",
    "    \"\\n\",\n",
    ")"
   ]
  },
  {
   "cell_type": "markdown",
   "metadata": {},
   "source": [
    "Tutorial 3 complete! \n",
    "\n",
    "The API for querying is fairly self explanatory. Through the combination of info based queries, model based\n",
    "queries and result based queries a user has all the tools they need to fit extremely large datasets with many different\n",
    "models and load only the results they are interested in for inspection and analysis."
   ]
  },
  {
   "cell_type": "code",
   "execution_count": null,
   "metadata": {},
   "outputs": [],
   "source": []
  }
 ],
 "metadata": {
  "anaconda-cloud": {},
  "kernelspec": {
   "display_name": "Python 3",
   "language": "python",
   "name": "python3"
  },
  "language_info": {
   "codemirror_mode": {
    "name": "ipython",
    "version": 3
   },
   "file_extension": ".py",
   "mimetype": "text/x-python",
   "name": "python",
   "nbconvert_exporter": "python",
   "pygments_lexer": "ipython3",
   "version": "3.8.5"
  }
 },
 "nbformat": 4,
 "nbformat_minor": 4
}
