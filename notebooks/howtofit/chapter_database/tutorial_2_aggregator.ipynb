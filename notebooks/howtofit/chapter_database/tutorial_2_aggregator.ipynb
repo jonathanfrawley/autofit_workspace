{
 "cells": [
  {
   "cell_type": "markdown",
   "metadata": {},
   "source": [
    "Tutorial 2: Aggregator\n",
    "======================\n",
    "\n",
    "In the previous tutorial, we fitted 3 datasets with an identical `NonLinearSearch`, outputting the results of each to a\n",
    "unique folder on our hard disk.\n",
    "\n",
    "In this tutorial, we'll use the `Aggregator` to load the `Result`'s and manipulate them using our Jupyter\n",
    "notebook. The API for using a `Result` is described fully in tutorial 6 of chapter 1 of **HowToFit**."
   ]
  },
  {
   "cell_type": "code",
   "execution_count": 1,
   "metadata": {
    "execution": {
     "iopub.execute_input": "2021-05-11T19:03:45.284597Z",
     "iopub.status.busy": "2021-05-11T19:03:45.284141Z",
     "iopub.status.idle": "2021-05-11T19:03:46.747797Z",
     "shell.execute_reply": "2021-05-11T19:03:46.748082Z"
    }
   },
   "outputs": [
    {
     "name": "stdout",
     "output_type": "stream",
     "text": [
      "/mnt/c/Users/Jammy/Code/PyAuto/autofit_workspace\n",
      "Working Directory has been set to `/mnt/c/Users/Jammy/Code/PyAuto/autofit_workspace`\n"
     ]
    }
   ],
   "source": [
    "%matplotlib inline\n",
    "from pyprojroot import here\n",
    "workspace_path = str(here())\n",
    "%cd $workspace_path\n",
    "print(f\"Working Directory has been set to `{workspace_path}`\")\n",
    "\n",
    "from os import path\n",
    "import autofit as af"
   ]
  },
  {
   "cell_type": "markdown",
   "metadata": {},
   "source": [
    "First, note how the results are not contained in the `output` folder after each search completes. Instead, they are\n",
    "contained in the `database_howtofit.sqlite` file, which we can load using the `Aggregator`."
   ]
  },
  {
   "cell_type": "code",
   "execution_count": 2,
   "metadata": {
    "execution": {
     "iopub.execute_input": "2021-05-11T19:03:46.751336Z",
     "iopub.status.busy": "2021-05-11T19:03:46.750987Z",
     "iopub.status.idle": "2021-05-11T19:03:46.761142Z",
     "shell.execute_reply": "2021-05-11T19:03:46.761427Z"
    }
   },
   "outputs": [],
   "source": [
    "agg = af.Aggregator.from_database(\n",
    "    path.join(\"output\", \"database_howtofit.sqlite\")\n",
    ")"
   ]
  },
  {
   "cell_type": "markdown",
   "metadata": {},
   "source": [
    "Before using the aggregator to inspect results, let me quickly cover Python generators. A generator is an object that \n",
    "iterates over a function when it is called. The aggregator creates all of the objects that it loads from the database \n",
    "as generators (as opposed to a list, or dictionary, or other Python type).\n",
    "\n",
    "Why? Because lists and dictionaries store every entry in memory simultaneously. If you fit many datasets, this will use \n",
    "a lot of memory and crash your laptop! On the other hand, a generator only stores the object in memory when it is used; \n",
    "Python is then free to overwrite it afterwards. Thus, your laptop won't crash!\n",
    "\n",
    "There are two things to bare in mind with generators:\n",
    "\n",
    "1) A generator has no length and to determine how many entries it contains you first must turn it into a list.\n",
    "\n",
    "2) Once we use a generator, we cannot use it again and need to remake it. For this reason, we typically avoid \n",
    " storing the generator as a variable and instead use the aggregator to create them on use.\n",
    "\n",
    "We can now create a `samples` generator of every fit. As we saw in the `result.py` example scripts, an instance of \n",
    "the `Samples` class acts as an interface to the results of the non-linear search."
   ]
  },
  {
   "cell_type": "code",
   "execution_count": 3,
   "metadata": {
    "execution": {
     "iopub.execute_input": "2021-05-11T19:03:46.764165Z",
     "iopub.status.busy": "2021-05-11T19:03:46.763794Z",
     "iopub.status.idle": "2021-05-11T19:03:46.800206Z",
     "shell.execute_reply": "2021-05-11T19:03:46.799818Z"
    }
   },
   "outputs": [],
   "source": [
    "samples_gen = agg.values(\"samples\")"
   ]
  },
  {
   "cell_type": "markdown",
   "metadata": {},
   "source": [
    "When we print this list of outputs you should see over 3 different `NestSamples` instances, corresponding to the 3\n",
    "model-fits we performed in the previous tutorial."
   ]
  },
  {
   "cell_type": "code",
   "execution_count": 4,
   "metadata": {
    "execution": {
     "iopub.execute_input": "2021-05-11T19:03:46.803172Z",
     "iopub.status.busy": "2021-05-11T19:03:46.802806Z",
     "iopub.status.idle": "2021-05-11T19:03:46.805419Z",
     "shell.execute_reply": "2021-05-11T19:03:46.805077Z"
    }
   },
   "outputs": [
    {
     "name": "stdout",
     "output_type": "stream",
     "text": [
      "Emcee Samples:\n",
      "\n",
      "[<autofit.non_linear.nest.dynesty.DynestySamples object at 0x7f07590bd700>, <autofit.non_linear.nest.dynesty.DynestySamples object at 0x7f074d814ca0>, <autofit.non_linear.nest.dynesty.DynestySamples object at 0x7f074d7b7070>]\n",
      "Total Samples Objects =  3 \n",
      "\n"
     ]
    }
   ],
   "source": [
    "print(\"Emcee Samples:\\n\")\n",
    "print(samples_gen)\n",
    "print(\"Total Samples Objects = \", len(list(samples_gen)), \"\\n\")"
   ]
  },
  {
   "cell_type": "markdown",
   "metadata": {},
   "source": [
    "We've encountered the `Samples` class in previous tutorials. As we saw in chapter 1, the `Samples` class contains all \n",
    "the accepted parameter samples of the `NonLinearSearch`, which is a list of lists where:\n",
    "\n",
    " - The outer list is the size of the total number of samples.\n",
    " - The inner list is the size of the number of free parameters in the fit.\n",
    "\n",
    "With the `Aggregator` we can now get information on the `Samples` of all 3 model-fits, as opposed to just 1 fit using \n",
    "its `Result` object."
   ]
  },
  {
   "cell_type": "code",
   "execution_count": 5,
   "metadata": {
    "execution": {
     "iopub.execute_input": "2021-05-11T19:03:46.863656Z",
     "iopub.status.busy": "2021-05-11T19:03:46.857817Z",
     "iopub.status.idle": "2021-05-11T19:03:46.865951Z",
     "shell.execute_reply": "2021-05-11T19:03:46.866327Z"
    }
   },
   "outputs": [
    {
     "name": "stdout",
     "output_type": "stream",
     "text": [
      "All parameters of the very first sample\n",
      "[36.84924790106425, 88.61405963592635, 12.233001908814078]\n",
      "The tenth sample`s third parameter\n",
      "5.034953669402292\n",
      "\n",
      "All parameters of the very first sample\n",
      "[3.413276724386216, 81.04569353441282, 4.955933939647583]\n",
      "The tenth sample`s third parameter\n",
      "19.136945913191713\n",
      "\n",
      "All parameters of the very first sample\n",
      "[73.52289291936378, 68.55836591210458, 8.543967207428743]\n",
      "The tenth sample`s third parameter\n",
      "5.6366431651051725\n",
      "\n"
     ]
    }
   ],
   "source": [
    "for samples in agg.values(\"samples\"):\n",
    "    print(\"All parameters of the very first sample\")\n",
    "    print(samples.parameter_lists[0])\n",
    "    print(\"The tenth sample`s third parameter\")\n",
    "    print(samples.parameter_lists[9][2])\n",
    "    print()"
   ]
  },
  {
   "cell_type": "markdown",
   "metadata": {},
   "source": [
    "We can use the `Aggregator` to get information on the `log_likelihood_list`, log_prior_list`, `weight_list`, etc. of every fit."
   ]
  },
  {
   "cell_type": "code",
   "execution_count": 6,
   "metadata": {
    "execution": {
     "iopub.execute_input": "2021-05-11T19:03:46.879904Z",
     "iopub.status.busy": "2021-05-11T19:03:46.879499Z",
     "iopub.status.idle": "2021-05-11T19:03:46.885136Z",
     "shell.execute_reply": "2021-05-11T19:03:46.885436Z"
    }
   },
   "outputs": [
    {
     "name": "stdout",
     "output_type": "stream",
     "text": [
      "log(likelihood), log(prior), log(posterior) and weight of the tenth sample.\n",
      "-12190.099272381121\n",
      "0.5707731752619661\n",
      "-12189.528499205859\n",
      "0.0\n",
      "\n",
      "log(likelihood), log(prior), log(posterior) and weight of the tenth sample.\n",
      "-6302.971835464521\n",
      "1.706897963375157\n",
      "-6301.264937501146\n",
      "0.0\n",
      "\n",
      "log(likelihood), log(prior), log(posterior) and weight of the tenth sample.\n",
      "-57583.08458442775\n",
      "0.45312848340482015\n",
      "-57582.63145594434\n",
      "0.0\n",
      "\n"
     ]
    }
   ],
   "source": [
    "for samples in agg.values(\"samples\"):\n",
    "    print(\"log(likelihood), log(prior), log(posterior) and weight of the tenth sample.\")\n",
    "    print(samples.log_likelihood_list[9])\n",
    "    print(samples.log_prior_list[9])\n",
    "    print(samples.log_posterior_list[9])\n",
    "    print(samples.weight_list[9])\n",
    "    print()"
   ]
  },
  {
   "cell_type": "markdown",
   "metadata": {},
   "source": [
    "We can use the `Sample`'s to create a list of the `max_log_likelihood_vector` of each fit to our three images."
   ]
  },
  {
   "cell_type": "code",
   "execution_count": 7,
   "metadata": {
    "execution": {
     "iopub.execute_input": "2021-05-11T19:03:46.898844Z",
     "iopub.status.busy": "2021-05-11T19:03:46.896791Z",
     "iopub.status.idle": "2021-05-11T19:03:46.901262Z",
     "shell.execute_reply": "2021-05-11T19:03:46.901550Z"
    }
   },
   "outputs": [
    {
     "name": "stdout",
     "output_type": "stream",
     "text": [
      "Maximum Log Likelihood Parameter Lists:\n",
      "\n",
      "[[49.95701332619952, 24.708625099691133, 4.962061899746135], [50.033899327147545, 24.60400912412349, 9.960214563402404], [49.99577420273339, 25.007511431838505, 0.9986827646170955]] \n",
      "\n"
     ]
    }
   ],
   "source": [
    "vector = [samps.max_log_likelihood_vector for samps in agg.values(\"samples\")]\n",
    "print(\"Maximum Log Likelihood Parameter Lists:\\n\")\n",
    "print(vector, \"\\n\")"
   ]
  },
  {
   "cell_type": "markdown",
   "metadata": {},
   "source": [
    "As discussed in chapter 1, vectors are not ideal because we can`t be sure which values correspond to which parameters.\n",
    "\n",
    "We can use the `Aggregator` to create the `max_log_likelihood_instance` of every fit."
   ]
  },
  {
   "cell_type": "code",
   "execution_count": 8,
   "metadata": {
    "execution": {
     "iopub.execute_input": "2021-05-11T19:03:46.913256Z",
     "iopub.status.busy": "2021-05-11T19:03:46.912863Z",
     "iopub.status.idle": "2021-05-11T19:03:46.917428Z",
     "shell.execute_reply": "2021-05-11T19:03:46.917701Z"
    }
   },
   "outputs": [
    {
     "name": "stdout",
     "output_type": "stream",
     "text": [
      "Maximum Log Likelihood Model Instances:\n",
      "\n",
      "[<autofit.mapper.model.ModelInstance object at 0x7f074d427a30>, <autofit.mapper.model.ModelInstance object at 0x7f074d442b20>, <autofit.mapper.model.ModelInstance object at 0x7f074d8c6f10>] \n",
      "\n"
     ]
    }
   ],
   "source": [
    "instances = [samps.max_log_likelihood_instance for samps in agg.values(\"samples\")]\n",
    "print(\"Maximum Log Likelihood Model Instances:\\n\")\n",
    "print(instances, \"\\n\")"
   ]
  },
  {
   "cell_type": "markdown",
   "metadata": {},
   "source": [
    "The model instance contains all the model components of our fit which for the fits above was a single `Gaussian`\n",
    "profile (the word `gaussian` comes from what we called it in the `Collection` above)."
   ]
  },
  {
   "cell_type": "code",
   "execution_count": 9,
   "metadata": {
    "execution": {
     "iopub.execute_input": "2021-05-11T19:03:46.920522Z",
     "iopub.status.busy": "2021-05-11T19:03:46.920152Z",
     "iopub.status.idle": "2021-05-11T19:03:46.922355Z",
     "shell.execute_reply": "2021-05-11T19:03:46.922626Z"
    }
   },
   "outputs": [
    {
     "name": "stdout",
     "output_type": "stream",
     "text": [
      "<profiles.Gaussian object at 0x7f07653d3c70>\n",
      "<profiles.Gaussian object at 0x7f074d8c6970>\n",
      "<profiles.Gaussian object at 0x7f074d458670>\n"
     ]
    }
   ],
   "source": [
    "print(instances[0].gaussian)\n",
    "print(instances[1].gaussian)\n",
    "print(instances[2].gaussian)"
   ]
  },
  {
   "cell_type": "markdown",
   "metadata": {},
   "source": [
    "This, of course, gives us access to any individual parameter of our maximum log likelihood `instance`. Below, we see \n",
    "that the 3 `Gaussian`s were simulated using `sigma` values of 1.0, 5.0 and 10.0."
   ]
  },
  {
   "cell_type": "code",
   "execution_count": 10,
   "metadata": {
    "execution": {
     "iopub.execute_input": "2021-05-11T19:03:46.925404Z",
     "iopub.status.busy": "2021-05-11T19:03:46.925022Z",
     "iopub.status.idle": "2021-05-11T19:03:46.926936Z",
     "shell.execute_reply": "2021-05-11T19:03:46.927203Z"
    }
   },
   "outputs": [
    {
     "name": "stdout",
     "output_type": "stream",
     "text": [
      "4.962061899746135\n",
      "9.960214563402404\n",
      "0.9986827646170955\n"
     ]
    }
   ],
   "source": [
    "print(instances[0].gaussian.sigma)\n",
    "print(instances[1].gaussian.sigma)\n",
    "print(instances[2].gaussian.sigma)"
   ]
  },
  {
   "cell_type": "markdown",
   "metadata": {},
   "source": [
    "We can also access the `median_pdf` model via the `Aggregator`, as we saw for the `Samples` object in chapter 1."
   ]
  },
  {
   "cell_type": "code",
   "execution_count": 11,
   "metadata": {
    "execution": {
     "iopub.execute_input": "2021-05-11T19:03:46.939025Z",
     "iopub.status.busy": "2021-05-11T19:03:46.938638Z",
     "iopub.status.idle": "2021-05-11T19:03:47.015286Z",
     "shell.execute_reply": "2021-05-11T19:03:47.014848Z"
    }
   },
   "outputs": [
    {
     "name": "stdout",
     "output_type": "stream",
     "text": [
      "Median PDF Model Parameter Lists:\n",
      "\n",
      "[[49.9647491897095, 24.725240483538244, 4.969170457966852], [50.01586974668783, 24.591410683831093, 9.962087290315111], [49.99600046412087, 25.013128828427792, 0.9991830923435702]] \n",
      "\n",
      "Most probable Model Instances:\n",
      "\n",
      "[<autofit.mapper.model.ModelInstance object at 0x7f074d399940>, <autofit.mapper.model.ModelInstance object at 0x7f074d4d9ca0>, <autofit.mapper.model.ModelInstance object at 0x7f074d3995e0>] \n",
      "\n"
     ]
    }
   ],
   "source": [
    "mp_vectors = [samps.median_pdf_vector for samps in agg.values(\"samples\")]\n",
    "mp_instances = [samps.median_pdf_instance for samps in agg.values(\"samples\")]\n",
    "\n",
    "print(\"Median PDF Model Parameter Lists:\\n\")\n",
    "print(mp_vectors, \"\\n\")\n",
    "print(\"Most probable Model Instances:\\n\")\n",
    "print(mp_instances, \"\\n\")"
   ]
  },
  {
   "cell_type": "markdown",
   "metadata": {},
   "source": [
    "We can also print the `model_results` of all searchs, which is string that summarizes every fit`s model providing\n",
    "quick inspection of all results."
   ]
  },
  {
   "cell_type": "code",
   "execution_count": 12,
   "metadata": {
    "execution": {
     "iopub.execute_input": "2021-05-11T19:03:47.018112Z",
     "iopub.status.busy": "2021-05-11T19:03:47.017703Z",
     "iopub.status.idle": "2021-05-11T19:03:47.020764Z",
     "shell.execute_reply": "2021-05-11T19:03:47.021100Z"
    }
   },
   "outputs": [
    {
     "name": "stdout",
     "output_type": "stream",
     "text": [
      "Model Results Summary:\n",
      "\n",
      "o.id IN (SELECT parent_id FROM object AS o WHERE o.name = 'model_results') \n",
      "\n"
     ]
    }
   ],
   "source": [
    "results = agg.model_results\n",
    "print(\"Model Results Summary:\\n\")\n",
    "print(results, \"\\n\")"
   ]
  },
  {
   "cell_type": "markdown",
   "metadata": {},
   "source": [
    "Lets end the tutorial with something more ambitious. Lets create a plot of the inferred `sigma` values vs `intensity` \n",
    "of each `Gaussian` profile, including error bars at $3\\sigma$ confidence."
   ]
  },
  {
   "cell_type": "code",
   "execution_count": 13,
   "metadata": {
    "execution": {
     "iopub.execute_input": "2021-05-11T19:03:47.040253Z",
     "iopub.status.busy": "2021-05-11T19:03:47.039814Z",
     "iopub.status.idle": "2021-05-11T19:03:47.273132Z",
     "shell.execute_reply": "2021-05-11T19:03:47.273448Z"
    }
   },
   "outputs": [
    {
     "data": {
      "image/png": "[encoded data removed]",
      "text/plain": [
       "<Figure size 432x288 with 1 Axes>"
      ]
     },
     "metadata": {
      "needs_background": "light"
     },
     "output_type": "display_data"
    }
   ],
   "source": [
    "import matplotlib.pyplot as plt\n",
    "\n",
    "mp_instances = [samps.median_pdf_instance for samps in agg.values(\"samples\")]\n",
    "ue3_instances = [\n",
    "    samp.error_instance_at_upper_sigma(sigma=3.0) for samp in agg.values(\"samples\")\n",
    "]\n",
    "le3_instances = [\n",
    "    samp.error_instance_at_lower_sigma(sigma=3.0) for samp in agg.values(\"samples\")\n",
    "]\n",
    "\n",
    "mp_sigmas = [instance.gaussian.sigma for instance in mp_instances]\n",
    "ue3_sigmas = [instance.gaussian.sigma for instance in ue3_instances]\n",
    "le3_sigmas = [instance.gaussian.sigma for instance in le3_instances]\n",
    "mp_intensitys = [instance.gaussian.intensity for instance in mp_instances]\n",
    "ue3_intensitys = [instance.gaussian.intensity for instance in ue3_instances]\n",
    "le3_intensitys = [instance.gaussian.intensity for instance in le3_instances]\n",
    "\n",
    "plt.errorbar(\n",
    "    x=mp_sigmas,\n",
    "    y=mp_intensitys,\n",
    "    marker=\".\",\n",
    "    linestyle=\"\",\n",
    "    xerr=[le3_sigmas, ue3_sigmas],\n",
    "    yerr=[le3_intensitys, ue3_intensitys],\n",
    ")\n",
    "plt.show()"
   ]
  },
  {
   "cell_type": "markdown",
   "metadata": {},
   "source": [
    "With that, tutorial 2 is complete. \n",
    "\n",
    "The take home point of this tutorial is that everything that is available in a `Result` or `Samples` object is \n",
    "accessible via the `Aggregator`. "
   ]
  },
  {
   "cell_type": "code",
   "execution_count": null,
   "metadata": {},
   "outputs": [],
   "source": []
  }
 ],
 "metadata": {
  "anaconda-cloud": {},
  "kernelspec": {
   "display_name": "Python 3",
   "language": "python",
   "name": "python3"
  },
  "language_info": {
   "codemirror_mode": {
    "name": "ipython",
    "version": 3
   },
   "file_extension": ".py",
   "mimetype": "text/x-python",
   "name": "python",
   "nbconvert_exporter": "python",
   "pygments_lexer": "ipython3",
   "version": "3.8.5"
  }
 },
 "nbformat": 4,
 "nbformat_minor": 4
}
